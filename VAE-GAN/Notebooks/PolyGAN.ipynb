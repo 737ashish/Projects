{
  "cells": [
    {
      "cell_type": "code",
      "execution_count": null,
      "metadata": {
        "id": "Gu8z5f63I3pC"
      },
      "outputs": [],
      "source": [
        "import torch\n",
        "import torch.nn as nn\n",
        "import torch.nn.functional as F\n",
        "from torch.autograd import Variable\n",
        "\n",
        "import torchvision\n",
        "from torchvision import datasets\n",
        "from torchvision import transforms\n",
        "from torchvision.utils import save_image\n",
        "from torchsummary import summary\n",
        "\n",
        "\n",
        "from random import randint\n",
        "\n",
        "from IPython.display import Image\n",
        "from IPython.core.display import Image, display\n",
        "\n",
        "#from vae import Flatten, UnFlatten, VAE"
      ]
    },
    {
      "cell_type": "code",
      "execution_count": null,
      "metadata": {
        "id": "5DS3mYYEcl8K"
      },
      "outputs": [],
      "source": [
        "import torch.nn as nn\n",
        "\n",
        "input_size = 128\n",
        "num_classes = 256\n",
        "\n",
        "# Logistic regression model\n",
        "model = nn.Linear(input_size, num_classes)"
      ]
    },
    {
      "cell_type": "code",
      "execution_count": null,
      "metadata": {
        "colab": {
          "base_uri": "https://localhost:8080/"
        },
        "id": "wvi0mgGudVyB",
        "outputId": "7757e8de-025a-432d-c43a-64c67254e995"
      },
      "outputs": [
        {
          "name": "stdout",
          "output_type": "stream",
          "text": [
            "torch.Size([256, 128])\n"
          ]
        },
        {
          "data": {
            "text/plain": [
              "<function Parameter.type>"
            ]
          },
          "execution_count": 9,
          "metadata": {},
          "output_type": "execute_result"
        }
      ],
      "source": [
        "print(model.weight.shape)\n",
        "model.weight.type"
      ]
    },
    {
      "cell_type": "code",
      "execution_count": null,
      "metadata": {
        "colab": {
          "base_uri": "https://localhost:8080/"
        },
        "id": "LRY2TkRYdZeN",
        "outputId": "dcd5e012-87a5-4fa6-a090-a2f66c2b1438"
      },
      "outputs": [
        {
          "name": "stdout",
          "output_type": "stream",
          "text": [
            "torch.Size([256])\n"
          ]
        }
      ],
      "source": [
        "print(model.bias.shape)\n",
        "#model.bias"
      ]
    },
    {
      "cell_type": "code",
      "execution_count": null,
      "metadata": {
        "id": "zCuXLRdxdb5n"
      },
      "outputs": [],
      "source": [
        "model.weight = nn.parameter.Parameter(torch.randn((256, 128)))"
      ]
    },
    {
      "cell_type": "code",
      "execution_count": null,
      "metadata": {
        "id": "4QTpChk8eqPd"
      },
      "outputs": [],
      "source": [
        "nn.parameter.Parameter()"
      ]
    },
    {
      "cell_type": "code",
      "execution_count": null,
      "metadata": {
        "id": "TMOmyaD2f68b"
      },
      "outputs": [],
      "source": [
        "model.bias"
      ]
    },
    {
      "cell_type": "code",
      "execution_count": null,
      "metadata": {
        "id": "ABGYRw0FpNTV"
      },
      "outputs": [],
      "source": [
        "k = 256\n",
        "d = 128\n",
        "o = 256"
      ]
    },
    {
      "cell_type": "code",
      "execution_count": null,
      "metadata": {
        "id": "aPOdAKaXf9Cb"
      },
      "outputs": [],
      "source": [
        "U1 = torch.randn((k, d))"
      ]
    },
    {
      "cell_type": "code",
      "execution_count": null,
      "metadata": {
        "id": "FBoQb2GHge78"
      },
      "outputs": [],
      "source": [
        "U2 = torch.randn((k, d))"
      ]
    },
    {
      "cell_type": "code",
      "execution_count": null,
      "metadata": {
        "id": "EZ8OVaDupktl"
      },
      "outputs": [],
      "source": [
        "C = torch.randn((o, k))"
      ]
    },
    {
      "cell_type": "code",
      "execution_count": null,
      "metadata": {
        "colab": {
          "base_uri": "https://localhost:8080/"
        },
        "id": "T8WDo4WroAqg",
        "outputId": "42479f97-d193-411d-c481-a047069f7003"
      },
      "outputs": [
        {
          "data": {
            "text/plain": [
              "torch.Size([256, 128])"
            ]
          },
          "execution_count": 32,
          "metadata": {},
          "output_type": "execute_result"
        }
      ],
      "source": [
        "(U1*U2).shape"
      ]
    },
    {
      "cell_type": "code",
      "execution_count": null,
      "metadata": {
        "id": "Y-M0m3ZinXbJ"
      },
      "outputs": [],
      "source": [
        "layer_U1 = nn.Linear(d, k, bias=False)\n",
        "layer_U2 = nn.Linear(d, k, bias=False)\n",
        "layer_U3 = nn.Linear(d, k, bias=False)\n",
        "layer_C = nn.Linear(k, o)"
      ]
    },
    {
      "cell_type": "code",
      "execution_count": null,
      "metadata": {
        "id": "Db-vd8KsnV4p"
      },
      "outputs": [],
      "source": [
        "layer_U1.weight = nn.parameter.Parameter(U1)"
      ]
    },
    {
      "cell_type": "code",
      "execution_count": null,
      "metadata": {
        "id": "bNTm8Awwnx_S"
      },
      "outputs": [],
      "source": [
        "layer_U2.weight = nn.parameter.Parameter(U2)"
      ]
    },
    {
      "cell_type": "code",
      "execution_count": null,
      "metadata": {
        "id": "TvvsIqZQqjd2"
      },
      "outputs": [],
      "source": [
        "layer_C.weight = nn.parameter.Parameter(C)"
      ]
    },
    {
      "cell_type": "code",
      "execution_count": null,
      "metadata": {
        "id": "wONfMQsOoMH2"
      },
      "outputs": [],
      "source": [
        "input = torch.randn((d))"
      ]
    },
    {
      "cell_type": "code",
      "execution_count": null,
      "metadata": {
        "id": "YF1XPEOBoujs"
      },
      "outputs": [],
      "source": [
        "out_U1 = layer_U1(input)\n",
        "out_U2 = layer_U2(input)\n",
        "out_U3 = layer_U3(input)\n",
        "out_U12 = out_U1*out_U2\n",
        "in_U3 = out_U1 + out_U12\n",
        "in_C = out_U3*in_U3 + in_U3"
      ]
    },
    {
      "cell_type": "code",
      "execution_count": null,
      "metadata": {
        "id": "PedP56wsuMuL"
      },
      "outputs": [],
      "source": [
        "out = layer_C(in_C)"
      ]
    },
    {
      "cell_type": "code",
      "execution_count": null,
      "metadata": {
        "id": "MKs67Dnt5nFB"
      },
      "outputs": [],
      "source": [
        "class Poly_GeneratorL3(nn.Module):\n",
        "  def __init__(self, d, k, o):\n",
        "    super(Poly_GeneratorL3, self).__init__()\n",
        "    self.layer_U1 = nn.Linear(d, k, bias=False)\n",
        "    self.layer_U2 = nn.Linear(d, k, bias=False)\n",
        "    self.layer_U3 = nn.Linear(d, k, bias=False)\n",
        "    self.layer_C = nn.Linear(k, o)\n",
        "   #[-1, 1] \n",
        "\n",
        "\n",
        "  def forward(self, z):\n",
        "    out_U1 = self.layer_U1(z)\n",
        "    out_U2 = self.layer_U2(z)\n",
        "    out_U3 = self.layer_U3(z)\n",
        "    out_U12 = out_U1*out_U2\n",
        "    in_U3 = out_U1 + out_U12\n",
        "    in_C = out_U3*in_U3 + in_U3\n",
        "    x = self.layer_C(in_C)\n",
        "    return x"
      ]
    },
    {
      "cell_type": "code",
      "execution_count": null,
      "metadata": {
        "id": "Pb1gOFkC_cG3"
      },
      "outputs": [],
      "source": [
        "poly_gen = Poly_GeneratorL3(128, 256, 256)"
      ]
    },
    {
      "cell_type": "code",
      "execution_count": null,
      "metadata": {
        "id": "j-3sAkiZA6sr"
      },
      "outputs": [],
      "source": [
        "out = poly_gen(torch.randn((128)))"
      ]
    },
    {
      "cell_type": "code",
      "execution_count": null,
      "metadata": {
        "id": "rz46OVehBMfo"
      },
      "outputs": [],
      "source": [
        "class NCP_L3(nn.Module):\n",
        "  def __init__(self, d, k, o, w):\n",
        "    super(Poly_GeneratorL3, self).__init__()\n",
        "    self.layer_b1 = torch.nn.Parameter(torch.randn(w))\n",
        "    self.layer_b2 = torch.nn.Parameter(torch.randn(w))\n",
        "    self.layer_b3 = torch.nn.Parameter(torch.randn(w))\n",
        "    self.layer_A1 = nn.Linear(d, k, bias=False)\n",
        "    self.layer_A2 = nn.Linear(d, k, bias=False)\n",
        "    self.layer_A3 = nn.Linear(d, k, bias=False)np\n",
        "    self.layer_B1 = nn.Linear(d, k, bias=False)\n",
        "    self.layer_B2 = nn.Linear(d, k, bias=False)\n",
        "    self.layer_B3 = nn.Linear(d, k, bias=False)\n",
        "    self.layer_C = nn.Linear(k, o)\n",
        "   #[-1, 1] \n",
        "\n",
        "\n",
        "  def forward(self, z):\n",
        "    out_U1 = self.layer_U1(z)\n",
        "    out_U2 = self.layer_U2(z)\n",
        "    out_U3 = self.layer_U3(z)\n",
        "    out_U12 = out_U1*out_U2\n",
        "    in_U3 = out_U1 + out_U12\n",
        "    in_C = out_U3*in_U3 + in_U3\n",
        "    x = self.layer_C(in_C)\n",
        "    return x"
      ]
    },
    {
      "cell_type": "code",
      "execution_count": null,
      "metadata": {
        "id": "Jw1XNFHKpKq-"
      },
      "outputs": [],
      "source": [
        "class BiasLayer(torch.nn.Module):\n",
        "    def __init__(self) -> None:\n",
        "        super().__init__()\n",
        "        bias_value = torch.randn((1))\n",
        "        self.bias_layer = torch.nn.Parameter(bias_value)\n",
        "    \n",
        "    def forward(self, x):\n",
        "        return x + self.bias_layer"
      ]
    },
    {
      "cell_type": "code",
      "execution_count": null,
      "metadata": {
        "id": "snrkY92OitCV"
      },
      "outputs": [],
      "source": [
        "import torch\n",
        "from torch.distributions import Categorical\n",
        "from skimage import io\n",
        "\n",
        "# Load the image\n",
        "image = io.imread('image.jpg')\n",
        "\n",
        "# Convert the image to grayscale\n",
        "gray_image = rgb2gray(image)\n",
        "\n",
        "# Convert the image to a 1D tensor\n",
        "gray_image = torch.from_numpy(gray_image).view(-1)\n",
        "\n",
        "# Compute the probability of each pixel value\n",
        "prob = Categorical(torch.histc(gray_image, bins=256, min=0, max=255) + 1e-6)\n",
        "\n",
        "# Compute the entropy\n",
        "entropy = -torch.sum(prob.log_prob(gray_image))\n",
        "\n",
        "print('Entropy of the image:', entropy)\n"
      ]
    }
  ],
  "metadata": {
    "colab": {
      "provenance": []
    },
    "kernelspec": {
      "display_name": "Python 3",
      "language": "python",
      "name": "python3"
    },
    "language_info": {
      "name": "python",
      "version": "3.8.10 (default, Nov 14 2022, 12:59:47) \n[GCC 9.4.0]"
    },
    "vscode": {
      "interpreter": {
        "hash": "916dbcbb3f70747c44a77c7bcd40155683ae19c65e1c03b4aa3499c5328201f1"
      }
    }
  },
  "nbformat": 4,
  "nbformat_minor": 0
}
