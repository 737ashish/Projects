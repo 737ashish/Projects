{
 "cells": [
  {
   "cell_type": "code",
   "execution_count": 14,
   "metadata": {},
   "outputs": [],
   "source": [
    "import torch\n",
    "import torch.nn as nn\n",
    "import torch.nn.functional as F\n",
    "from torch.autograd import Variable\n",
    "from torch.utils.data import TensorDataset\n",
    "\n",
    "import torchvision\n",
    "from torchvision import datasets\n",
    "from torchvision import transforms\n",
    "from torchvision.utils import save_image\n",
    "from torchsummary import summary\n",
    "\n",
    "from random import randint\n",
    "\n",
    "from polynomial_nets import CP_L3, CP_L3_sparse, NCP_L3, CP, Chebyshev, Chebyshev_L3\n",
    "\n",
    "from poly_VAE import Flatten, UnFlatten, VAE_CP_L3, VAE_CP_L3_sparse, VAE_CP_L3_sparse_LU, loss_fn\n",
    "from torchvision.datasets import MNIST\n",
    "from torch.utils.data import DataLoader\n",
    "from torch.utils.data import random_split\n",
    "\n",
    "import matplotlib.pyplot as plt\n",
    "from torchvision.utils import make_grid\n",
    "import pandas as pd\n",
    "\n",
    "import uqtestfuns as uqtf\n",
    "import numpy as np\n",
    "from sklearn.preprocessing import MinMaxScaler"
   ]
  },
  {
   "cell_type": "code",
   "execution_count": 15,
   "metadata": {},
   "outputs": [],
   "source": [
    "#list(zip(*ind))"
   ]
  },
  {
   "cell_type": "code",
   "execution_count": 16,
   "metadata": {},
   "outputs": [],
   "source": [
    "#sum_array = np.vstack(tuple(sum_list))"
   ]
  },
  {
   "cell_type": "code",
   "execution_count": 17,
   "metadata": {},
   "outputs": [],
   "source": [
    "#np.unique(np.array(sum_array), axis=0)"
   ]
  },
  {
   "cell_type": "code",
   "execution_count": 18,
   "metadata": {},
   "outputs": [],
   "source": [
    "dim = 50\n",
    "mi1 = np.eye((dim), dtype=int)\n",
    "mi2 = np.eye((dim), dtype=int)"
   ]
  },
  {
   "cell_type": "code",
   "execution_count": 19,
   "metadata": {},
   "outputs": [
    {
     "data": {
      "text/plain": [
       "dtype('int64')"
      ]
     },
     "execution_count": 19,
     "metadata": {},
     "output_type": "execute_result"
    }
   ],
   "source": [
    "mi1.dtype"
   ]
  },
  {
   "cell_type": "code",
   "execution_count": 20,
   "metadata": {},
   "outputs": [],
   "source": [
    "def prod_multi_index(mi1, mi2):\n",
    "    sum_list = []\n",
    "    for i in mi2:\n",
    "        tile = np.tile(i, (len(mi1),1))\n",
    "        sum = mi1 + tile\n",
    "        sum_list = sum_list + [sum]\n",
    "        sum_array = np.vstack(tuple(sum_list))\n",
    "        mi3 = np.unique(np.array(sum_array), axis=0)\n",
    "    return mi3"
   ]
  },
  {
   "cell_type": "code",
   "execution_count": 21,
   "metadata": {},
   "outputs": [],
   "source": [
    "def prod_multi_index2(mi1, mi2):\n",
    "    sum_list = []\n",
    "    for i in mi2:\n",
    "        sum = mi1 + i\n",
    "        sum_list.append(sum)\n",
    "    sum_array = np.vstack(tuple(sum_list))\n",
    "    mi3 = np.unique(np.array(sum_array), axis=0)\n",
    "    return mi3"
   ]
  },
  {
   "cell_type": "code",
   "execution_count": 22,
   "metadata": {},
   "outputs": [],
   "source": [
    "mi31 = prod_multi_index(mi1, mi2)"
   ]
  },
  {
   "cell_type": "code",
   "execution_count": 23,
   "metadata": {},
   "outputs": [],
   "source": [
    "mi32 = prod_multi_index2(mi1, mi2)"
   ]
  },
  {
   "cell_type": "code",
   "execution_count": 24,
   "metadata": {},
   "outputs": [
    {
     "data": {
      "text/plain": [
       "0"
      ]
     },
     "execution_count": 24,
     "metadata": {},
     "output_type": "execute_result"
    }
   ],
   "source": [
    "np.max(mi31 - mi32)"
   ]
  },
  {
   "cell_type": "code",
   "execution_count": 25,
   "metadata": {},
   "outputs": [],
   "source": [
    "#mi4 = prod_multi_index(mi3, mi1)"
   ]
  },
  {
   "cell_type": "code",
   "execution_count": 27,
   "metadata": {},
   "outputs": [],
   "source": [
    "#mi4"
   ]
  },
  {
   "cell_type": "code",
   "execution_count": 28,
   "metadata": {},
   "outputs": [],
   "source": [
    "def add_multi_index(mi1, mi2):\n",
    "    mi3 = np.unique(np.vstack((mi1, mi2)), axis=0)\n",
    "    return mi3\n"
   ]
  },
  {
   "cell_type": "code",
   "execution_count": 29,
   "metadata": {},
   "outputs": [],
   "source": [
    "mi3 = np.unique(np.vstack((mi1, mi2)), axis=0)"
   ]
  },
  {
   "cell_type": "code",
   "execution_count": 30,
   "metadata": {},
   "outputs": [
    {
     "name": "stdout",
     "output_type": "stream",
     "text": [
      "2\n",
      "3\n"
     ]
    }
   ],
   "source": [
    "degree = 3\n",
    "dimension = 2\n",
    "mi1 = np.eye((dimension))\n",
    "mi = mi1\n",
    "for i in range(2, degree + 1):\n",
    "    mi = add_multi_index(prod_multi_index2(mi, mi1), mi)\n",
    "    print(i)"
   ]
  },
  {
   "cell_type": "code",
   "execution_count": 31,
   "metadata": {},
   "outputs": [],
   "source": [
    "rank = 1\n",
    "output_dim = 1\n",
    "model = CP(degree, dimension, rank, output_dim)\n",
    "model = Chebyshev(degree, dimension, rank, output_dim)"
   ]
  },
  {
   "cell_type": "code",
   "execution_count": 32,
   "metadata": {},
   "outputs": [
    {
     "data": {
      "text/plain": [
       "polynomial_nets.Chebyshev"
      ]
     },
     "execution_count": 32,
     "metadata": {},
     "output_type": "execute_result"
    }
   ],
   "source": [
    "model.__class__"
   ]
  },
  {
   "cell_type": "code",
   "execution_count": 33,
   "metadata": {},
   "outputs": [
    {
     "name": "stdout",
     "output_type": "stream",
     "text": [
      "torch.Size([1, 2])\n",
      "torch.Size([1, 2])\n",
      "torch.Size([1, 2])\n",
      "torch.Size([1, 1])\n"
     ]
    }
   ],
   "source": [
    "list_p = []\n",
    "for name, p in model.named_parameters():  \n",
    "   if len(p.shape) == 2:\n",
    "      print(p.shape)\n",
    "      if p.shape[0] == rank and p.shape[1] == dimension:\n",
    "         list_p = list_p + [p]\n",
    "      \n"
   ]
  },
  {
   "cell_type": "code",
   "execution_count": 34,
   "metadata": {},
   "outputs": [],
   "source": [
    "sparse_list = []\n",
    "for p in list_p:\n",
    "    mask1 = p > 0.1 \n",
    "    mask2 = p < -0.1\n",
    "    mask3 =  (mask1 | mask2) \n",
    "    p = mask3 * p\n",
    "    sparse_list = sparse_list + [p]"
   ]
  },
  {
   "cell_type": "code",
   "execution_count": 35,
   "metadata": {},
   "outputs": [],
   "source": [
    "w = sparse_list[0]\n",
    "ind = torch.where(w[0] == 0)[0].numpy()\n",
    "mi_w = np.eye(w.shape[1])\n",
    "mi_w_s = np.delete(mi_w, ind, 0)"
   ]
  },
  {
   "cell_type": "code",
   "execution_count": 36,
   "metadata": {},
   "outputs": [],
   "source": [
    "sparse_mi = []\n",
    "for i in sparse_list:\n",
    "    ind = torch.where(i[0] == 0)[0].numpy()\n",
    "    mi_w = np.eye(i.shape[1])\n",
    "    mi_w_s = np.delete(mi_w, ind, 0)\n",
    "    sparse_mi = sparse_mi + [mi_w_s]\n"
   ]
  },
  {
   "cell_type": "code",
   "execution_count": 38,
   "metadata": {},
   "outputs": [
    {
     "name": "stdout",
     "output_type": "stream",
     "text": [
      "1\n"
     ]
    },
    {
     "ename": "ValueError",
     "evalue": "need at least one array to concatenate",
     "output_type": "error",
     "traceback": [
      "\u001b[0;31m---------------------------------------------------------------------------\u001b[0m",
      "\u001b[0;31mValueError\u001b[0m                                Traceback (most recent call last)",
      "Cell \u001b[0;32mIn[38], line 4\u001b[0m\n\u001b[1;32m      2\u001b[0m \u001b[39mfor\u001b[39;00m i \u001b[39min\u001b[39;00m \u001b[39mrange\u001b[39m(\u001b[39m1\u001b[39m, \u001b[39mlen\u001b[39m(sparse_mi)):\n\u001b[1;32m      3\u001b[0m     mi1 \u001b[39m=\u001b[39m sparse_mi[i]\n\u001b[0;32m----> 4\u001b[0m     mi_s \u001b[39m=\u001b[39m add_multi_index(prod_multi_index2(mi_s, mi1), mi_s)\n\u001b[1;32m      5\u001b[0m     \u001b[39mprint\u001b[39m(i)\n",
      "Cell \u001b[0;32mIn[21], line 6\u001b[0m, in \u001b[0;36mprod_multi_index2\u001b[0;34m(mi1, mi2)\u001b[0m\n\u001b[1;32m      4\u001b[0m     \u001b[39msum\u001b[39m \u001b[39m=\u001b[39m mi1 \u001b[39m+\u001b[39m i\n\u001b[1;32m      5\u001b[0m     sum_list\u001b[39m.\u001b[39mappend(\u001b[39msum\u001b[39m)\n\u001b[0;32m----> 6\u001b[0m sum_array \u001b[39m=\u001b[39m np\u001b[39m.\u001b[39;49mvstack(\u001b[39mtuple\u001b[39;49m(sum_list))\n\u001b[1;32m      7\u001b[0m mi3 \u001b[39m=\u001b[39m np\u001b[39m.\u001b[39munique(np\u001b[39m.\u001b[39marray(sum_array), axis\u001b[39m=\u001b[39m\u001b[39m0\u001b[39m)\n\u001b[1;32m      8\u001b[0m \u001b[39mreturn\u001b[39;00m mi3\n",
      "File \u001b[0;32m<__array_function__ internals>:180\u001b[0m, in \u001b[0;36mvstack\u001b[0;34m(*args, **kwargs)\u001b[0m\n",
      "File \u001b[0;32m~/Programs/miniconda3/envs/pytorch/lib/python3.10/site-packages/numpy/core/shape_base.py:282\u001b[0m, in \u001b[0;36mvstack\u001b[0;34m(tup)\u001b[0m\n\u001b[1;32m    280\u001b[0m \u001b[39mif\u001b[39;00m \u001b[39mnot\u001b[39;00m \u001b[39misinstance\u001b[39m(arrs, \u001b[39mlist\u001b[39m):\n\u001b[1;32m    281\u001b[0m     arrs \u001b[39m=\u001b[39m [arrs]\n\u001b[0;32m--> 282\u001b[0m \u001b[39mreturn\u001b[39;00m _nx\u001b[39m.\u001b[39;49mconcatenate(arrs, \u001b[39m0\u001b[39;49m)\n",
      "File \u001b[0;32m<__array_function__ internals>:180\u001b[0m, in \u001b[0;36mconcatenate\u001b[0;34m(*args, **kwargs)\u001b[0m\n",
      "\u001b[0;31mValueError\u001b[0m: need at least one array to concatenate"
     ]
    }
   ],
   "source": [
    "mi_s = sparse_mi[0]\n",
    "for i in range(1, len(sparse_mi)):\n",
    "    mi1 = sparse_mi[i]\n",
    "    mi_s = add_multi_index(prod_multi_index2(mi_s, mi1), mi_s)\n",
    "    print(i)"
   ]
  },
  {
   "cell_type": "code",
   "execution_count": null,
   "metadata": {},
   "outputs": [],
   "source": [
    "if isinstance(model, Chebyshev):\n",
    "   sd = model.state_dict\n",
    "   sparse_param = []\n",
    "   for name, p in model.named_parameters(): \n",
    "      #print(name)\n",
    "      if name != 'layer_C.weight' and name != 'layer_C.bias' and name != 'T0':\n",
    "         sparse_param = sparse_param + [p]\n",
    "         print(name)"
   ]
  },
  {
   "cell_type": "code",
   "execution_count": null,
   "metadata": {},
   "outputs": [],
   "source": [
    "if isinstance(model, Chebyshev):\n",
    "    sparse_mi = []\n",
    "    for i in sparse_param:\n",
    "        ind = torch.where(i[0] == 0)[0].to('cpu').detach().numpy()\n",
    "        mi_w = np.eye(i.shape[1])\n",
    "        mi_w_s = np.delete(mi_w, ind, 0)\n",
    "        sparse_mi = sparse_mi + [mi_w_s]\n"
   ]
  },
  {
   "cell_type": "code",
   "execution_count": null,
   "metadata": {},
   "outputs": [],
   "source": [
    "if isinstance(model, Chebyshev):\n",
    "    mi_list = []\n",
    "    \n",
    "    mi_s1 = sparse_mi[0]\n",
    "    mi_s0 = np.zeros(mi_s1.shape[1])\n",
    "    mi_list = mi_list + [mi_s1]\n",
    "    print(mi_s0)\n",
    "    for i in range(1, len(sparse_mi) + 1, 2):\n",
    "        mi_s0 = add_multi_index(prod_multi_index(mi_s1, sparse_mi[i]), mi_s0)\n",
    "        mi_list = mi_list + [mi_s0]\n",
    "        \n",
    "        if i == DEGREE - 1:\n",
    "            mi_s = mi_s0\n",
    "            break\n",
    "        else:  \n",
    "            print(i)         \n",
    "            mi_s1 = add_multi_index(prod_multi_index(mi_s0, sparse_mi[i+1]), mi_s1)\n",
    "            mi_list = mi_list + [mi_s1]\n",
    "            mi_s = mi_s1"
   ]
  },
  {
   "cell_type": "code",
   "execution_count": null,
   "metadata": {},
   "outputs": [],
   "source": []
  }
 ],
 "metadata": {
  "kernelspec": {
   "display_name": "pytorch",
   "language": "python",
   "name": "python3"
  },
  "language_info": {
   "codemirror_mode": {
    "name": "ipython",
    "version": 3
   },
   "file_extension": ".py",
   "mimetype": "text/x-python",
   "name": "python",
   "nbconvert_exporter": "python",
   "pygments_lexer": "ipython3",
   "version": "3.10.9"
  },
  "orig_nbformat": 4,
  "vscode": {
   "interpreter": {
    "hash": "542851ebc7f1b97dab2659843c1270f7c570d916e83d4380bfc02112104e2680"
   }
  }
 },
 "nbformat": 4,
 "nbformat_minor": 2
}
