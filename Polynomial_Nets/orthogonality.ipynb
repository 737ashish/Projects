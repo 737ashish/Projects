{
 "cells": [
  {
   "cell_type": "code",
   "execution_count": 73,
   "metadata": {},
   "outputs": [],
   "source": [
    "import numpy as np\n",
    "import minterpy as mp\n",
    "import minterpy_integration as mint\n",
    "import scipy.special as special\n",
    "from math import ceil\n",
    "from minterpy_integration.pointsandweights import point_generator\n",
    "from minterpy_integration.utils import cartesian_product"
   ]
  },
  {
   "cell_type": "code",
   "execution_count": 74,
   "metadata": {},
   "outputs": [],
   "source": [
    "def monomial_integral_cheb1st(exponents):\n",
    "    cond = exponents>0\n",
    "    term = np.ones(exponents.shape)*np.pi\n",
    "    term[cond] = np.sqrt(np.pi)/exponents[cond] * ((-1)**exponents[cond] + 1)*special.gamma((exponents[cond] + 1)/2)/special.gamma(exponents[cond]/2)\n",
    "    return np.prod(term,axis = 0)\n",
    "\n",
    "def monomial_integral_cheb2nd(exponents):\n",
    "    term = np.sqrt(np.pi)/4*((-1)**exponents + 1)*special.gamma((exponents + 1)/2)/special.gamma(exponents/2+2)\n",
    "    return np.prod(term, axis = 0)"
   ]
  },
  {
   "cell_type": "code",
   "execution_count": 75,
   "metadata": {},
   "outputs": [],
   "source": [
    "spatial_dimension = 2\n",
    "poly_degree = 10\n",
    "lp_degree = 2"
   ]
  },
  {
   "cell_type": "code",
   "execution_count": 76,
   "metadata": {},
   "outputs": [],
   "source": [
    "k = int(ceil((poly_degree-1)/2))  "
   ]
  },
  {
   "cell_type": "code",
   "execution_count": 77,
   "metadata": {},
   "outputs": [],
   "source": [
    "points_1d, weights_1d = point_generator('cheb1', k, True)"
   ]
  },
  {
   "cell_type": "code",
   "execution_count": 78,
   "metadata": {},
   "outputs": [],
   "source": [
    "#point_generator('cheb1', k, False)"
   ]
  },
  {
   "cell_type": "code",
   "execution_count": 79,
   "metadata": {},
   "outputs": [],
   "source": [
    "points_md = cartesian_product(*(points_1d,)* spatial_dimension)\n",
    "weights_md = cartesian_product(*(weights_1d,)* spatial_dimension).prod(axis=-1)\n",
    "\n",
    "\n"
   ]
  },
  {
   "cell_type": "code",
   "execution_count": 80,
   "metadata": {},
   "outputs": [],
   "source": [
    "np.savetxt('cheby_points_2d.csv', points_md, delimiter=',')\n",
    "np.savetxt('cheby_weights_2d.csv', weights_md, delimiter=',')\n"
   ]
  },
  {
   "cell_type": "code",
   "execution_count": null,
   "metadata": {},
   "outputs": [
    {
     "name": "stderr",
     "output_type": "stream",
     "text": [
      "/home/ashish-razer/Programs/miniconda3/envs/pytorch/lib/python3.10/site-packages/tqdm/auto.py:22: TqdmWarning: IProgress not found. Please update jupyter and ipywidgets. See https://ipywidgets.readthedocs.io/en/stable/user_install.html\n",
      "  from .autonotebook import tqdm as notebook_tqdm\n"
     ]
    }
   ],
   "source": [
    "import torch\n",
    "import torch.nn as nn\n",
    "import torch.nn.functional as F\n",
    "from torch.autograd import Variable\n",
    "from torch.utils.data import TensorDataset\n",
    "\n",
    "import torchvision\n",
    "from torchvision import datasets\n",
    "from torchvision import transforms\n",
    "from torchvision.utils import save_image\n",
    "from torchsummary import summary\n",
    "\n",
    "from random import randint\n",
    "\n",
    "from polynomial_nets import CP_L3, CP_L3_sparse, NCP_L3, CP, Chebyshev, Chebyshev_L3\n",
    "import polynomial_nets as pn\n",
    "import poly_utils as ut \n",
    "\n",
    "from poly_VAE import Flatten, UnFlatten, VAE_CP_L3, VAE_CP_L3_sparse, VAE_CP_L3_sparse_LU, loss_fn\n",
    "from torchvision.datasets import MNIST\n",
    "from torch.utils.data import DataLoader\n",
    "from torch.utils.data import random_split\n",
    "\n",
    "import matplotlib.pyplot as plt\n",
    "from torchvision.utils import make_grid\n",
    "import pandas as pd\n",
    "\n",
    "import uqtestfuns as uqtf\n",
    "import numpy as np\n",
    "from sklearn.preprocessing import MinMaxScaler\n",
    "from Cuda import DeviceDataLoader\n",
    "\n",
    "import torchquad\n",
    "from torchquad import MonteCarlo, VEGAS, set_up_backend\n"
   ]
  },
  {
   "cell_type": "code",
   "execution_count": null,
   "metadata": {},
   "outputs": [],
   "source": [
    "class Legendre(nn.Module):\n",
    "    def __init__(self, degree, d, k, o):\n",
    "        super(Legendre, self).__init__()        \n",
    "     \n",
    "        self.input_dimension = d \n",
    "        self.rank = k\n",
    "        self.output_dimension = o \n",
    "        self.degree = int(degree)\n",
    "        self.T0 = nn.Parameter(nn.Linear(k, 1).weight.to(torch.float32)[0])\n",
    "        for i in range(1, self.degree + 1):\n",
    "            setattr(self, 'T{}'.format(i), nn.Linear(self.input_dimension, self.rank, bias=False)) \n",
    "\n",
    "        self.layer_C = nn.Linear(self.rank, self.output_dimension, bias = False)\n",
    "\n",
    "\n",
    "    def forward(self, z):\n",
    "        z = z.reshape(-1, self.input_dimension)\n",
    "        out0 = self.T0\n",
    "        out1 = self.T1(z)\n",
    "        out_list = [out0] + [out1]\n",
    "        for i in range(2, self.degree + 1, 2):\n",
    "            out0 = ((2*i - 1)/(i))*getattr(self, 'T{}'.format(i))(z) * out1 - ((i - 1)/(i))*out0\n",
    "            out_list = out_list + [out0]\n",
    "            if i == self.degree:\n",
    "                x = self.layer_C(out_list[self.degree])\n",
    "                return x\n",
    "            else:\n",
    "                j = i + 1\n",
    "                out1 = ((2*j - 1)/(j))*getattr(self, 'T{}'.format(i + 1))(z) * out0 - ((j - 1)/(j))*out1\n",
    "                out_list = out_list + [out1]\n",
    "        x = self.layer_C(out_list[self.degree])\n",
    "        return x\n"
   ]
  },
  {
   "cell_type": "code",
   "execution_count": null,
   "metadata": {},
   "outputs": [],
   "source": [
    "def Norm_param(k, d):\n",
    "    P = abs(nn.Linear(d, k, bias = False).weight.detach().to(torch.float32))\n",
    "    P_sum = torch.sum(P, dim=1)\n",
    "    P_norm = P/P_sum.reshape(-1,1)\n",
    "    return P_norm"
   ]
  },
  {
   "cell_type": "code",
   "execution_count": null,
   "metadata": {},
   "outputs": [],
   "source": [
    "def Norm_param2(k, d):\n",
    "    P = torch.ones(k,d)\n",
    "    P_sum = torch.sum(P, dim=1)\n",
    "    P_norm = P/P_sum.reshape(-1,1)\n",
    "    return P_norm"
   ]
  },
  {
   "cell_type": "code",
   "execution_count": null,
   "metadata": {},
   "outputs": [],
   "source": [
    "class Legendre_test(nn.Module):\n",
    "    def __init__(self, degree, d, k, o):\n",
    "        super(Legendre_test, self).__init__()        \n",
    "     \n",
    "        self.input_dimension = d \n",
    "        self.rank = k\n",
    "        self.output_dimension = o \n",
    "        self.degree = int(degree)\n",
    "        self.T0 = nn.Parameter(torch.ones(k))\n",
    "        for i in range(1, self.degree + 1):\n",
    "            setattr(self, 'T{}'.format(i), nn.Parameter(Norm_param2(k,d)))\n",
    "\n",
    "        self.layer_C = nn.Parameter(torch.ones(self.output_dimension, self.rank))\n",
    "\n",
    "\n",
    "    def forward(self, z):\n",
    "        z = z.reshape(-1, self.input_dimension)\n",
    "        out0 = self.T0\n",
    "        out1 = torch.matmul(z, (self.T1).T)\n",
    "        out_list = [out0] + [out1]\n",
    "        for i in range(2, self.degree + 1, 2):\n",
    "            out0 = torch.matmul(z, ((2*i - 1)/(i))*getattr(self, 'T{}'.format(i)).T) * out1 - ((i - 1)/(i))*out0\n",
    "            out_list = out_list + [out0]\n",
    "            if i == self.degree:\n",
    "                x = torch.matmul(out_list[self.degree], self.layer_C.T)\n",
    "                return x\n",
    "            else:\n",
    "                j = i + 1\n",
    "                out1 = torch.matmul(z, ((2*j - 1)/(j))*getattr(self, 'T{}'.format(i + 1)).T) * out0 - ((j - 1)/(j))*out1\n",
    "                out_list = out_list + [out1]\n",
    "        x = torch.matmul(out_list[self.degree], self.layer_C.T)\n",
    "        return x"
   ]
  },
  {
   "cell_type": "code",
   "execution_count": null,
   "metadata": {},
   "outputs": [],
   "source": [
    "class Chebyshev_test(nn.Module):\n",
    "    def __init__(self, degree, d, k, o):\n",
    "        super(Chebyshev, self).__init__()        \n",
    "     \n",
    "        self.input_dimension = d \n",
    "        self.rank = k\n",
    "        self.output_dimension = o \n",
    "        self.degree = int(degree)\n",
    "        self.T0 = nn.Parameter(torch.ones(k))\n",
    "        for i in range(1, self.degree + 1):\n",
    "            setattr(self, 'T{}'.format(i), nn.Parameter(Norm_param(self.rank, self.input_dimension))) \n",
    "\n",
    "        self.layer_C = nn.Linear(self.rank, self.output_dimension) \n",
    "\n",
    "\n",
    "    def forward(self, z):\n",
    "        z = z.reshape(-1, self.input_dimension)\n",
    "        out0 = self.T0\n",
    "        out1 = self.T1(z)\n",
    "        out_list = [out0] + [out1]\n",
    "        for i in range(2, self.degree + 1, 2):\n",
    "            out0 = getattr(self, 'T{}'.format(i))(z) * 2 * out1 - out0\n",
    "            out_list = out_list + [out0]\n",
    "            if i == self.degree:\n",
    "                x = self.layer_C(out_list[self.degree])\n",
    "                return x\n",
    "            else:\n",
    "                out1 = getattr(self, 'T{}'.format(i + 1))(z) * 2 * out0 - out1\n",
    "                out_list = out_list + [out1]\n",
    "        x = self.layer_C(out_list[self.degree])\n",
    "        return x\n"
   ]
  },
  {
   "cell_type": "code",
   "execution_count": null,
   "metadata": {},
   "outputs": [
    {
     "data": {
      "text/plain": [
       "dtype('float64')"
      ]
     },
     "execution_count": 205,
     "metadata": {},
     "output_type": "execute_result"
    }
   ],
   "source": [
    "np.loadtxt('points_md.csv', delimiter=',')\n",
    "np.loadtxt('weights_md.csv', delimiter=',').dtype"
   ]
  },
  {
   "cell_type": "code",
   "execution_count": null,
   "metadata": {},
   "outputs": [],
   "source": [
    "RANK = 1\n",
    "DEGREE1 = 2\n",
    "DEGREE2 = 4\n",
    "IN_DIM = 2\n",
    "OUT_DIM = 1"
   ]
  },
  {
   "cell_type": "code",
   "execution_count": null,
   "metadata": {},
   "outputs": [],
   "source": [
    "#set_up_backend(\"torch\", data_type=\"float32\")\n",
    "#mc = MonteCarlo()\n",
    "#vegas = VEGAS()"
   ]
  },
  {
   "cell_type": "code",
   "execution_count": null,
   "metadata": {},
   "outputs": [],
   "source": [
    "points_md = torch.from_numpy(np.float32(np.loadtxt('points_md.csv', delimiter=','))).reshape(-1,IN_DIM)\n",
    "weights_md = torch.from_numpy(np.float32(np.loadtxt('weights_md.csv', delimiter=','))).reshape(-1)"
   ]
  },
  {
   "cell_type": "code",
   "execution_count": null,
   "metadata": {},
   "outputs": [],
   "source": [
    "Leg_1 = Legendre_test(DEGREE1, IN_DIM, RANK, OUT_DIM)\n",
    "Leg_2 = Legendre_test(DEGREE2, IN_DIM, RANK, OUT_DIM)"
   ]
  },
  {
   "cell_type": "code",
   "execution_count": null,
   "metadata": {},
   "outputs": [],
   "source": [
    "#Leg_1 = pn.Chebyshev(DEGREE1, IN_DIM, RANK, OUT_DIM)\n",
    "#Leg_2 = pn.Chebyshev(DEGREE2, IN_DIM, RANK, OUT_DIM)"
   ]
  },
  {
   "cell_type": "code",
   "execution_count": null,
   "metadata": {},
   "outputs": [],
   "source": [
    "def f(x):\n",
    "    return Leg_1(x) * Leg_2(x)"
   ]
  },
  {
   "cell_type": "code",
   "execution_count": null,
   "metadata": {},
   "outputs": [],
   "source": [
    "#integral_value = vegas.integrate(f, dim=2, N=10000, integration_domain=[[-1, 1], [-1, 1]], backend=\"torch\",)\n",
    "#print(integral_value)"
   ]
  },
  {
   "cell_type": "code",
   "execution_count": null,
   "metadata": {},
   "outputs": [
    {
     "data": {
      "text/plain": [
       "Parameter containing:\n",
       "tensor([[0.5000, 0.5000]], requires_grad=True)"
      ]
     },
     "execution_count": 213,
     "metadata": {},
     "output_type": "execute_result"
    }
   ],
   "source": [
    "Leg_1.T2"
   ]
  },
  {
   "cell_type": "code",
   "execution_count": null,
   "metadata": {},
   "outputs": [],
   "source": [
    "one = torch.ones(1,IN_DIM)"
   ]
  },
  {
   "cell_type": "code",
   "execution_count": null,
   "metadata": {},
   "outputs": [
    {
     "data": {
      "text/plain": [
       "tensor(-0.0590, grad_fn=<DotBackward0>)"
      ]
     },
     "execution_count": 215,
     "metadata": {},
     "output_type": "execute_result"
    }
   ],
   "source": [
    "torch.dot(Leg_1(points_md)[:,0] * Leg_2(points_md)[:,0], weights_md)"
   ]
  },
  {
   "cell_type": "code",
   "execution_count": null,
   "metadata": {},
   "outputs": [
    {
     "data": {
      "text/plain": [
       "tensor(-2.2352e-08, grad_fn=<DotBackward0>)"
      ]
     },
     "execution_count": 216,
     "metadata": {},
     "output_type": "execute_result"
    }
   ],
   "source": [
    "torch.dot(Leg_1(points_md)[:,0] , weights_md)"
   ]
  },
  {
   "cell_type": "code",
   "execution_count": null,
   "metadata": {},
   "outputs": [
    {
     "data": {
      "text/plain": [
       "tensor(-0.0972, grad_fn=<DotBackward0>)"
      ]
     },
     "execution_count": 217,
     "metadata": {},
     "output_type": "execute_result"
    }
   ],
   "source": [
    "torch.dot(Leg_2(points_md)[:,0] , weights_md)"
   ]
  },
  {
   "cell_type": "code",
   "execution_count": null,
   "metadata": {},
   "outputs": [],
   "source": [
    "if IN_DIM == 2:\n",
    "    input = torch.linspace(-1, 1, 100)\n",
    "    X, Y = torch.meshgrid(input, input)\n",
    "    grid = torch.stack((X.reshape(-1), Y.reshape(-1)), dim=1).reshape(-1, 2)\n",
    "    out = Leg_1(grid)"
   ]
  },
  {
   "cell_type": "code",
   "execution_count": null,
   "metadata": {},
   "outputs": [
    {
     "data": {
      "image/png": "[encoded data removed]",
      "text/plain": [
       "<Figure size 640x480 with 2 Axes>"
      ]
     },
     "metadata": {},
     "output_type": "display_data"
    }
   ],
   "source": [
    "if IN_DIM == 2:\n",
    "    out.detach().numpy().reshape(100,100)\n",
    "    cs = plt.contourf(X.detach().numpy(), Y.detach().numpy(), out.detach().numpy().reshape(100,100))\n",
    "    cbar = plt.colorbar(cs)"
   ]
  },
  {
   "cell_type": "code",
   "execution_count": null,
   "metadata": {},
   "outputs": [],
   "source": [
    "if IN_DIM == 1:\n",
    "\n",
    "    #plt.plot(input.numpy(), (Leg_1(input)/Leg_1(one))[:,0].detach().numpy())\n",
    "    plt.plot(input.numpy(), Leg_2(input)[:,0].detach().numpy())\n",
    "\n",
    "    plt.plot(input.numpy(), Leg_1(input)[:,0].detach().numpy())\n",
    "    #plt.plot(input.numpy(), Leg_2(input)[:,0].detach().numpy() * Leg_1(input)[:,0].detach().numpy())\n",
    "    #plt.xlim(-1, 1)\n",
    "    plt.ylim(-1, 1)\n",
    "    plt.grid()"
   ]
  },
  {
   "cell_type": "code",
   "execution_count": null,
   "metadata": {},
   "outputs": [],
   "source": [
    "P1 = abs(nn.Linear(8, 10, bias = False).weight.detach().to(torch.float32))"
   ]
  },
  {
   "cell_type": "code",
   "execution_count": null,
   "metadata": {},
   "outputs": [],
   "source": [
    "P1_sum = torch.sum(P1, dim=1)"
   ]
  },
  {
   "cell_type": "code",
   "execution_count": null,
   "metadata": {},
   "outputs": [],
   "source": [
    "P1_norm = P1/P1_sum.reshape(-1,1)"
   ]
  },
  {
   "cell_type": "code",
   "execution_count": null,
   "metadata": {},
   "outputs": [
    {
     "data": {
      "text/plain": [
       "tensor([1.0000, 1.0000, 1.0000, 1.0000, 1.0000, 1.0000, 1.0000, 1.0000, 1.0000,\n",
       "        1.0000])"
      ]
     },
     "execution_count": 224,
     "metadata": {},
     "output_type": "execute_result"
    }
   ],
   "source": [
    "torch.sum(P1_norm, dim=1)"
   ]
  },
  {
   "cell_type": "code",
   "execution_count": null,
   "metadata": {},
   "outputs": [
    {
     "data": {
      "text/plain": [
       "tensor([1.0260, 1.3380, 1.5592, 1.5940, 1.0042, 1.3331, 1.0346, 0.8181, 1.2415,\n",
       "        0.8901])"
      ]
     },
     "execution_count": 225,
     "metadata": {},
     "output_type": "execute_result"
    }
   ],
   "source": [
    "torch.sum(P1, dim=1)"
   ]
  },
  {
   "cell_type": "code",
   "execution_count": null,
   "metadata": {},
   "outputs": [],
   "source": [
    "def Norm_param(k, d):\n",
    "    P = abs(nn.Linear(d, k, bias = False).weight.detach().to(torch.float32))\n",
    "    P_sum = torch.sum(P, dim=1)\n",
    "    P_norm = P/P_sum.reshape(-1,1)\n",
    "    return P_norm"
   ]
  },
  {
   "cell_type": "code",
   "execution_count": null,
   "metadata": {},
   "outputs": [],
   "source": []
  }
 ],
 "metadata": {
  "kernelspec": {
   "display_name": "minterpy",
   "language": "python",
   "name": "python3"
  },
  "language_info": {
   "codemirror_mode": {
    "name": "ipython",
    "version": 3
   },
   "file_extension": ".py",
   "mimetype": "text/x-python",
   "name": "python",
   "nbconvert_exporter": "python",
   "pygments_lexer": "ipython3",
   "version": "3.10.10"
  },
  "orig_nbformat": 4,
  "vscode": {
   "interpreter": {
    "hash": "49a1809da8d7535a4a6fde5b61e324c78152e8486502cd4cbb4e7adf0ad431c9"
   }
  }
 },
 "nbformat": 4,
 "nbformat_minor": 2
}
