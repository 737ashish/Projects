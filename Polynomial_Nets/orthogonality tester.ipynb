{
 "cells": [
  {
   "cell_type": "code",
   "execution_count": 2,
   "metadata": {},
   "outputs": [],
   "source": [
    "import numpy as np\n",
    "import minterpy as mp\n",
    "import minterpy_integration as mint\n",
    "import scipy.special as special"
   ]
  },
  {
   "cell_type": "code",
   "execution_count": null,
   "metadata": {},
   "outputs": [],
   "source": [
    "class Chebyshev(nn.Module):\n",
    "    def __init__(self, degree, d, k, o):\n",
    "        super(Chebyshev, self).__init__()        \n",
    "     \n",
    "        self.input_dimension = d \n",
    "        self.rank = k\n",
    "        self.output_dimension = o \n",
    "        self.degree = int(degree)\n",
    "        self.T0 = nn.Parameter(nn.Linear(k, 1).weight.to(torch.float32)[0])\n",
    "        for i in range(1, self.degree + 1):\n",
    "            setattr(self, 'T{}'.format(i), nn.Linear(self.input_dimension, self.rank, bias=False)) \n",
    "\n",
    "        self.layer_C = nn.Linear(self.rank, self.output_dimension) \n",
    "\n",
    "\n",
    "    def forward(self, z):\n",
    "        z = z.reshape(-1, self.input_dimension)\n",
    "        out0 = self.T0\n",
    "        out1 = self.T1(z)\n",
    "        out_list = [out0] + [out1]\n",
    "        for i in range(2, self.degree + 1, 2):\n",
    "            out0 = getattr(self, 'T{}'.format(i))(z) * 2 * out1 - out0\n",
    "            out_list = out_list + [out0]\n",
    "            if i == self.degree:\n",
    "                x = self.layer_C(out_list[self.degree])\n",
    "                return x\n",
    "            else:\n",
    "                out1 = getattr(self, 'T{}'.format(i + 1))(z) * 2 * out0 - out1\n",
    "                out_list = out_list + [out1]\n",
    "        x = self.layer_C(out_list[self.degree])\n",
    "        return x\n"
   ]
  },
  {
   "cell_type": "code",
   "execution_count": 3,
   "metadata": {},
   "outputs": [],
   "source": [
    "def monomial_integral_cheb1st(exponents):\n",
    "    cond = exponents>0\n",
    "    term = np.ones(exponents.shape)*np.pi\n",
    "    term[cond] = np.sqrt(np.pi)/exponents[cond] * ((-1)**exponents[cond] + 1)*special.gamma((exponents[cond] + 1)/2)/special.gamma(exponents[cond]/2)\n",
    "    return np.prod(term,axis = 0)\n",
    "\n",
    "def monomial_integral_cheb2nd(exponents):\n",
    "    term = np.sqrt(np.pi)/4*((-1)**exponents + 1)*special.gamma((exponents + 1)/2)/special.gamma(exponents/2+2)\n",
    "    return np.prod(term, axis = 0)"
   ]
  },
  {
   "cell_type": "code",
   "execution_count": 4,
   "metadata": {},
   "outputs": [],
   "source": [
    "spatial_dimension = 3\n",
    "poly_degree = 8\n",
    "lp_degree = 2"
   ]
  },
  {
   "cell_type": "code",
   "execution_count": 5,
   "metadata": {},
   "outputs": [],
   "source": [
    "multiindex = mp.MultiIndexSet.from_degree(spatial_dimension,poly_degree,lp_degree)"
   ]
  },
  {
   "cell_type": "code",
   "execution_count": 8,
   "metadata": {},
   "outputs": [],
   "source": [
    "exponents = multiindex.exponents"
   ]
  },
  {
   "cell_type": "code",
   "execution_count": 6,
   "metadata": {},
   "outputs": [],
   "source": [
    "cheb1 = monomial_integral_cheb1st(multiindex.exponents.T)"
   ]
  },
  {
   "cell_type": "code",
   "execution_count": 10,
   "metadata": {},
   "outputs": [
    {
     "data": {
      "text/plain": [
       "array([31.00627668,  0.        , 15.50313834,  0.        , 11.62735376,\n",
       "        0.        ,  9.68946146,  0.        ,  8.47827878,  0.        ,\n",
       "        0.        ,  0.        ,  0.        ,  0.        ,  0.        ,\n",
       "        0.        ,  0.        , 15.50313834,  0.        ,  7.75156917,\n",
       "        0.        ,  5.81367688,  0.        ,  4.84473073,  0.        ,\n",
       "        0.        ,  0.        ,  0.        ,  0.        ,  0.        ,\n",
       "        0.        ,  0.        ,  0.        , 11.62735376,  0.        ,\n",
       "        5.81367688,  0.        ,  4.36025766,  0.        ,  3.63354805,\n",
       "        0.        ,  0.        ,  0.        ,  0.        ,  0.        ,\n",
       "        0.        ,  0.        ,  9.68946146,  0.        ,  4.84473073,\n",
       "        0.        ,  3.63354805,  0.        ,  0.        ,  0.        ,\n",
       "        0.        ,  0.        ,  8.47827878,  0.        ,  0.        ,\n",
       "        0.        ,  0.        ,  0.        ,  0.        ,  0.        ,\n",
       "        0.        ,  0.        ,  0.        ,  0.        ,  0.        ,\n",
       "        0.        ,  0.        ,  0.        ,  0.        ,  0.        ,\n",
       "        0.        ,  0.        ,  0.        ,  0.        ,  0.        ,\n",
       "        0.        ,  0.        ,  0.        ,  0.        ,  0.        ,\n",
       "        0.        ,  0.        ,  0.        ,  0.        ,  0.        ,\n",
       "        0.        ,  0.        ,  0.        ,  0.        ,  0.        ,\n",
       "        0.        ,  0.        ,  0.        ,  0.        ,  0.        ,\n",
       "        0.        ,  0.        ,  0.        ,  0.        ,  0.        ,\n",
       "        0.        ,  0.        ,  0.        ,  0.        ,  0.        ,\n",
       "        0.        ,  0.        ,  0.        ,  0.        , 15.50313834,\n",
       "        0.        ,  7.75156917,  0.        ,  5.81367688,  0.        ,\n",
       "        4.84473073,  0.        ,  0.        ,  0.        ,  0.        ,\n",
       "        0.        ,  0.        ,  0.        ,  0.        ,  0.        ,\n",
       "        7.75156917,  0.        ,  3.87578459,  0.        ,  2.90683844,\n",
       "        0.        ,  2.42236537,  0.        ,  0.        ,  0.        ,\n",
       "        0.        ,  0.        ,  0.        ,  0.        ,  0.        ,\n",
       "        0.        ,  5.81367688,  0.        ,  2.90683844,  0.        ,\n",
       "        2.18012883,  0.        ,  1.81677402,  0.        ,  0.        ,\n",
       "        0.        ,  0.        ,  0.        ,  0.        ,  4.84473073,\n",
       "        0.        ,  2.42236537,  0.        ,  1.81677402,  0.        ,\n",
       "        0.        ,  0.        ,  0.        ,  0.        ,  0.        ,\n",
       "        0.        ,  0.        ,  0.        ,  0.        ,  0.        ,\n",
       "        0.        ,  0.        ,  0.        ,  0.        ,  0.        ,\n",
       "        0.        ,  0.        ,  0.        ,  0.        ,  0.        ,\n",
       "        0.        ,  0.        ,  0.        ,  0.        ,  0.        ,\n",
       "        0.        ,  0.        ,  0.        ,  0.        ,  0.        ,\n",
       "        0.        ,  0.        ,  0.        ,  0.        ,  0.        ,\n",
       "        0.        ,  0.        ,  0.        ,  0.        ,  0.        ,\n",
       "        0.        ,  0.        ,  0.        ,  0.        ,  0.        ,\n",
       "        0.        ,  0.        ,  0.        ,  0.        ,  0.        ,\n",
       "        0.        ,  0.        ,  0.        ,  0.        ,  0.        ,\n",
       "       11.62735376,  0.        ,  5.81367688,  0.        ,  4.36025766,\n",
       "        0.        ,  3.63354805,  0.        ,  0.        ,  0.        ,\n",
       "        0.        ,  0.        ,  0.        ,  0.        ,  5.81367688,\n",
       "        0.        ,  2.90683844,  0.        ,  2.18012883,  0.        ,\n",
       "        1.81677402,  0.        ,  0.        ,  0.        ,  0.        ,\n",
       "        0.        ,  0.        ,  0.        ,  4.36025766,  0.        ,\n",
       "        2.18012883,  0.        ,  1.63509662,  0.        ,  0.        ,\n",
       "        0.        ,  0.        ,  0.        ,  0.        ,  3.63354805,\n",
       "        0.        ,  1.81677402,  0.        ,  0.        ,  0.        ,\n",
       "        0.        ,  0.        ,  0.        ,  0.        ,  0.        ,\n",
       "        0.        ,  0.        ,  0.        ,  0.        ,  0.        ,\n",
       "        0.        ,  0.        ,  0.        ,  0.        ,  0.        ,\n",
       "        0.        ,  0.        ,  0.        ,  0.        ,  0.        ,\n",
       "        0.        ,  0.        ,  0.        ,  0.        ,  0.        ,\n",
       "        0.        ,  0.        ,  0.        ,  0.        ,  0.        ,\n",
       "        0.        ,  0.        ,  0.        ,  0.        ,  0.        ,\n",
       "        9.68946146,  0.        ,  4.84473073,  0.        ,  3.63354805,\n",
       "        0.        ,  0.        ,  0.        ,  0.        ,  0.        ,\n",
       "        0.        ,  0.        ,  4.84473073,  0.        ,  2.42236537,\n",
       "        0.        ,  1.81677402,  0.        ,  0.        ,  0.        ,\n",
       "        0.        ,  0.        ,  3.63354805,  0.        ,  1.81677402,\n",
       "        0.        ,  0.        ,  0.        ,  0.        ,  0.        ,\n",
       "        0.        ,  0.        ,  0.        ,  0.        ,  0.        ,\n",
       "        0.        ,  0.        ,  0.        ,  0.        ,  0.        ,\n",
       "        0.        ,  0.        ,  0.        ,  8.47827878])"
      ]
     },
     "execution_count": 10,
     "metadata": {},
     "output_type": "execute_result"
    }
   ],
   "source": [
    "cheb1"
   ]
  },
  {
   "cell_type": "code",
   "execution_count": null,
   "metadata": {},
   "outputs": [],
   "source": []
  }
 ],
 "metadata": {
  "kernelspec": {
   "display_name": "minterpy",
   "language": "python",
   "name": "python3"
  },
  "language_info": {
   "codemirror_mode": {
    "name": "ipython",
    "version": 3
   },
   "file_extension": ".py",
   "mimetype": "text/x-python",
   "name": "python",
   "nbconvert_exporter": "python",
   "pygments_lexer": "ipython3",
   "version": "3.10.10"
  },
  "orig_nbformat": 4,
  "vscode": {
   "interpreter": {
    "hash": "49a1809da8d7535a4a6fde5b61e324c78152e8486502cd4cbb4e7adf0ad431c9"
   }
  }
 },
 "nbformat": 4,
 "nbformat_minor": 2
}
