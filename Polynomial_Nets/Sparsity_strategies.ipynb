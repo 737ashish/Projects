{
 "cells": [
  {
   "cell_type": "code",
   "execution_count": 1,
   "metadata": {},
   "outputs": [
    {
     "name": "stderr",
     "output_type": "stream",
     "text": [
      "/home/ashish-razer/Programs/miniconda3/envs/pytorch/lib/python3.10/site-packages/tqdm/auto.py:22: TqdmWarning: IProgress not found. Please update jupyter and ipywidgets. See https://ipywidgets.readthedocs.io/en/stable/user_install.html\n",
      "  from .autonotebook import tqdm as notebook_tqdm\n"
     ]
    }
   ],
   "source": [
    "import torch\n",
    "import torch.nn as nn\n",
    "import torch.nn.functional as F\n",
    "from torch.autograd import Variable\n",
    "from torch.utils.data import TensorDataset\n",
    "\n",
    "import torchvision\n",
    "from torchvision import datasets\n",
    "from torchvision import transforms\n",
    "from torchvision.utils import save_image\n",
    "from torchsummary import summary\n",
    "\n",
    "from random import randint\n",
    "\n",
    "from polynomial_nets import CP_L3, CP_L3_sparse, NCP_L3, CP, Chebyshev, Chebyshev_L3\n",
    "import polynomial_nets as pn\n",
    "import poly_utils as ut \n",
    "\n",
    "from poly_VAE import Flatten, UnFlatten, VAE_CP_L3, VAE_CP_L3_sparse, VAE_CP_L3_sparse_LU, loss_fn\n",
    "from torchvision.datasets import MNIST\n",
    "from torch.utils.data import DataLoader\n",
    "from torch.utils.data import random_split\n",
    "\n",
    "import matplotlib.pyplot as plt\n",
    "from torchvision.utils import make_grid\n",
    "import pandas as pd\n",
    "\n",
    "import uqtestfuns as uqtf\n",
    "import numpy as np\n",
    "from sklearn.preprocessing import MinMaxScaler\n",
    "from Cuda import DeviceDataLoader"
   ]
  },
  {
   "cell_type": "code",
   "execution_count": 2,
   "metadata": {},
   "outputs": [],
   "source": [
    "class CP_sparse_degree(nn.Module):\n",
    "    def __init__(self, degree, d, k, o):\n",
    "        super(CP_sparse_degree, self).__init__()        \n",
    "     \n",
    "        self.input_dimension = d \n",
    "        self.rank = k\n",
    "        self.output_dimension = o \n",
    "        self.degree = int(degree)\n",
    "        masks = ut.generate_masks(self.degree, self.rank, self.input_dimension)\n",
    "        for i in range(1, self.degree + 1):\n",
    "            setattr(self, 'U{}'.format(i), nn.Parameter(nn.Linear(d, k, bias=False).weight * masks[i-1]))\n",
    "            self.register_buffer('mask{}'.format(i), masks[i-1])        \n",
    "\n",
    "        self.layer_C = nn.Linear(self.rank, self.output_dimension) \n",
    "\n",
    "\n",
    "    def forward(self, z):\n",
    "        z = z.reshape(-1, self.input_dimension)\n",
    "        out = torch.matmul(z, (self.mask1 * self.U1).T)\n",
    "        for i in range(2, self.degree + 1):\n",
    "            #out = getattr(self, 'U{}'.format(i))(z) * out + out\n",
    "            out = torch.matmul(z, (getattr(self, 'mask{}'.format(i)) * getattr(self, 'U{}'.format(i))).T) * out + out\n",
    "        x = self.layer_C(out)\n",
    "        return x"
   ]
  },
  {
   "cell_type": "code",
   "execution_count": 3,
   "metadata": {},
   "outputs": [
    {
     "data": {
      "text/plain": [
       "Parameter containing:\n",
       "tensor([[ 0.3666, -0.0555, -0.2127],\n",
       "        [ 0.3478,  0.0448, -0.3724],\n",
       "        [-0.3322, -0.3740,  0.1684],\n",
       "        [ 0.1120, -0.3395,  0.3892],\n",
       "        [-0.0437,  0.1424, -0.5610],\n",
       "        [-0.2138, -0.2983, -0.2859],\n",
       "        [-0.2825,  0.4867,  0.1054],\n",
       "        [-0.2678,  0.0427, -0.3063],\n",
       "        [-0.1818,  0.4596,  0.4368],\n",
       "        [ 0.2023, -0.0191, -0.0732]], requires_grad=True)"
      ]
     },
     "execution_count": 3,
     "metadata": {},
     "output_type": "execute_result"
    }
   ],
   "source": [
    "nn.Linear(3, 10, bias=False).weight "
   ]
  },
  {
   "cell_type": "code",
   "execution_count": 4,
   "metadata": {},
   "outputs": [],
   "source": [
    "class CP_L3(nn.Module):\n",
    "    def __init__(self, d, k, o):\n",
    "        super(CP_L3, self).__init__()\n",
    "        \n",
    "        self.layer_U1 = nn.Linear(d, k, bias=False)\n",
    "        self.layer_U2 = nn.Linear(d, k, bias=False)\n",
    "        self.layer_U3 = nn.Linear(d, k, bias=False)\n",
    "        self.layer_C = nn.Linear(k, o)   \n",
    "        self.input_dimension = d \n",
    "        self.rank = k\n",
    "        self.output_dimension = o \n",
    "\n",
    "\n",
    "    def forward(self, z):\n",
    "        z = z.reshape(-1, self.input_dimension)\n",
    "        x1 = self.layer_U1(z)\n",
    "        x2 = self.layer_U2(z) * x1 + x1 \n",
    "        x3 = self.layer_U3(z) * x2 + x2 \n",
    "        x = self.layer_C(x3)\n",
    "        return x"
   ]
  },
  {
   "cell_type": "code",
   "execution_count": 5,
   "metadata": {},
   "outputs": [],
   "source": [
    "class CP_L3_sparse_U(nn.Module):\n",
    "    def __init__(self, d, k, o):\n",
    "        super(CP_L3_sparse_U, self).__init__()\n",
    "        \n",
    "        #self.layer_U1 = nn.Linear(d, k, bias=False) \n",
    "        self.layer_U1 = nn.Parameter(torch.triu(nn.Linear(d, k, bias=False).weight))   \n",
    "        self.layer_U2 = nn.Parameter(torch.triu(nn.Linear(d, k, bias=False).weight)) \n",
    "        self.layer_U3 = nn.Parameter(torch.triu(nn.Linear(d, k, bias=False).weight)) \n",
    "        nn.Parameter(torch.triu(nn.Linear(d, k, bias=False).weight))\n",
    "        #self.mask = torch.triu(torch.ones_like(self.layer_U1))\n",
    "        self.register_buffer('mask', torch.triu(torch.ones_like(self.layer_U2)))\n",
    "        self.layer_C = nn.Linear(k, o)   \n",
    "        self.input_dimension = d \n",
    "        self.rank = k\n",
    "        self.output_dimension = o \n",
    "\n",
    "\n",
    "    def forward(self, z):\n",
    "        z = z.reshape(-1, self.input_dimension)\n",
    "        #x1 = self.layer_U1(z)\n",
    "        x1 = torch.matmul(z, (self.mask * self.layer_U1).T)\n",
    "        x2 = torch.matmul(z, (self.mask * self.layer_U2).T) * x1 + x1\n",
    "        x3 = torch.matmul(z, (self.mask * self.layer_U3).T) * x2 + x2\n",
    "        x = self.layer_C(x3)\n",
    "        return x"
   ]
  },
  {
   "cell_type": "code",
   "execution_count": 6,
   "metadata": {},
   "outputs": [],
   "source": [
    "class CP_learned_sparsity(nn.Module):\n",
    "    def __init__(self, degree, d, k, o):\n",
    "        super(CP_learned_sparsity, self).__init__()       \n",
    "\n",
    "        self.input_dimension = d \n",
    "        self.rank = k\n",
    "        self.output_dimension = o \n",
    "        self.degree = int(degree)\n",
    "        for i in range(1, self.degree + 1):\n",
    "            setattr(self, 'U{}'.format(i), nn.Parameter(torch.tril(nn.Linear(d, k, bias=False).weight))) \n",
    "\n",
    "        self.register_buffer('mask', torch.tril(torch.ones_like(self.U2)))\n",
    "\n",
    "        self.layer_C = nn.Linear(self.rank, self.output_dimension) \n",
    "\n",
    "\n",
    "    def forward(self, z):\n",
    "        z = z.reshape(-1, self.input_dimension)\n",
    "        \n",
    "        out = torch.matmul(z, (self.mask * self.U1).T)\n",
    "        for i in range(2, self.degree + 1):\n",
    "            #out = getattr(self, 'U{}'.format(i))(z) * out + out\n",
    "            out = torch.matmul(z, (self.mask * getattr(self, 'U{}'.format(i))).T) * out + out\n",
    "        x = self.layer_C(out)\n",
    "        return x\n",
    "         "
   ]
  },
  {
   "cell_type": "code",
   "execution_count": 7,
   "metadata": {},
   "outputs": [],
   "source": [
    "class CP_sparse_LU(nn.Module):\n",
    "    def __init__(self, degree, d, k, o):\n",
    "        super(CP_sparse_LU, self).__init__()        \n",
    "     \n",
    "        self.input_dimension = d \n",
    "        self.rank = k\n",
    "        self.output_dimension = o \n",
    "        self.degree = int(degree)\n",
    "        if self.input_dimension > self.rank:\n",
    "            self.register_buffer('mask1', torch.triu(torch.ones_like(nn.Linear(d, k, bias=False).weight)))\n",
    "            self.register_buffer('mask2', torch.tril(torch.ones_like(nn.Linear(d, k, bias=False).weight)))\n",
    "            for i in range(1, self.degree + 1, 2):\n",
    "                setattr(self, 'U{}'.format(i), nn.Parameter(torch.triu(nn.Linear(d, k, bias=False).weight))) \n",
    "            for i in range(2, self.degree + 1, 2):\n",
    "                setattr(self, 'U{}'.format(i), nn.Parameter(torch.tril(nn.Linear(d, k, bias=False).weight)))  \n",
    "        else:\n",
    "            self.register_buffer('mask1', torch.tril(torch.ones_like(nn.Linear(d, k, bias=False).weight)))\n",
    "            self.register_buffer('mask2', torch.triu(torch.ones_like(nn.Linear(d, k, bias=False).weight)))\n",
    "\n",
    "            for i in range(1, self.degree + 1, 2):\n",
    "                setattr(self, 'U{}'.format(i), nn.Parameter(torch.tril(nn.Linear(d, k, bias=False).weight))) \n",
    "            for i in range(2, self.degree + 1, 2):\n",
    "                setattr(self, 'U{}'.format(i), nn.Parameter(torch.triu(nn.Linear(d, k, bias=False).weight)))         \n",
    "\n",
    "        self.layer_C = nn.Linear(self.rank, self.output_dimension) \n",
    "\n",
    "\n",
    "    def forward(self, z):\n",
    "        z = z.reshape(-1, self.input_dimension)\n",
    "        out = torch.matmul(z, (self.mask1 * self.U1).T)\n",
    "        for i in range(2, self.degree + 1):\n",
    "            #out = getattr(self, 'U{}'.format(i))(z) * out + out\n",
    "            out = torch.matmul(z, (self.mask2 * getattr(self, 'U{}'.format(i))).T) * out + out\n",
    "            if i == self.degree:\n",
    "                x = self.layer_C(out)\n",
    "                return x\n",
    "            out = torch.matmul(z, (self.mask1 * getattr(self, 'U{}'.format(i+1))).T) * out + out\n",
    "        x = self.layer_C(out)\n",
    "        return x"
   ]
  },
  {
   "cell_type": "code",
   "execution_count": 8,
   "metadata": {},
   "outputs": [],
   "source": [
    "class CP_sparse_L(nn.Module):\n",
    "    def __init__(self, degree, d, k, o):\n",
    "        super(CP_sparse_L, self).__init__()        \n",
    "     \n",
    "        self.input_dimension = d \n",
    "        self.rank = k\n",
    "        self.output_dimension = o \n",
    "        self.degree = int(degree)\n",
    "        for i in range(1, self.degree + 1):\n",
    "            setattr(self, 'U{}'.format(i), nn.Parameter(torch.tril(nn.Linear(d, k, bias=False).weight))) \n",
    "\n",
    "        self.register_buffer('mask', torch.tril(torch.ones_like(self.U2)))\n",
    "\n",
    "        self.layer_C = nn.Linear(self.rank, self.output_dimension) \n",
    "\n",
    "\n",
    "    def forward(self, z):\n",
    "        z = z.reshape(-1, self.input_dimension)\n",
    "        out = torch.matmul(z, (self.mask * self.U1).T)\n",
    "        for i in range(2, self.degree + 1):\n",
    "            #out = getattr(self, 'U{}'.format(i))(z) * out + out\n",
    "            out = torch.matmul(z, (self.mask * getattr(self, 'U{}'.format(i))).T) * out + out\n",
    "        x = self.layer_C(out)\n",
    "        return x"
   ]
  },
  {
   "cell_type": "code",
   "execution_count": 9,
   "metadata": {},
   "outputs": [],
   "source": [
    "class CP_sparse_L1(nn.Module):\n",
    "    def __init__(self, degree, d, k, o):\n",
    "        super(CP_sparse_L1, self).__init__()        \n",
    "     \n",
    "        self.input_dimension = d \n",
    "        self.rank = k\n",
    "        self.output_dimension = o \n",
    "        self.degree = int(degree)\n",
    "        self.U1 = nn.Linear(d, k, bias=False)\n",
    "        for i in range(2, self.degree + 1):\n",
    "            setattr(self, 'U{}'.format(i), nn.Parameter(torch.tril(nn.Linear(d, k, bias=False).weight))) \n",
    "\n",
    "        self.register_buffer('mask', torch.tril(torch.ones_like(self.U2)))\n",
    "\n",
    "        self.layer_C = nn.Linear(self.rank, self.output_dimension) \n",
    "\n",
    "\n",
    "    def forward(self, z):\n",
    "        z = z.reshape(-1, self.input_dimension)\n",
    "        out = self.U1(z)\n",
    "        for i in range(2, self.degree + 1):\n",
    "            #out = getattr(self, 'U{}'.format(i))(z) * out + out\n",
    "            out = torch.matmul(z, (self.mask * getattr(self, 'U{}'.format(i))).T) * out + out\n",
    "        x = self.layer_C(out)\n",
    "        return x"
   ]
  },
  {
   "cell_type": "code",
   "execution_count": 10,
   "metadata": {},
   "outputs": [],
   "source": [
    "class CP_sparse_U(nn.Module):\n",
    "    def __init__(self, degree, d, k, o):\n",
    "        super(CP_sparse_U, self).__init__()        \n",
    "     \n",
    "        self.input_dimension = d \n",
    "        self.rank = k\n",
    "        self.output_dimension = o \n",
    "        self.degree = int(degree)\n",
    "        for i in range(1, self.degree + 1):\n",
    "            setattr(self, 'U{}'.format(i), nn.Parameter(torch.triu(nn.Linear(d, k, bias=False).weight))) \n",
    "\n",
    "        self.register_buffer('mask', torch.triu(torch.ones_like(self.U2)))\n",
    "\n",
    "        self.layer_C = nn.Linear(self.rank, self.output_dimension) \n",
    "\n",
    "\n",
    "    def forward(self, z):\n",
    "        z = z.reshape(-1, self.input_dimension)\n",
    "        out = torch.matmul(z, (self.mask * self.U1).T)\n",
    "        for i in range(2, self.degree + 1):\n",
    "            #out = getattr(self, 'U{}'.format(i))(z) * out + out\n",
    "            out = torch.matmul(z, (self.mask * getattr(self, 'U{}'.format(i))).T) * out + out\n",
    "        x = self.layer_C(out)\n",
    "        return x"
   ]
  },
  {
   "cell_type": "code",
   "execution_count": 11,
   "metadata": {},
   "outputs": [],
   "source": [
    "class CP_sparse_U1(nn.Module):\n",
    "    def __init__(self, degree, d, k, o):\n",
    "        super(CP_sparse_U1, self).__init__()        \n",
    "     \n",
    "        self.input_dimension = d \n",
    "        self.rank = k\n",
    "        self.output_dimension = o \n",
    "        self.degree = int(degree)\n",
    "        self.U1 = nn.Linear(d, k, bias=False)\n",
    "        for i in range(2, self.degree + 1):\n",
    "            setattr(self, 'U{}'.format(i), nn.Parameter(torch.triu(nn.Linear(d, k, bias=False).weight))) \n",
    "\n",
    "        self.register_buffer('mask', torch.triu(torch.ones_like(self.U2)))\n",
    "\n",
    "        self.layer_C = nn.Linear(self.rank, self.output_dimension) \n",
    "\n",
    "\n",
    "    def forward(self, z):\n",
    "        z = z.reshape(-1, self.input_dimension)\n",
    "        out = self.U1(z)\n",
    "        for i in range(2, self.degree + 1):\n",
    "            #out = getattr(self, 'U{}'.format(i))(z) * out + out\n",
    "            out = torch.matmul(z, (self.mask * getattr(self, 'U{}'.format(i))).T) * out + out\n",
    "        x = self.layer_C(out)\n",
    "        return x"
   ]
  },
  {
   "cell_type": "code",
   "execution_count": 12,
   "metadata": {},
   "outputs": [],
   "source": [
    "class CP_L3_sparse_L(nn.Module):\n",
    "    def __init__(self, d, k, o):\n",
    "        super(CP_L3_sparse_L, self).__init__()\n",
    "        \n",
    "        #self.layer_U1 = nn.Linear(d, k, bias=False) \n",
    "        self.layer_U1 = nn.Parameter(torch.tril(nn.Linear(d, k, bias=False).weight))   \n",
    "        self.layer_U2 = nn.Parameter(torch.tril(nn.Linear(d, k, bias=False).weight)) \n",
    "        self.layer_U3 = nn.Parameter(torch.tril(nn.Linear(d, k, bias=False).weight)) \n",
    "        nn.Parameter(torch.triu(nn.Linear(d, k, bias=False).weight))\n",
    "        #self.mask = torch.triu(torch.ones_like(self.layer_U1))\n",
    "        self.register_buffer('mask', torch.tril(torch.ones_like(self.layer_U2)))\n",
    "        self.layer_C = nn.Linear(k, o)   \n",
    "        self.input_dimension = d \n",
    "        self.rank = k\n",
    "        self.output_dimension = o \n",
    "\n",
    "\n",
    "    def forward(self, z):\n",
    "        z = z.reshape(-1, self.input_dimension)\n",
    "        #x1 = self.layer_U1(z)\n",
    "        x1 = torch.matmul(z, (self.mask * self.layer_U1).T)\n",
    "        x2 = torch.matmul(z, (self.mask * self.layer_U2).T) * x1 + x1\n",
    "        x3 = torch.matmul(z, (self.mask * self.layer_U3).T) * x2 + x2\n",
    "        x = self.layer_C(x3)\n",
    "        return x"
   ]
  },
  {
   "cell_type": "code",
   "execution_count": 13,
   "metadata": {},
   "outputs": [],
   "source": [
    "class CP_L3_shared(nn.Module):\n",
    "    def __init__(self, d, k, o):\n",
    "        super(CP_L3_shared, self).__init__()\n",
    "        \n",
    "        self.layer_U1 = nn.Linear(d, k, bias=False)\n",
    "        #self.layer_U2 = nn.Linear(d, k, bias=False)\n",
    "        #self.layer_U3 = nn.Linear(d, k, bias=False)\n",
    "        self.layer_C = nn.Linear(k, o)   \n",
    "        self.input_dimension = d \n",
    "        self.rank = k\n",
    "        self.output_dimension = o \n",
    "\n",
    "\n",
    "    def forward(self, z):\n",
    "        z = z.reshape(-1, self.input_dimension)\n",
    "        x1 = self.layer_U1(z)\n",
    "        x2 = self.layer_U1(z) * x1 + x1 \n",
    "        x3 = self.layer_U1(z) * x2 + x2 \n",
    "        x = self.layer_C(x3)\n",
    "        return x"
   ]
  },
  {
   "cell_type": "code",
   "execution_count": 14,
   "metadata": {},
   "outputs": [],
   "source": [
    "class Chebyshev_L3_shared(nn.Module):\n",
    "    def __init__(self, d, k, o):\n",
    "        super(Chebyshev_L3_shared, self).__init__()\n",
    "        \n",
    "        self.layer_T0 = torch.nn.Parameter(torch.randn(k))\n",
    "        self.layer_T1 = nn.Linear(d, k, bias=False)\n",
    "        #self.layer_c = nn.Linear(d, k, bias=False)\n",
    "        #self.layer_d = nn.Linear(d, k, bias=False)\n",
    "\n",
    "        self.layer_C = nn.Linear(k, o, bias = False)   \n",
    "        self.input_dimension = d \n",
    "        self.rank = k\n",
    "        self.output_dimension = o \n",
    "\n",
    "\n",
    "    def forward(self, z):\n",
    "        z = z.reshape(-1, self.input_dimension)\n",
    "        x0 = self.layer_T0 \n",
    "        x1 = self.layer_T1(z)\n",
    "        x2 = 2 * self.layer_T1(z) * x1 - x0\n",
    "        x3 = 2 * self.layer_T1(z) * x2 - x1\n",
    "        x4 = 2 * self.layer_T1(z) * x3 - x2\n",
    "        x5 = 2 * self.layer_T1(z) * x4 - x3\n",
    "\n",
    "        #T4 = 2 * self.layer_b(z) * T3 - T2\n",
    "        #T5 = 2 * self.layer_b(z) * T4 - T3\n",
    "        \n",
    "        x = self.layer_C(x3)\n",
    "        return x"
   ]
  },
  {
   "cell_type": "code",
   "execution_count": 15,
   "metadata": {},
   "outputs": [],
   "source": [
    "class Chebyshev(nn.Module):\n",
    "    def __init__(self, degree, d, k, o):\n",
    "        super(Chebyshev, self).__init__()        \n",
    "     \n",
    "        self.input_dimension = d \n",
    "        self.rank = k\n",
    "        self.output_dimension = o \n",
    "        self.degree = int(degree)\n",
    "        self.T0 = nn.Parameter(nn.Linear(k, 1).weight.to(torch.float32)[0])\n",
    "        for i in range(1, self.degree + 1):\n",
    "            setattr(self, 'T{}'.format(i), nn.Linear(self.input_dimension, self.rank, bias=False)) \n",
    "\n",
    "        self.layer_C = nn.Linear(self.rank, self.output_dimension) \n",
    "\n",
    "\n",
    "    def forward(self, z):\n",
    "        z = z.reshape(-1, self.input_dimension)\n",
    "        out0 = self.T0\n",
    "        out1 = self.T1(z)\n",
    "        out_list = [out0] + [out1]\n",
    "        for i in range(2, self.degree + 1, 2):\n",
    "            out0 = getattr(self, 'T{}'.format(i))(z) * 2 * out1 - out0\n",
    "            out_list = out_list + [out0]\n",
    "            if i == self.degree:\n",
    "                x = self.layer_C(out_list[self.degree])\n",
    "                return x\n",
    "            else:\n",
    "                out1 = getattr(self, 'T{}'.format(i + 1))(z) * 2 * out0 - out1\n",
    "                out_list = out_list + [out1]\n",
    "        x = self.layer_C(out_list[self.degree])\n",
    "        return x\n"
   ]
  },
  {
   "cell_type": "code",
   "execution_count": 16,
   "metadata": {},
   "outputs": [],
   "source": [
    "class CP_shared(nn.Module):\n",
    "    def __init__(self, degree, d, k, o):\n",
    "        super(CP_shared, self).__init__()        \n",
    "     \n",
    "        self.input_dimension = d \n",
    "        self.rank = k\n",
    "        self.output_dimension = o \n",
    "        self.degree = int(degree)\n",
    "        self.layer_U1 = nn.Linear(self.input_dimension, self.rank, bias=False)\n",
    "        self.layer_C = nn.Linear(self.rank, self.output_dimension) \n",
    "\n",
    "\n",
    "    def forward(self, z):\n",
    "        z = z.reshape(-1, self.input_dimension)\n",
    "        out = self.layer_U1(z)\n",
    "        for i in range(1, self.degree):\n",
    "            out = self.layer_U1(z) * out + out\n",
    "        x = self.layer_C(out)\n",
    "        return x"
   ]
  },
  {
   "cell_type": "code",
   "execution_count": 17,
   "metadata": {},
   "outputs": [],
   "source": [
    "#extend the CP_shared model such that for a given degree input int(degree/3) U layers are constructed.\n",
    "#In the forward pass, the U layers are used in a chain of multiplications and additions such that degree multiplications and degree additions are performed.\n"
   ]
  },
  {
   "cell_type": "code",
   "execution_count": 18,
   "metadata": {},
   "outputs": [],
   "source": [
    "class CP_shared2(nn.Module):\n",
    "    def __init__(self, degree, d, k, o):\n",
    "        super(CP_shared2, self).__init__()        \n",
    "     \n",
    "        self.input_dimension = d \n",
    "        self.rank = k\n",
    "        self.output_dimension = o \n",
    "        self.degree = int(degree)\n",
    "        self.divisor = float(degree**-self.degree)\n",
    "        self.layer_U1 = nn.Linear(self.input_dimension, self.rank, bias=False)\n",
    "        self.register_buffer('my_buffer',torch.ones_like(self.layer_U1.weight))\n",
    "        self.layer_C = nn.Linear(self.rank, self.output_dimension) \n",
    "\n",
    "    def forward(self, z):\n",
    "        z = z.reshape(-1, self.input_dimension)\n",
    "        out = self.layer_U1(z)\n",
    "        for i in range(1, self.degree):\n",
    "            out = torch.matmul(z, self.my_buffer.T)* out + out\n",
    "        x = self.layer_C(out)\n",
    "        return x"
   ]
  },
  {
   "cell_type": "code",
   "execution_count": 19,
   "metadata": {},
   "outputs": [],
   "source": [
    "my_testfun =  uqtf.Borehole()\n",
    "my_testfun =  uqtf.Flood()\n",
    "my_testfun =  uqtf.DampedOscillator()\n",
    "\n",
    "N = 10000\n",
    "train = 0.9\n",
    "N_t = int(N * train)\n",
    "N_v = N - N_t"
   ]
  },
  {
   "cell_type": "code",
   "execution_count": 20,
   "metadata": {},
   "outputs": [
    {
     "name": "stdout",
     "output_type": "stream",
     "text": [
      " No.      Constructor       Spatial Dimension          Application          Description\n",
      "-----  ------------------  -------------------  --------------------------  ----------------------------------------------------------------------------\n",
      "  1         Ackley()                M           optimization, metamodeling  Ackley function from Ackley (1987)\n",
      "  2        Borehole()               8           metamodeling, sensitivity   Borehole function from Harper and Gupta (1983)\n",
      "  3    DampedOscillator()           8           metamodeling, sensitivity   Damped oscillator model from Igusa and Der Kiureghian (1985)\n",
      "  4         Flood()                 8           metamodeling, sensitivity   Flood model from Iooss and Lemaître (2015)\n",
      "  5        Ishigami()               3                  sensitivity          Ishigami function from Ishigami and Homma (1991)\n",
      "  6       OTLCircuit()              6           metamodeling, sensitivity   Output transformerless (OTL) circuit model from Ben-Ari and Steinberg (2007)\n",
      "  7     OakleyOHagan1D()            1                  metamodeling         One-dimensional function from Oakley and O'Hagan (2002)\n",
      "  8         Piston()                7           metamodeling, sensitivity   Piston simulation model from Ben-Ari and Steinberg (2007)\n",
      "  9         SobolG()                M                  sensitivity          Sobol'-G function from Radović et al. (1996)\n",
      " 10         Sulfur()                9           metamodeling, sensitivity   Sulfur model from Charlson et al. (1992)\n",
      " 11       WingWeight()             10           metamodeling, sensitivity   Wing weight model from Forrester et al. (2008)\n"
     ]
    }
   ],
   "source": [
    "uqtf.list_functions()"
   ]
  },
  {
   "cell_type": "code",
   "execution_count": 21,
   "metadata": {},
   "outputs": [],
   "source": [
    "torch.cuda.empty_cache() \n",
    "device = torch.device(\"cuda\" if torch.cuda.is_available() else \"cpu\")\n",
    "LEARNING_RATE = 1e-4\n",
    "BATCH_SIZE = 64\n",
    "NUM_EPOCHS = 5\n",
    "RANK = 1\n",
    "DEGREE = 10\n",
    "IN_DIM = my_testfun.spatial_dimension\n",
    "OUT_DIM = 1\n",
    "\n",
    "loss_fn = nn.MSELoss()"
   ]
  },
  {
   "cell_type": "code",
   "execution_count": 22,
   "metadata": {},
   "outputs": [],
   "source": [
    "np.random.seed(42)\n",
    "dataset, target_scaler = ut.generate_dataset_uqtf(my_testfun, N, MinMaxScaler())\n",
    "train_ds, val_ds = random_split(dataset, [N_t, N_v])\n",
    "train_loader = DeviceDataLoader(DataLoader(train_ds, BATCH_SIZE, shuffle=True), device)\n",
    "val_loader = DeviceDataLoader(DataLoader(val_ds, BATCH_SIZE), device)"
   ]
  },
  {
   "cell_type": "code",
   "execution_count": null,
   "metadata": {},
   "outputs": [],
   "source": []
  },
  {
   "cell_type": "code",
   "execution_count": 23,
   "metadata": {},
   "outputs": [],
   "source": [
    "#model = CP_L3_shared(IN_DIM, RANK, OUT_DIM)\n",
    "#model = CP_shared2(DEGREE, IN_DIM, RANK, OUT_DIM)\n",
    "#model = Chebyshev_L3_shared(IN_DIM, RANK, OUT_DIM)\n",
    "\n",
    "#model = CP_L3_sparse_U(IN_DIM, RANK, OUT_DIM)\n",
    "\n",
    "#model = pn.CP(DEGREE, IN_DIM, RANK, OUT_DIM)\n",
    "#model = ut.MLP_model(IN_DIM, OUT_DIM)\n",
    "#model = nn.Sequential(nn.Linear(IN_DIM, RANK), nn.ReLU(), nn.Linear(RANK, OUT_DIM))\n",
    "#model = pn.ProdCheby_NL2([IN_DIM, RANK, RANK], [3, 3], 1, nn.ReLU())\n",
    "#model = CP_L3(IN_DIM, RANK, OUT_DIM)\n",
    "#model =  Chebyshev_L3(IN_DIM, RANK, OUT_DIM)\n",
    "#model = Chebyshev(DEGREE, IN_DIM, RANK, OUT_DIM)\n",
    "model = pn.Chebyshev_norm(DEGREE, IN_DIM, RANK, OUT_DIM)\n",
    "#model = CP_sparse_degree(DEGREE, IN_DIM, RANK, OUT_DIM)\n",
    "model = pn.Legendre(DEGREE, IN_DIM, RANK, OUT_DIM)\n",
    "#model = CP_sparse_LU(DEGREE, IN_DIM, RANK, OUT_DIM)\n",
    "optimizer = torch.optim.Rprop\n",
    "#optimizer = torch.optim.Adam\n",
    "#optimizer = torch.optim.SGD\n",
    "\n",
    "#model = DeviceDataLoader(model, device)\n",
    "\n",
    "model_reg = ut.Regression(model, IN_DIM, loss_fn).to(device)\n"
   ]
  },
  {
   "cell_type": "code",
   "execution_count": 24,
   "metadata": {},
   "outputs": [],
   "source": [
    "#torch.sum(model_reg.model.T1, dim=0)"
   ]
  },
  {
   "cell_type": "code",
   "execution_count": 25,
   "metadata": {},
   "outputs": [
    {
     "data": {
      "text/plain": [
       "tensor([1.])"
      ]
     },
     "execution_count": 25,
     "metadata": {},
     "output_type": "execute_result"
    }
   ],
   "source": [
    "torch.ones(RANK)"
   ]
  },
  {
   "cell_type": "code",
   "execution_count": 26,
   "metadata": {},
   "outputs": [
    {
     "name": "stdout",
     "output_type": "stream",
     "text": [
      "Parameter containing:\n",
      "tensor([1.], device='cuda:0', requires_grad=True)\n"
     ]
    }
   ],
   "source": [
    "print(model_reg.model.T0)"
   ]
  },
  {
   "cell_type": "code",
   "execution_count": 27,
   "metadata": {},
   "outputs": [
    {
     "name": "stdout",
     "output_type": "stream",
     "text": [
      "tensor(73)\n"
     ]
    }
   ],
   "source": [
    "num_param =  ut.non_zero_count(model_reg)\n",
    "print(num_param)"
   ]
  },
  {
   "cell_type": "code",
   "execution_count": 28,
   "metadata": {},
   "outputs": [],
   "source": [
    "#model.U2"
   ]
  },
  {
   "cell_type": "code",
   "execution_count": 29,
   "metadata": {},
   "outputs": [
    {
     "name": "stdout",
     "output_type": "stream",
     "text": [
      "Epoch [0], train_loss: 0.0406 val_loss: 0.0465\n",
      "Epoch [1], train_loss: 0.0513 val_loss: 0.0462\n",
      "Epoch [2], train_loss: 0.0458 val_loss: 0.0455\n",
      "Epoch [3], train_loss: 0.0649 val_loss: 0.0454\n",
      "Epoch [4], train_loss: 0.0450 val_loss: 0.0454\n"
     ]
    }
   ],
   "source": [
    "history, losses = ut.fit(NUM_EPOCHS, LEARNING_RATE, model_reg, train_loader, val_loader, opt_func=optimizer)"
   ]
  },
  {
   "cell_type": "code",
   "execution_count": 30,
   "metadata": {},
   "outputs": [
    {
     "data": {
      "text/plain": [
       "Regression(\n",
       "  (model): Legendre()\n",
       "  (loss_function): MSELoss()\n",
       ")"
      ]
     },
     "execution_count": 30,
     "metadata": {},
     "output_type": "execute_result"
    }
   ],
   "source": [
    "model_reg.to('cpu')"
   ]
  },
  {
   "cell_type": "code",
   "execution_count": 31,
   "metadata": {},
   "outputs": [],
   "source": [
    "#model.U1"
   ]
  },
  {
   "cell_type": "code",
   "execution_count": 32,
   "metadata": {},
   "outputs": [],
   "source": [
    "np.random.seed(44)\n",
    "test_dataset, target_scaler_test = ut.generate_dataset_uqtf(my_testfun, N, MinMaxScaler())\n",
    "test_target = test_dataset[:, IN_DIM:].to('cpu')\n",
    "test_input = test_dataset[:, :IN_DIM].to('cpu')\n",
    "test_target_scaled = target_scaler.inverse_transform(test_target)"
   ]
  },
  {
   "cell_type": "code",
   "execution_count": 33,
   "metadata": {},
   "outputs": [
    {
     "data": {
      "image/png": "[encoded data removed]",
      "text/plain": [
       "<Figure size 960x720 with 1 Axes>"
      ]
     },
     "metadata": {},
     "output_type": "display_data"
    }
   ],
   "source": [
    "model_name = ['Shared CP']\n",
    "Optimizer_name = ['Rprop']\n",
    "\n",
    "outputs = model_reg(test_input).to('cpu')\n",
    "outputs = target_scaler.inverse_transform(outputs.reshape(-1,1).detach().numpy())\n",
    "test_target = test_target_scaled\n",
    "\n",
    "\n",
    "\n",
    "fig1 = plt.figure()\n",
    "plt.hist(test_target_scaled, bins=\"auto\", color=\"#8da0cb\", alpha = 0.9)\n",
    "plt.hist(outputs, bins='auto', alpha = 0.5)\n",
    "#plt.xlim(-300, 300)\n",
    "#plt.ylim(0, 600)\n",
    "plt.title(model_name[0] +', Optimizer:'+ Optimizer_name[0])\n",
    "#plt.title(Optimizer_name[j])\n",
    "plt.xlabel(\"$\\mathcal{M}(\\mathbf{X})$ vs $\\mathcal{G}(\\mathbf{X})$\")\n",
    "plt.ylabel(\"Counts [-]\")\n",
    "plt.gcf().set_dpi(150);"
   ]
  },
  {
   "cell_type": "code",
   "execution_count": 34,
   "metadata": {},
   "outputs": [],
   "source": [
    "np.random.seed(44)\n",
    "\n",
    "\n",
    "outputs = model_reg(test_dataset[:, :IN_DIM].to('cpu')).to('cpu').detach().numpy()\n",
    "outputs = torch.tensor(target_scaler.inverse_transform(outputs)) \n",
    "test_target = test_dataset[:, IN_DIM:].to('cpu').detach().numpy()\n",
    "test_target = torch.tensor(target_scaler.inverse_transform(test_target) )\n",
    "mse = loss_fn(outputs, test_target).detach().item()\n",
    "\n",
    "\n",
    "l_inf = torch.max(abs(outputs-test_target)).item()\n"
   ]
  },
  {
   "cell_type": "code",
   "execution_count": 35,
   "metadata": {},
   "outputs": [
    {
     "name": "stdout",
     "output_type": "stream",
     "text": [
      "35144.73046875 813.206787109375\n"
     ]
    }
   ],
   "source": [
    "print(mse, l_inf)"
   ]
  },
  {
   "cell_type": "code",
   "execution_count": 36,
   "metadata": {},
   "outputs": [
    {
     "data": {
      "text/plain": [
       "tensor([1.0947], grad_fn=<SumBackward1>)"
      ]
     },
     "execution_count": 36,
     "metadata": {},
     "output_type": "execute_result"
    }
   ],
   "source": [
    "torch.sum(model_reg.model.T8, dim=1)"
   ]
  },
  {
   "cell_type": "code",
   "execution_count": 40,
   "metadata": {},
   "outputs": [
    {
     "data": {
      "text/plain": [
       "Parameter containing:\n",
       "tensor([[0.4390]], requires_grad=True)"
      ]
     },
     "execution_count": 40,
     "metadata": {},
     "output_type": "execute_result"
    }
   ],
   "source": [
    "model_reg.model.layer_C"
   ]
  },
  {
   "cell_type": "code",
   "execution_count": 39,
   "metadata": {},
   "outputs": [
    {
     "data": {
      "text/plain": [
       "tensor([[-4.0652]], grad_fn=<MmBackward0>)"
      ]
     },
     "execution_count": 39,
     "metadata": {},
     "output_type": "execute_result"
    }
   ],
   "source": [
    "model(torch.ones(IN_DIM).reshape(1,-1))"
   ]
  },
  {
   "cell_type": "code",
   "execution_count": 38,
   "metadata": {},
   "outputs": [
    {
     "ename": "AttributeError",
     "evalue": "'Legendre' object has no attribute 'layer_U1'",
     "output_type": "error",
     "traceback": [
      "\u001b[0;31m---------------------------------------------------------------------------\u001b[0m",
      "\u001b[0;31mAttributeError\u001b[0m                            Traceback (most recent call last)",
      "Cell \u001b[0;32mIn[38], line 1\u001b[0m\n\u001b[0;32m----> 1\u001b[0m U1_weight \u001b[39m=\u001b[39m model_reg\u001b[39m.\u001b[39;49mmodel\u001b[39m.\u001b[39;49mlayer_U1\u001b[39m.\u001b[39mto(torch\u001b[39m.\u001b[39mfloat64)\n",
      "File \u001b[0;32m~/Programs/miniconda3/envs/pytorch/lib/python3.10/site-packages/torch/nn/modules/module.py:1269\u001b[0m, in \u001b[0;36mModule.__getattr__\u001b[0;34m(self, name)\u001b[0m\n\u001b[1;32m   1267\u001b[0m     \u001b[39mif\u001b[39;00m name \u001b[39min\u001b[39;00m modules:\n\u001b[1;32m   1268\u001b[0m         \u001b[39mreturn\u001b[39;00m modules[name]\n\u001b[0;32m-> 1269\u001b[0m \u001b[39mraise\u001b[39;00m \u001b[39mAttributeError\u001b[39;00m(\u001b[39m\"\u001b[39m\u001b[39m'\u001b[39m\u001b[39m{}\u001b[39;00m\u001b[39m'\u001b[39m\u001b[39m object has no attribute \u001b[39m\u001b[39m'\u001b[39m\u001b[39m{}\u001b[39;00m\u001b[39m'\u001b[39m\u001b[39m\"\u001b[39m\u001b[39m.\u001b[39mformat(\n\u001b[1;32m   1270\u001b[0m     \u001b[39mtype\u001b[39m(\u001b[39mself\u001b[39m)\u001b[39m.\u001b[39m\u001b[39m__name__\u001b[39m, name))\n",
      "\u001b[0;31mAttributeError\u001b[0m: 'Legendre' object has no attribute 'layer_U1'"
     ]
    }
   ],
   "source": [
    "U1_weight = model_reg.model.layer_U1.to(torch.float64)"
   ]
  },
  {
   "cell_type": "code",
   "execution_count": null,
   "metadata": {},
   "outputs": [],
   "source": [
    "#torch.min(abs(U1_weight))"
   ]
  },
  {
   "cell_type": "code",
   "execution_count": null,
   "metadata": {},
   "outputs": [],
   "source": [
    "num_param =  ut.non_zero_count(model_reg)"
   ]
  },
  {
   "cell_type": "code",
   "execution_count": null,
   "metadata": {},
   "outputs": [
    {
     "data": {
      "text/plain": [
       "tensor(185)"
      ]
     },
     "execution_count": 630,
     "metadata": {},
     "output_type": "execute_result"
    }
   ],
   "source": [
    "num_param"
   ]
  },
  {
   "cell_type": "code",
   "execution_count": null,
   "metadata": {},
   "outputs": [],
   "source": [
    "U2_weight = model_reg.model.layer_U2.to(torch.float64)"
   ]
  },
  {
   "cell_type": "code",
   "execution_count": null,
   "metadata": {},
   "outputs": [
    {
     "data": {
      "text/plain": [
       "CP_L3_sparse_U(\n",
       "  (layer_C): Linear(in_features=100, out_features=1, bias=True)\n",
       ")"
      ]
     },
     "execution_count": 632,
     "metadata": {},
     "output_type": "execute_result"
    }
   ],
   "source": [
    "model"
   ]
  },
  {
   "cell_type": "code",
   "execution_count": null,
   "metadata": {},
   "outputs": [],
   "source": [
    "mat = torch.randn(3, 9)"
   ]
  },
  {
   "cell_type": "code",
   "execution_count": null,
   "metadata": {},
   "outputs": [],
   "source": []
  },
  {
   "cell_type": "code",
   "execution_count": null,
   "metadata": {},
   "outputs": [],
   "source": [
    "u_mat = torch.triu(mat)\n",
    "l_mat = torch.tril(mat,)\n",
    "l_indices = torch.tril_indices(3, 9, offset=-1)"
   ]
  },
  {
   "cell_type": "code",
   "execution_count": null,
   "metadata": {},
   "outputs": [
    {
     "data": {
      "text/plain": [
       "tensor([[ 0.9055,  0.7183, -1.0388,  1.4779, -1.3239,  0.0420,  0.0229,  1.3033,\n",
       "         -0.0328],\n",
       "        [ 0.0000,  0.1078, -0.5298,  0.0995, -0.7472, -1.2933, -0.9017,  0.2121,\n",
       "         -0.3549],\n",
       "        [ 0.0000,  0.0000, -1.4976,  1.1489, -0.9133,  1.0205, -1.4365, -1.4761,\n",
       "          0.9422]])"
      ]
     },
     "execution_count": 635,
     "metadata": {},
     "output_type": "execute_result"
    }
   ],
   "source": [
    "u_mat"
   ]
  },
  {
   "cell_type": "code",
   "execution_count": null,
   "metadata": {},
   "outputs": [
    {
     "data": {
      "text/plain": [
       "tensor([[1, 2, 2],\n",
       "        [0, 0, 1]])"
      ]
     },
     "execution_count": 636,
     "metadata": {},
     "output_type": "execute_result"
    }
   ],
   "source": [
    "l_indices"
   ]
  },
  {
   "cell_type": "code",
   "execution_count": null,
   "metadata": {},
   "outputs": [],
   "source": [
    "l_indices_r = 8 - l_indices[1] "
   ]
  },
  {
   "cell_type": "code",
   "execution_count": null,
   "metadata": {},
   "outputs": [
    {
     "data": {
      "text/plain": [
       "tensor([8, 8, 7])"
      ]
     },
     "execution_count": 638,
     "metadata": {},
     "output_type": "execute_result"
    }
   ],
   "source": [
    "l_indices_r"
   ]
  },
  {
   "cell_type": "code",
   "execution_count": null,
   "metadata": {},
   "outputs": [],
   "source": [
    "ref_indices = torch.vstack((l_indices[0], l_indices_r))\n",
    "indices_final = torch.cat((l_indices, ref_indices), dim=1)"
   ]
  },
  {
   "cell_type": "code",
   "execution_count": null,
   "metadata": {},
   "outputs": [
    {
     "data": {
      "text/plain": [
       "tensor([[1, 2, 2, 1, 2, 2],\n",
       "        [0, 0, 1, 8, 8, 7]])"
      ]
     },
     "execution_count": 640,
     "metadata": {},
     "output_type": "execute_result"
    }
   ],
   "source": [
    "indices_final"
   ]
  },
  {
   "cell_type": "code",
   "execution_count": null,
   "metadata": {},
   "outputs": [],
   "source": [
    "ones = torch.ones_like(u_mat)"
   ]
  },
  {
   "cell_type": "code",
   "execution_count": null,
   "metadata": {},
   "outputs": [
    {
     "data": {
      "text/plain": [
       "tensor([[1., 1., 1., 1., 1., 1., 1., 1., 1.],\n",
       "        [0., 1., 1., 1., 1., 1., 1., 1., 0.],\n",
       "        [0., 0., 1., 1., 1., 1., 1., 0., 0.]])"
      ]
     },
     "execution_count": 642,
     "metadata": {},
     "output_type": "execute_result"
    }
   ],
   "source": [
    "ones.index_put_(tuple(indices_final), torch.zeros(len(indices_final[0])))"
   ]
  },
  {
   "cell_type": "code",
   "execution_count": null,
   "metadata": {},
   "outputs": [
    {
     "ename": "NameError",
     "evalue": "name 'k' is not defined",
     "output_type": "error",
     "traceback": [
      "\u001b[0;31m---------------------------------------------------------------------------\u001b[0m",
      "\u001b[0;31mNameError\u001b[0m                                 Traceback (most recent call last)",
      "Cell \u001b[0;32mIn[643], line 2\u001b[0m\n\u001b[1;32m      1\u001b[0m \u001b[39m#sparse_cheby = ut.sparse_model(copy.deepcopy(Cheby_reg), 0.2)\u001b[39;00m\n\u001b[0;32m----> 2\u001b[0m sparse_params_CP \u001b[39m=\u001b[39m ut\u001b[39m.\u001b[39mparams_CP(model, k, d)\n\u001b[1;32m      3\u001b[0m mi_list_CP \u001b[39m=\u001b[39m ut\u001b[39m.\u001b[39mmulti_indices_list_CP(sparse_params_CP)\n\u001b[1;32m      4\u001b[0m mi_net_CP \u001b[39m=\u001b[39m ut\u001b[39m.\u001b[39mmulti_indices_net_CP(mi_list_CP)\n",
      "\u001b[0;31mNameError\u001b[0m: name 'k' is not defined"
     ]
    }
   ],
   "source": [
    "#sparse_cheby = ut.sparse_model(copy.deepcopy(Cheby_reg), 0.2)\n",
    "sparse_params_CP = ut.params_CP(model, k, d)\n",
    "mi_list_CP = ut.multi_indices_list_CP(sparse_params_CP)\n",
    "mi_net_CP = ut.multi_indices_net_CP(mi_list_CP)"
   ]
  },
  {
   "cell_type": "code",
   "execution_count": null,
   "metadata": {},
   "outputs": [],
   "source": []
  },
  {
   "cell_type": "code",
   "execution_count": null,
   "metadata": {},
   "outputs": [
    {
     "data": {
      "text/plain": [
       "184755"
      ]
     },
     "execution_count": 77,
     "metadata": {},
     "output_type": "execute_result"
    }
   ],
   "source": [
    "len(mi_net_CP)"
   ]
  },
  {
   "cell_type": "code",
   "execution_count": null,
   "metadata": {},
   "outputs": [],
   "source": [
    "mi_sum = mi_net_CP.sum(axis=1)\n",
    "mi_sum_0  = mi_net_CP.sum(axis=0)"
   ]
  },
  {
   "cell_type": "code",
   "execution_count": null,
   "metadata": {},
   "outputs": [],
   "source": [
    "\n",
    "z = torch.randn(2, 3)"
   ]
  },
  {
   "cell_type": "code",
   "execution_count": null,
   "metadata": {},
   "outputs": [
    {
     "data": {
      "text/plain": [
       "tensor([[-0.7503,  0.2244,  0.6072],\n",
       "        [ 0.9330, -0.3407, -1.8187]])"
      ]
     },
     "execution_count": 80,
     "metadata": {},
     "output_type": "execute_result"
    }
   ],
   "source": [
    "z"
   ]
  },
  {
   "attachments": {},
   "cell_type": "markdown",
   "metadata": {},
   "source": [
    "\n"
   ]
  },
  {
   "cell_type": "code",
   "execution_count": null,
   "metadata": {},
   "outputs": [],
   "source": [
    "#z.repeat_interleave()"
   ]
  },
  {
   "cell_type": "code",
   "execution_count": null,
   "metadata": {},
   "outputs": [],
   "source": [
    "U1 = nn.Linear(d, k, bias=False)"
   ]
  },
  {
   "cell_type": "code",
   "execution_count": null,
   "metadata": {},
   "outputs": [
    {
     "data": {
      "text/plain": [
       "Parameter containing:\n",
       "tensor([[-0.1630, -0.2370,  0.1164,  0.2408,  0.2632,  0.1538,  0.1005, -0.0034,\n",
       "         -0.0961,  0.2502]], requires_grad=True)"
      ]
     },
     "execution_count": 83,
     "metadata": {},
     "output_type": "execute_result"
    }
   ],
   "source": [
    "U1.weight"
   ]
  },
  {
   "cell_type": "code",
   "execution_count": null,
   "metadata": {},
   "outputs": [
    {
     "ename": "RuntimeError",
     "evalue": "mat1 and mat2 shapes cannot be multiplied (2x3 and 10x1)",
     "output_type": "error",
     "traceback": [
      "\u001b[0;31m---------------------------------------------------------------------------\u001b[0m",
      "\u001b[0;31mRuntimeError\u001b[0m                              Traceback (most recent call last)",
      "Cell \u001b[0;32mIn[84], line 1\u001b[0m\n\u001b[0;32m----> 1\u001b[0m x1 \u001b[39m=\u001b[39m U1(z)\n",
      "File \u001b[0;32m~/Programs/miniconda3/envs/pytorch/lib/python3.10/site-packages/torch/nn/modules/module.py:1194\u001b[0m, in \u001b[0;36mModule._call_impl\u001b[0;34m(self, *input, **kwargs)\u001b[0m\n\u001b[1;32m   1190\u001b[0m \u001b[39m# If we don't have any hooks, we want to skip the rest of the logic in\u001b[39;00m\n\u001b[1;32m   1191\u001b[0m \u001b[39m# this function, and just call forward.\u001b[39;00m\n\u001b[1;32m   1192\u001b[0m \u001b[39mif\u001b[39;00m \u001b[39mnot\u001b[39;00m (\u001b[39mself\u001b[39m\u001b[39m.\u001b[39m_backward_hooks \u001b[39mor\u001b[39;00m \u001b[39mself\u001b[39m\u001b[39m.\u001b[39m_forward_hooks \u001b[39mor\u001b[39;00m \u001b[39mself\u001b[39m\u001b[39m.\u001b[39m_forward_pre_hooks \u001b[39mor\u001b[39;00m _global_backward_hooks\n\u001b[1;32m   1193\u001b[0m         \u001b[39mor\u001b[39;00m _global_forward_hooks \u001b[39mor\u001b[39;00m _global_forward_pre_hooks):\n\u001b[0;32m-> 1194\u001b[0m     \u001b[39mreturn\u001b[39;00m forward_call(\u001b[39m*\u001b[39;49m\u001b[39minput\u001b[39;49m, \u001b[39m*\u001b[39;49m\u001b[39m*\u001b[39;49mkwargs)\n\u001b[1;32m   1195\u001b[0m \u001b[39m# Do not call functions when jit is used\u001b[39;00m\n\u001b[1;32m   1196\u001b[0m full_backward_hooks, non_full_backward_hooks \u001b[39m=\u001b[39m [], []\n",
      "File \u001b[0;32m~/Programs/miniconda3/envs/pytorch/lib/python3.10/site-packages/torch/nn/modules/linear.py:114\u001b[0m, in \u001b[0;36mLinear.forward\u001b[0;34m(self, input)\u001b[0m\n\u001b[1;32m    113\u001b[0m \u001b[39mdef\u001b[39;00m \u001b[39mforward\u001b[39m(\u001b[39mself\u001b[39m, \u001b[39minput\u001b[39m: Tensor) \u001b[39m-\u001b[39m\u001b[39m>\u001b[39m Tensor:\n\u001b[0;32m--> 114\u001b[0m     \u001b[39mreturn\u001b[39;00m F\u001b[39m.\u001b[39;49mlinear(\u001b[39minput\u001b[39;49m, \u001b[39mself\u001b[39;49m\u001b[39m.\u001b[39;49mweight, \u001b[39mself\u001b[39;49m\u001b[39m.\u001b[39;49mbias)\n",
      "\u001b[0;31mRuntimeError\u001b[0m: mat1 and mat2 shapes cannot be multiplied (2x3 and 10x1)"
     ]
    }
   ],
   "source": [
    "x1 = U1(z)"
   ]
  },
  {
   "cell_type": "code",
   "execution_count": null,
   "metadata": {},
   "outputs": [
    {
     "data": {
      "text/plain": [
       "tensor([[-0.0564],\n",
       "        [ 0.4185]], grad_fn=<MmBackward0>)"
      ]
     },
     "execution_count": 64,
     "metadata": {},
     "output_type": "execute_result"
    }
   ],
   "source": [
    "x1"
   ]
  },
  {
   "cell_type": "code",
   "execution_count": null,
   "metadata": {},
   "outputs": [],
   "source": [
    "mult_identity = torch.ones_like(U1.weight)"
   ]
  },
  {
   "cell_type": "code",
   "execution_count": null,
   "metadata": {},
   "outputs": [],
   "source": [
    "x1_1 = torch.matmul(z, mult_identity.T)"
   ]
  },
  {
   "cell_type": "code",
   "execution_count": null,
   "metadata": {},
   "outputs": [],
   "source": [
    "x1_1 = U1(z)"
   ]
  },
  {
   "cell_type": "code",
   "execution_count": null,
   "metadata": {},
   "outputs": [
    {
     "data": {
      "text/plain": [
       "tensor([[-0.0564],\n",
       "        [ 0.4185]], grad_fn=<MmBackward0>)"
      ]
     },
     "execution_count": 68,
     "metadata": {},
     "output_type": "execute_result"
    }
   ],
   "source": [
    "x1_1"
   ]
  },
  {
   "cell_type": "code",
   "execution_count": null,
   "metadata": {},
   "outputs": [],
   "source": [
    "x2 = x1 * x1_1"
   ]
  },
  {
   "cell_type": "code",
   "execution_count": null,
   "metadata": {},
   "outputs": [],
   "source": [
    "x3 = x2 * x1_1"
   ]
  },
  {
   "cell_type": "code",
   "execution_count": null,
   "metadata": {},
   "outputs": [
    {
     "data": {
      "text/plain": [
       "tensor([[-0.0002],\n",
       "        [ 0.0733]], grad_fn=<MulBackward0>)"
      ]
     },
     "execution_count": 71,
     "metadata": {},
     "output_type": "execute_result"
    }
   ],
   "source": [
    "x3"
   ]
  },
  {
   "cell_type": "code",
   "execution_count": null,
   "metadata": {},
   "outputs": [],
   "source": []
  }
 ],
 "metadata": {
  "kernelspec": {
   "display_name": "pytorch",
   "language": "python",
   "name": "python3"
  },
  "language_info": {
   "codemirror_mode": {
    "name": "ipython",
    "version": 3
   },
   "file_extension": ".py",
   "mimetype": "text/x-python",
   "name": "python",
   "nbconvert_exporter": "python",
   "pygments_lexer": "ipython3",
   "version": "3.10.9"
  },
  "orig_nbformat": 4,
  "vscode": {
   "interpreter": {
    "hash": "542851ebc7f1b97dab2659843c1270f7c570d916e83d4380bfc02112104e2680"
   }
  }
 },
 "nbformat": 4,
 "nbformat_minor": 2
}
