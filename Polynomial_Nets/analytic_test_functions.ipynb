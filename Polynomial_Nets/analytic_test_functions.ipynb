{
 "cells": [
  {
   "cell_type": "code",
   "execution_count": 14,
   "metadata": {},
   "outputs": [],
   "source": [
    "import torch\n",
    "import torch.nn as nn\n",
    "import torch.nn.functional as F\n",
    "from torch.autograd import Variable\n",
    "from torch.utils.data import TensorDataset\n",
    "\n",
    "import torchvision\n",
    "from torchvision import datasets\n",
    "from torchvision import transforms\n",
    "from torchvision.utils import save_image\n",
    "from torchsummary import summary\n",
    "\n",
    "from random import randint\n",
    "\n",
    "from polynomial_nets import CP_L3, CP_L3_sparse, NCP_L3, CP, Chebyshev, Chebyshev2, Chebyshev_L3\n",
    "\n",
    "from poly_VAE import Flatten, UnFlatten, VAE_CP_L3, VAE_CP_L3_sparse, VAE_CP_L3_sparse_LU, loss_fn\n",
    "from torchvision.datasets import MNIST\n",
    "from torch.utils.data import DataLoader\n",
    "from torch.utils.data import random_split\n",
    "\n",
    "import matplotlib.pyplot as plt\n",
    "from torchvision.utils import make_grid\n",
    "import pandas as pd\n",
    "\n",
    "import uqtestfuns as uqtf\n",
    "import numpy as np\n",
    "from utils import MLP_model, fit, Regression, generate_dataset_uqtf, evaluate, non_zero_count, sparse_model, add_multi_index, prod_multi_index\n",
    "from Cuda import DeviceDataLoader\n",
    "from sklearn.preprocessing import MinMaxScaler\n",
    "import matplotlib.pyplot as plt\n",
    "import copy"
   ]
  },
  {
   "cell_type": "code",
   "execution_count": 15,
   "metadata": {},
   "outputs": [
    {
     "name": "stdout",
     "output_type": "stream",
     "text": [
      "Name              : Borehole\n",
      "Spatial dimension : 8\n",
      "Description       : Borehole function from Harper and Gupta (1983)\n"
     ]
    },
    {
     "data": {
      "text/plain": [
       "8"
      ]
     },
     "execution_count": 15,
     "metadata": {},
     "output_type": "execute_result"
    }
   ],
   "source": [
    "my_testfun =  uqtf.Borehole()\n",
    "print(my_testfun)\n",
    "my_testfun.spatial_dimension"
   ]
  },
  {
   "cell_type": "code",
   "execution_count": 16,
   "metadata": {},
   "outputs": [],
   "source": [
    "#my_testfun.prob_input\n",
    "np.random.seed(42)"
   ]
  },
  {
   "cell_type": "code",
   "execution_count": 17,
   "metadata": {},
   "outputs": [],
   "source": [
    "N = 10000\n",
    "train = 0.9\n",
    "N_t = int(N * train)\n",
    "N_v = N - N_t\n",
    "\n"
   ]
  },
  {
   "cell_type": "code",
   "execution_count": 18,
   "metadata": {},
   "outputs": [],
   "source": [
    "torch.cuda.empty_cache() \n",
    "device = torch.device(\"cuda\" if torch.cuda.is_available() else \"cpu\")\n",
    "LEARNING_RATE = 1e-4\n",
    "BATCH_SIZE = 64\n",
    "NUM_EPOCHS = 10\n",
    "RANK = 20\n",
    "LHP = 20\n",
    "IN_DIM = my_testfun.spatial_dimension\n",
    "OUT_DIM = 1\n",
    "DEGREE = 4\n",
    "loss_fn = nn.MSELoss()"
   ]
  },
  {
   "cell_type": "code",
   "execution_count": 19,
   "metadata": {},
   "outputs": [],
   "source": [
    "dataset, target_scaler = generate_dataset_uqtf(my_testfun, N, MinMaxScaler())"
   ]
  },
  {
   "cell_type": "code",
   "execution_count": 20,
   "metadata": {},
   "outputs": [],
   "source": [
    "train_ds, val_ds = random_split(dataset, [N_t, N_v])"
   ]
  },
  {
   "cell_type": "code",
   "execution_count": 21,
   "metadata": {},
   "outputs": [],
   "source": [
    "train_loader = DeviceDataLoader(DataLoader(train_ds, BATCH_SIZE, shuffle=True), device)\n",
    "val_loader = DeviceDataLoader(DataLoader(val_ds, BATCH_SIZE), device)"
   ]
  },
  {
   "cell_type": "code",
   "execution_count": 22,
   "metadata": {},
   "outputs": [],
   "source": [
    "#inverse = target_scaler.inverse_transform(yy_sample)\n"
   ]
  },
  {
   "cell_type": "code",
   "execution_count": 23,
   "metadata": {},
   "outputs": [],
   "source": [
    "Canon = CP(DEGREE, IN_DIM, RANK, OUT_DIM).to(device)\n",
    "Cheby = Chebyshev(DEGREE, IN_DIM, RANK, OUT_DIM).to(device)\n",
    "Mlp = MLP_model(IN_DIM, OUT_DIM)\n",
    "Mlp_reg = Regression(Mlp, IN_DIM, loss_fn).to(device)\n",
    "Canon_reg = Regression(Canon, IN_DIM, loss_fn).to(device)\n",
    "Cheby_reg = Regression(Cheby, IN_DIM, loss_fn).to(device)\n",
    "optimizer = torch.optim.Adam\n",
    "optimizer = torch.optim.SGD\n",
    "optimizer = torch.optim.Rprop\n",
    "optmizer = torch.optim.LBFGS"
   ]
  },
  {
   "cell_type": "code",
   "execution_count": 24,
   "metadata": {},
   "outputs": [],
   "source": [
    "optimizer_list = [torch.optim.Adam, torch.optim.SGD, torch.optim.Rprop, torch.optim.LBFGS]"
   ]
  },
  {
   "cell_type": "code",
   "execution_count": 25,
   "metadata": {},
   "outputs": [],
   "source": [
    "models = [Mlp_reg, Canon_reg, Cheby_reg]"
   ]
  },
  {
   "cell_type": "code",
   "execution_count": 34,
   "metadata": {},
   "outputs": [],
   "source": [
    "n = len(models)\n",
    "lists = [[] for _ in range(n)]\n"
   ]
  },
  {
   "cell_type": "code",
   "execution_count": null,
   "metadata": {},
   "outputs": [],
   "source": []
  },
  {
   "cell_type": "code",
   "execution_count": 35,
   "metadata": {},
   "outputs": [],
   "source": [
    "for i in range(n):\n",
    "    for j in range(len(optimizer_list)):\n",
    "        model_clone = copy.deepcopy(models[i])\n",
    "        lists[i].append(model_clone)"
   ]
  },
  {
   "cell_type": "code",
   "execution_count": 36,
   "metadata": {},
   "outputs": [
    {
     "data": {
      "text/plain": [
       "3"
      ]
     },
     "execution_count": 36,
     "metadata": {},
     "output_type": "execute_result"
    }
   ],
   "source": [
    "len(lists)"
   ]
  },
  {
   "cell_type": "code",
   "execution_count": 1184,
   "metadata": {},
   "outputs": [],
   "source": [
    "#history1, losses1 = fit(NUM_EPOCHS, LEARNING_RATE, Mlp_reg, train_loader, val_loader, opt_func=optimizer)"
   ]
  },
  {
   "cell_type": "code",
   "execution_count": 1185,
   "metadata": {},
   "outputs": [],
   "source": [
    "#history2, losses2 = fit(NUM_EPOCHS, LEARNING_RATE, Canon_reg, train_loader, val_loader, opt_func=optimizer)"
   ]
  },
  {
   "cell_type": "code",
   "execution_count": 1186,
   "metadata": {},
   "outputs": [],
   "source": [
    "#history3, losses3 = fit(NUM_EPOCHS, LEARNING_RATE, Cheby_reg, train_loader, val_loader, opt_func=optimizer)"
   ]
  },
  {
   "cell_type": "code",
   "execution_count": 1187,
   "metadata": {},
   "outputs": [],
   "source": [
    "models = [Mlp_reg, Canon_reg, Cheby_reg]"
   ]
  },
  {
   "cell_type": "code",
   "execution_count": 1188,
   "metadata": {},
   "outputs": [
    {
     "name": "stdout",
     "output_type": "stream",
     "text": [
      "Epoch [0], train_loss: 0.0011 val_loss: 0.0009\n",
      "Epoch [1], train_loss: 0.0006 val_loss: 0.0008\n",
      "Epoch [2], train_loss: 0.0010 val_loss: 0.0008\n",
      "Epoch [3], train_loss: 0.0006 val_loss: 0.0008\n",
      "Epoch [4], train_loss: 0.0005 val_loss: 0.0008\n",
      "Epoch [5], train_loss: 0.0006 val_loss: 0.0008\n",
      "Epoch [6], train_loss: 0.0007 val_loss: 0.0008\n",
      "Epoch [7], train_loss: 0.0010 val_loss: 0.0008\n",
      "Epoch [8], train_loss: 0.0008 val_loss: 0.0008\n",
      "Epoch [9], train_loss: 0.0009 val_loss: 0.0008\n",
      "Epoch [0], train_loss: 0.0019 val_loss: 0.0020\n",
      "Epoch [1], train_loss: 0.0017 val_loss: 0.0018\n",
      "Epoch [2], train_loss: 0.0024 val_loss: 0.0018\n",
      "Epoch [3], train_loss: 0.0011 val_loss: 0.0017\n",
      "Epoch [4], train_loss: 0.0011 val_loss: 0.0017\n",
      "Epoch [5], train_loss: 0.0020 val_loss: 0.0017\n",
      "Epoch [6], train_loss: 0.0024 val_loss: 0.0017\n",
      "Epoch [7], train_loss: 0.0019 val_loss: 0.0017\n",
      "Epoch [8], train_loss: 0.0013 val_loss: 0.0016\n",
      "Epoch [9], train_loss: 0.0019 val_loss: 0.0016\n",
      "Epoch [0], train_loss: 0.0145 val_loss: 0.0174\n"
     ]
    },
    {
     "ename": "KeyboardInterrupt",
     "evalue": "",
     "output_type": "error",
     "traceback": [
      "\u001b[0;31m---------------------------------------------------------------------------\u001b[0m",
      "\u001b[0;31mKeyboardInterrupt\u001b[0m                         Traceback (most recent call last)",
      "Cell \u001b[0;32mIn[1188], line 2\u001b[0m\n\u001b[1;32m      1\u001b[0m \u001b[39mfor\u001b[39;00m model \u001b[39min\u001b[39;00m models:\n\u001b[0;32m----> 2\u001b[0m     history, losses \u001b[39m=\u001b[39m fit(NUM_EPOCHS, LEARNING_RATE, model, train_loader, val_loader, opt_func\u001b[39m=\u001b[39;49moptimizer)\n",
      "File \u001b[0;32m~/Projects/Polynomial_Nets/utils.py:94\u001b[0m, in \u001b[0;36mfit\u001b[0;34m(epochs, lr, model, train_loader, val_loader, opt_func)\u001b[0m\n\u001b[1;32m     92\u001b[0m     loss\u001b[39m.\u001b[39mbackward()\n\u001b[1;32m     93\u001b[0m     optimizer\u001b[39m.\u001b[39mstep()\n\u001b[0;32m---> 94\u001b[0m     optimizer\u001b[39m.\u001b[39;49mzero_grad()\n\u001b[1;32m     96\u001b[0m \u001b[39m# Validation phase\u001b[39;00m\n\u001b[1;32m     97\u001b[0m losses\u001b[39m.\u001b[39mappend(loss)\n",
      "File \u001b[0;32m~/Programs/miniconda3/envs/pytorch/lib/python3.10/site-packages/torch/optim/optimizer.py:279\u001b[0m, in \u001b[0;36mOptimizer.zero_grad\u001b[0;34m(self, set_to_none)\u001b[0m\n\u001b[1;32m    277\u001b[0m     p\u001b[39m.\u001b[39mgrad\u001b[39m.\u001b[39mrequires_grad_(\u001b[39mFalse\u001b[39;00m)\n\u001b[1;32m    278\u001b[0m \u001b[39mif\u001b[39;00m (\u001b[39mnot\u001b[39;00m foreach \u001b[39mor\u001b[39;00m p\u001b[39m.\u001b[39mgrad\u001b[39m.\u001b[39mis_sparse):\n\u001b[0;32m--> 279\u001b[0m     p\u001b[39m.\u001b[39;49mgrad\u001b[39m.\u001b[39;49mzero_()\n\u001b[1;32m    280\u001b[0m \u001b[39melse\u001b[39;00m:\n\u001b[1;32m    281\u001b[0m     per_device_and_dtype_grads[p\u001b[39m.\u001b[39mgrad\u001b[39m.\u001b[39mdevice][p\u001b[39m.\u001b[39mgrad\u001b[39m.\u001b[39mdtype]\u001b[39m.\u001b[39mappend(p\u001b[39m.\u001b[39mgrad)\n",
      "\u001b[0;31mKeyboardInterrupt\u001b[0m: "
     ]
    }
   ],
   "source": [
    "for model in models:\n",
    "    history, losses = fit(NUM_EPOCHS, LEARNING_RATE, model, train_loader, val_loader, opt_func=optimizer)"
   ]
  },
  {
   "cell_type": "code",
   "execution_count": null,
   "metadata": {},
   "outputs": [
    {
     "data": {
      "image/png": "[encoded data removed]",
      "text/plain": [
       "<Figure size 960x720 with 1 Axes>"
      ]
     },
     "metadata": {},
     "output_type": "display_data"
    }
   ],
   "source": [
    "test_dataset, target_scaler_test = generate_dataset_uqtf(my_testfun, N, MinMaxScaler())\n",
    "for model in models:\n",
    "    model.to('cpu')\n",
    "    np.random.seed(41)\n",
    "    outputs1 = model(test_dataset[:, :IN_DIM].to('cpu')).to('cpu').detach().numpy()\n",
    "    test_target = test_dataset[:, IN_DIM:].to('cpu').detach().numpy()\n",
    "    plt.hist(test_target, bins=\"auto\", color=\"#8da0cb\")\n",
    "    plt.hist(outputs1, bins='auto')\n",
    "    plt.grid()\n",
    "    plt.xlabel(\"$\\mathcal{M}(\\mathbf{X})$\")\n",
    "    plt.ylabel(\"Counts [-]\")\n",
    "    plt.gcf().set_dpi(150);"
   ]
  },
  {
   "cell_type": "code",
   "execution_count": null,
   "metadata": {},
   "outputs": [
    {
     "data": {
      "text/plain": [
       "Regression(\n",
       "  (model): Chebyshev(\n",
       "    (T1): Linear(in_features=8, out_features=20, bias=False)\n",
       "    (T2): Linear(in_features=8, out_features=20, bias=False)\n",
       "    (T3): Linear(in_features=8, out_features=20, bias=False)\n",
       "    (T4): Linear(in_features=8, out_features=20, bias=False)\n",
       "    (layer_C): Linear(in_features=20, out_features=1, bias=True)\n",
       "  )\n",
       "  (loss_function): MSELoss()\n",
       ")"
      ]
     },
     "execution_count": 1142,
     "metadata": {},
     "output_type": "execute_result"
    }
   ],
   "source": [
    "model.to('cpu')"
   ]
  },
  {
   "cell_type": "code",
   "execution_count": null,
   "metadata": {},
   "outputs": [],
   "source": [
    "np.random.seed(43)\n",
    "test_dataset, target_scaler_test = generate_dataset_uqtf(my_testfun, N, MinMaxScaler())"
   ]
  },
  {
   "cell_type": "code",
   "execution_count": null,
   "metadata": {},
   "outputs": [
    {
     "data": {
      "text/plain": [
       "tensor(681)"
      ]
     },
     "execution_count": 1144,
     "metadata": {},
     "output_type": "execute_result"
    }
   ],
   "source": [
    "non_zero_count(model)"
   ]
  },
  {
   "cell_type": "code",
   "execution_count": null,
   "metadata": {},
   "outputs": [],
   "source": []
  },
  {
   "cell_type": "code",
   "execution_count": null,
   "metadata": {},
   "outputs": [],
   "source": [
    "outputs1 = model(test_dataset[:, :IN_DIM].to('cpu')).to('cpu').detach().numpy()\n",
    "test_target = test_dataset[:, IN_DIM:].to('cpu').detach().numpy()"
   ]
  },
  {
   "cell_type": "code",
   "execution_count": null,
   "metadata": {},
   "outputs": [
    {
     "data": {
      "image/png": "[encoded data removed]",
      "text/plain": [
       "<Figure size 960x720 with 1 Axes>"
      ]
     },
     "metadata": {},
     "output_type": "display_data"
    }
   ],
   "source": [
    "import matplotlib.pyplot as plt\n",
    "\n",
    "plt.hist(test_target, bins=\"auto\", color=\"#8da0cb\")\n",
    "plt.hist(outputs1, bins='auto')\n",
    "plt.grid()\n",
    "plt.xlabel(\"$\\mathcal{M}(\\mathbf{X})$\")\n",
    "plt.ylabel(\"Counts [-]\")\n",
    "plt.gcf().set_dpi(150);"
   ]
  },
  {
   "cell_type": "code",
   "execution_count": null,
   "metadata": {},
   "outputs": [
    {
     "name": "stdout",
     "output_type": "stream",
     "text": [
      "tensor([-0.0025,  0.1164,  0.2086, -0.2557,  0.1783, -0.0405,  0.0883,  0.1882,\n",
      "         0.0660, -0.0477, -0.0885,  0.1515, -0.1042,  0.0113,  0.0645,  0.2004,\n",
      "         0.2218, -0.0995,  0.1025, -0.1545])\n",
      "Parameter containing:\n",
      "tensor([-0.0000,  0.1164,  0.2086, -0.2557,  0.1783, -0.0000,  0.0000,  0.1882,\n",
      "         0.0000, -0.0000, -0.0000,  0.1515, -0.1042,  0.0000,  0.0000,  0.2004,\n",
      "         0.2218, -0.0000,  0.1025, -0.1545], requires_grad=True)\n",
      "tensor([[ 0.1910,  0.0042, -0.3520,  0.2218, -0.3427,  0.0866, -0.0698,  0.2689],\n",
      "        [ 0.2326,  0.1750,  0.3231,  0.2926, -0.2333, -0.1648, -0.1003,  0.3717],\n",
      "        [ 0.2191, -0.4332, -0.2566, -0.2325,  0.2605, -0.2343, -0.1781, -0.0093],\n",
      "        [-0.1019, -0.2376,  0.0025, -0.1822,  0.1157, -0.0082, -0.1694, -0.2026],\n",
      "        [ 0.0531,  0.2010,  0.3530,  0.3086,  0.1814,  0.2447,  0.0916,  0.1793],\n",
      "        [-0.1159, -0.0501,  0.1570, -0.2375,  0.3353, -0.0798,  0.0764, -0.1588],\n",
      "        [ 0.1446,  0.1719,  0.1349,  0.2032, -0.0543, -0.0819,  0.1441,  0.0612],\n",
      "        [-0.2652,  0.2193,  0.1247,  0.1404, -0.1208, -0.1816, -0.0518, -0.0147],\n",
      "        [-0.2789, -0.2945,  0.1447,  0.0356, -0.1490,  0.1813, -0.0659, -0.2547],\n",
      "        [-0.0764,  0.2076,  0.0709, -0.0858, -0.1828, -0.1344, -0.0255,  0.3254],\n",
      "        [ 0.2438, -0.2446,  0.0350, -0.0888, -0.2457, -0.1151,  0.0651, -0.1035],\n",
      "        [ 0.2518,  0.0108, -0.2526,  0.3146, -0.3181, -0.1167, -0.2456,  0.1992],\n",
      "        [-0.1169, -0.2441,  0.3450,  0.0480,  0.0589, -0.0729, -0.1183, -0.2081],\n",
      "        [ 0.1849,  0.2565,  0.1995, -0.0468, -0.0322, -0.2676, -0.3338,  0.0778],\n",
      "        [-0.1863,  0.3218,  0.2486,  0.0907,  0.1092,  0.2385,  0.0772,  0.2907],\n",
      "        [ 0.2740, -0.1350, -0.1587, -0.3089,  0.1708, -0.1282,  0.0863,  0.1369],\n",
      "        [-0.1118,  0.1537,  0.2193,  0.1049, -0.1950,  0.0973, -0.3057,  0.2536],\n",
      "        [-0.3043,  0.2564,  0.1440, -0.2702, -0.1814, -0.1058, -0.1667,  0.2441],\n",
      "        [-0.2816,  0.1423, -0.1442, -0.0462,  0.1102,  0.1632,  0.2772, -0.3384],\n",
      "        [ 0.0952, -0.0950, -0.0291,  0.2549, -0.1398,  0.2483,  0.0528,  0.3349]])\n",
      "Parameter containing:\n",
      "tensor([[ 0.1910,  0.0000, -0.3520,  0.2218, -0.3427,  0.0000, -0.0000,  0.2689],\n",
      "        [ 0.2326,  0.1750,  0.3231,  0.2926, -0.2333, -0.1648, -0.1003,  0.3717],\n",
      "        [ 0.2191, -0.4332, -0.2566, -0.2325,  0.2605, -0.2343, -0.1781, -0.0000],\n",
      "        [-0.1019, -0.2376,  0.0000, -0.1822,  0.1157, -0.0000, -0.1694, -0.2026],\n",
      "        [ 0.0000,  0.2010,  0.3530,  0.3086,  0.1814,  0.2447,  0.0000,  0.1793],\n",
      "        [-0.1159, -0.0000,  0.1570, -0.2375,  0.3353, -0.0000,  0.0000, -0.1588],\n",
      "        [ 0.1446,  0.1719,  0.1349,  0.2032, -0.0000, -0.0000,  0.1441,  0.0000],\n",
      "        [-0.2652,  0.2193,  0.1247,  0.1404, -0.1208, -0.1816, -0.0000, -0.0000],\n",
      "        [-0.2789, -0.2945,  0.1447,  0.0000, -0.1490,  0.1813, -0.0000, -0.2547],\n",
      "        [-0.0000,  0.2076,  0.0000, -0.0000, -0.1828, -0.1344, -0.0000,  0.3254],\n",
      "        [ 0.2438, -0.2446,  0.0000, -0.0000, -0.2457, -0.1151,  0.0000, -0.1035],\n",
      "        [ 0.2518,  0.0000, -0.2526,  0.3146, -0.3181, -0.1167, -0.2456,  0.1992],\n",
      "        [-0.1169, -0.2441,  0.3450,  0.0000,  0.0000, -0.0000, -0.1183, -0.2081],\n",
      "        [ 0.1849,  0.2565,  0.1995, -0.0000, -0.0000, -0.2676, -0.3338,  0.0000],\n",
      "        [-0.1863,  0.3218,  0.2486,  0.0000,  0.1092,  0.2385,  0.0000,  0.2907],\n",
      "        [ 0.2740, -0.1350, -0.1587, -0.3089,  0.1708, -0.1282,  0.0000,  0.1369],\n",
      "        [-0.1118,  0.1537,  0.2193,  0.1049, -0.1950,  0.0000, -0.3057,  0.2536],\n",
      "        [-0.3043,  0.2564,  0.1440, -0.2702, -0.1814, -0.1058, -0.1667,  0.2441],\n",
      "        [-0.2816,  0.1423, -0.1442, -0.0000,  0.1102,  0.1632,  0.2772, -0.3384],\n",
      "        [ 0.0000, -0.0000, -0.0000,  0.2549, -0.1398,  0.2483,  0.0000,  0.3349]],\n",
      "       requires_grad=True)\n",
      "tensor([[ 0.2107, -0.1995,  0.3235,  0.1367,  0.2011,  0.0035,  0.0721,  0.2552],\n",
      "        [-0.0787, -0.3408,  0.2322,  0.2994,  0.0415, -0.1629, -0.0192,  0.2863],\n",
      "        [ 0.2672,  0.2047,  0.2431, -0.1956,  0.3414,  0.3076,  0.3557,  0.0668],\n",
      "        [-0.2496, -0.3273, -0.2850, -0.2596, -0.0157,  0.0018,  0.1867, -0.1619],\n",
      "        [-0.3284, -0.1429,  0.2367, -0.0416, -0.1274, -0.0633, -0.2828,  0.0246],\n",
      "        [ 0.0094,  0.2528,  0.2215, -0.3131,  0.3476, -0.3319, -0.0132,  0.1265],\n",
      "        [-0.0786, -0.2250, -0.1118, -0.1970,  0.0377, -0.2282,  0.1899,  0.1905],\n",
      "        [-0.1647,  0.0440, -0.0209, -0.2811,  0.0032, -0.1964,  0.2425,  0.0534],\n",
      "        [ 0.3449,  0.1035,  0.1241,  0.2553,  0.4532,  0.1153, -0.2972, -0.2090],\n",
      "        [ 0.0427, -0.3604, -0.2822, -0.0669, -0.2648,  0.4082, -0.2882, -0.2207],\n",
      "        [-0.1790, -0.3229, -0.2651,  0.0268,  0.1606,  0.0629,  0.0718,  0.1369],\n",
      "        [ 0.2513, -0.0615, -0.2486, -0.0400, -0.2204, -0.1296,  0.2429,  0.2167],\n",
      "        [-0.0180, -0.1584,  0.0067,  0.3485, -0.1951, -0.3193, -0.1405, -0.1106],\n",
      "        [ 0.4455, -0.0347, -0.1181, -0.1293, -0.2559, -0.0528,  0.2699,  0.1039],\n",
      "        [-0.2200,  0.2081,  0.2841,  0.0646, -0.2164, -0.0036,  0.0248,  0.2417],\n",
      "        [ 0.3154,  0.2934, -0.0315,  0.0999, -0.0066, -0.2686,  0.1010,  0.0221],\n",
      "        [ 0.3765,  0.0753, -0.2902, -0.2813, -0.3135, -0.1621,  0.1844, -0.1552],\n",
      "        [ 0.2896, -0.0623, -0.2251, -0.0090, -0.0137,  0.1528, -0.1693, -0.2733],\n",
      "        [ 0.2294, -0.3008, -0.0691, -0.3242,  0.3477, -0.1761, -0.0936, -0.4038],\n",
      "        [ 0.2806, -0.0755,  0.1683, -0.2336,  0.1532, -0.2576,  0.4630,  0.0393]])\n",
      "Parameter containing:\n",
      "tensor([[ 0.2107, -0.1995,  0.3235,  0.1367,  0.2011,  0.0000,  0.0000,  0.2552],\n",
      "        [-0.0000, -0.3408,  0.2322,  0.2994,  0.0000, -0.1629, -0.0000,  0.2863],\n",
      "        [ 0.2672,  0.2047,  0.2431, -0.1956,  0.3414,  0.3076,  0.3557,  0.0000],\n",
      "        [-0.2496, -0.3273, -0.2850, -0.2596, -0.0000,  0.0000,  0.1867, -0.1619],\n",
      "        [-0.3284, -0.1429,  0.2367, -0.0000, -0.1274, -0.0000, -0.2828,  0.0000],\n",
      "        [ 0.0000,  0.2528,  0.2215, -0.3131,  0.3476, -0.3319, -0.0000,  0.1265],\n",
      "        [-0.0000, -0.2250, -0.1118, -0.1970,  0.0000, -0.2282,  0.1899,  0.1905],\n",
      "        [-0.1647,  0.0000, -0.0000, -0.2811,  0.0000, -0.1964,  0.2425,  0.0000],\n",
      "        [ 0.3449,  0.1035,  0.1241,  0.2553,  0.4532,  0.1153, -0.2972, -0.2090],\n",
      "        [ 0.0000, -0.3604, -0.2822, -0.0000, -0.2648,  0.4082, -0.2882, -0.2207],\n",
      "        [-0.1790, -0.3229, -0.2651,  0.0000,  0.1606,  0.0000,  0.0000,  0.1369],\n",
      "        [ 0.2513, -0.0000, -0.2486, -0.0000, -0.2204, -0.1296,  0.2429,  0.2167],\n",
      "        [-0.0000, -0.1584,  0.0000,  0.3485, -0.1951, -0.3193, -0.1405, -0.1106],\n",
      "        [ 0.4455, -0.0000, -0.1181, -0.1293, -0.2559, -0.0000,  0.2699,  0.1039],\n",
      "        [-0.2200,  0.2081,  0.2841,  0.0000, -0.2164, -0.0000,  0.0000,  0.2417],\n",
      "        [ 0.3154,  0.2934, -0.0000,  0.0000, -0.0000, -0.2686,  0.1010,  0.0000],\n",
      "        [ 0.3765,  0.0000, -0.2902, -0.2813, -0.3135, -0.1621,  0.1844, -0.1552],\n",
      "        [ 0.2896, -0.0000, -0.2251, -0.0000, -0.0000,  0.1528, -0.1693, -0.2733],\n",
      "        [ 0.2294, -0.3008, -0.0000, -0.3242,  0.3477, -0.1761, -0.0000, -0.4038],\n",
      "        [ 0.2806, -0.0000,  0.1683, -0.2336,  0.1532, -0.2576,  0.4630,  0.0000]],\n",
      "       requires_grad=True)\n",
      "tensor([[-0.1114, -0.0718, -0.0519,  0.3150,  0.0408, -0.1695,  0.2095, -0.3227],\n",
      "        [ 0.3447,  0.1638, -0.2906,  0.1628,  0.1391, -0.0258, -0.1292,  0.0492],\n",
      "        [ 0.1448, -0.1713,  0.2390,  0.0234, -0.2503, -0.0132, -0.3060,  0.0217],\n",
      "        [ 0.2336,  0.1807,  0.0508, -0.1885,  0.0362, -0.3110, -0.2682,  0.0334],\n",
      "        [-0.3129, -0.3205,  0.1163,  0.0284, -0.3071,  0.2539, -0.2946, -0.3280],\n",
      "        [-0.3184,  0.1772,  0.3215,  0.0254, -0.0468, -0.3318,  0.1630, -0.2306],\n",
      "        [-0.1670, -0.2682, -0.1912, -0.3113, -0.0581, -0.2916, -0.0661,  0.2089],\n",
      "        [-0.2276, -0.2290,  0.3091, -0.1117, -0.0835, -0.1435, -0.3480,  0.2348],\n",
      "        [ 0.0456,  0.1054,  0.0343, -0.1008,  0.0753, -0.0130,  0.2850, -0.1891],\n",
      "        [-0.2227, -0.0338, -0.2834,  0.0620, -0.1760,  0.2234,  0.1022,  0.2413],\n",
      "        [ 0.1897,  0.1762, -0.1366, -0.3436,  0.0329,  0.2176,  0.2698,  0.3312],\n",
      "        [-0.3245, -0.0415,  0.0206, -0.0240, -0.2574,  0.1546, -0.2492, -0.1780],\n",
      "        [-0.1243,  0.2535,  0.2806, -0.2485, -0.1593, -0.2697,  0.0588,  0.1494],\n",
      "        [-0.2399,  0.0249,  0.0606,  0.1085, -0.0097, -0.2543,  0.2135,  0.1415],\n",
      "        [ 0.0081,  0.3391, -0.0284, -0.3261, -0.1029,  0.2440, -0.0764, -0.2798],\n",
      "        [-0.0818,  0.2742, -0.3120, -0.0765, -0.3267,  0.1806, -0.2885,  0.1024],\n",
      "        [ 0.1487, -0.1375, -0.0711, -0.1103,  0.3472, -0.0280,  0.2895,  0.2107],\n",
      "        [ 0.1637,  0.3546, -0.1363, -0.0249,  0.3326,  0.2063,  0.0063, -0.2515],\n",
      "        [-0.0775,  0.0040,  0.0767,  0.2998,  0.2539, -0.3352, -0.3017,  0.2116],\n",
      "        [-0.2472,  0.0011,  0.1845,  0.0265, -0.2308,  0.1198, -0.1000, -0.1125]])\n",
      "Parameter containing:\n",
      "tensor([[-0.1114, -0.0000, -0.0000,  0.3150,  0.0000, -0.1695,  0.2095, -0.3227],\n",
      "        [ 0.3447,  0.1638, -0.2906,  0.1628,  0.1391, -0.0000, -0.1292,  0.0000],\n",
      "        [ 0.1448, -0.1713,  0.2390,  0.0000, -0.2503, -0.0000, -0.3060,  0.0000],\n",
      "        [ 0.2336,  0.1807,  0.0000, -0.1885,  0.0000, -0.3110, -0.2682,  0.0000],\n",
      "        [-0.3129, -0.3205,  0.1163,  0.0000, -0.3071,  0.2539, -0.2946, -0.3280],\n",
      "        [-0.3184,  0.1772,  0.3215,  0.0000, -0.0000, -0.3318,  0.1630, -0.2306],\n",
      "        [-0.1670, -0.2682, -0.1912, -0.3113, -0.0000, -0.2916, -0.0000,  0.2089],\n",
      "        [-0.2276, -0.2290,  0.3091, -0.1117, -0.0000, -0.1435, -0.3480,  0.2348],\n",
      "        [ 0.0000,  0.1054,  0.0000, -0.1008,  0.0000, -0.0000,  0.2850, -0.1891],\n",
      "        [-0.2227, -0.0000, -0.2834,  0.0000, -0.1760,  0.2234,  0.1022,  0.2413],\n",
      "        [ 0.1897,  0.1762, -0.1366, -0.3436,  0.0000,  0.2176,  0.2698,  0.3312],\n",
      "        [-0.3245, -0.0000,  0.0000, -0.0000, -0.2574,  0.1546, -0.2492, -0.1780],\n",
      "        [-0.1243,  0.2535,  0.2806, -0.2485, -0.1593, -0.2697,  0.0000,  0.1494],\n",
      "        [-0.2399,  0.0000,  0.0000,  0.1085, -0.0000, -0.2543,  0.2135,  0.1415],\n",
      "        [ 0.0000,  0.3391, -0.0000, -0.3261, -0.1029,  0.2440, -0.0000, -0.2798],\n",
      "        [-0.0000,  0.2742, -0.3120, -0.0000, -0.3267,  0.1806, -0.2885,  0.1024],\n",
      "        [ 0.1487, -0.1375, -0.0000, -0.1103,  0.3472, -0.0000,  0.2895,  0.2107],\n",
      "        [ 0.1637,  0.3546, -0.1363, -0.0000,  0.3326,  0.2063,  0.0000, -0.2515],\n",
      "        [-0.0000,  0.0000,  0.0000,  0.2998,  0.2539, -0.3352, -0.3017,  0.2116],\n",
      "        [-0.2472,  0.0000,  0.1845,  0.0000, -0.2308,  0.1198, -0.0000, -0.1125]],\n",
      "       requires_grad=True)\n",
      "tensor([[ 0.0203,  0.0197, -0.0311, -0.1391,  0.0269,  0.1274,  0.1852, -0.2286],\n",
      "        [-0.1195,  0.0839, -0.0858, -0.1298,  0.1062,  0.1838,  0.2995,  0.2098],\n",
      "        [-0.2850,  0.0229,  0.2093, -0.3167,  0.0741,  0.4222,  0.0546,  0.0131],\n",
      "        [-0.2462, -0.0045, -0.0418, -0.1561, -0.2903, -0.0140,  0.0378,  0.0846],\n",
      "        [-0.3473,  0.3377, -0.1458,  0.2017, -0.1551,  0.0382, -0.1602,  0.1433],\n",
      "        [ 0.2629, -0.1266, -0.0005, -0.0686,  0.2780,  0.1650,  0.3241, -0.1160],\n",
      "        [-0.1230,  0.2384, -0.2618,  0.1314,  0.3249, -0.2508,  0.1619, -0.2968],\n",
      "        [ 0.1641,  0.2192, -0.1054,  0.2348,  0.2813, -0.0721,  0.1712, -0.1578],\n",
      "        [ 0.2616,  0.3508,  0.2032, -0.2365,  0.2054, -0.4141,  0.0618,  0.0639],\n",
      "        [-0.2409, -0.1337, -0.0560, -0.1340,  0.1131, -0.2855,  0.0436, -0.0044],\n",
      "        [-0.0659,  0.1778, -0.1674, -0.1249,  0.1970, -0.1803, -0.2827, -0.3136],\n",
      "        [-0.2692, -0.0805, -0.1850, -0.1293, -0.2516, -0.0299, -0.1777, -0.2765],\n",
      "        [-0.3237, -0.3053, -0.1940, -0.3811, -0.2846,  0.0970, -0.0573,  0.2457],\n",
      "        [ 0.3259,  0.2645, -0.2261,  0.2213, -0.2467,  0.2228, -0.3449, -0.2838],\n",
      "        [-0.1807,  0.1871, -0.0340,  0.0826,  0.0589, -0.0951, -0.0431,  0.2880],\n",
      "        [ 0.3058,  0.1893,  0.2316,  0.1863,  0.2815, -0.1734, -0.2438,  0.0341],\n",
      "        [-0.2552, -0.2395, -0.2997, -0.0846,  0.1339,  0.1498,  0.1954, -0.1140],\n",
      "        [ 0.2279, -0.0394, -0.0468,  0.2883,  0.1550,  0.3432, -0.0143, -0.3502],\n",
      "        [-0.0345, -0.2876, -0.1963, -0.2600, -0.2682,  0.0504,  0.2364,  0.1864],\n",
      "        [-0.0586,  0.0509, -0.2140, -0.0950, -0.1968,  0.2914, -0.0908,  0.2550]])\n",
      "Parameter containing:\n",
      "tensor([[ 0.0000,  0.0000, -0.0000, -0.1391,  0.0000,  0.1274,  0.1852, -0.2286],\n",
      "        [-0.1195,  0.0000, -0.0000, -0.1298,  0.1062,  0.1838,  0.2995,  0.2098],\n",
      "        [-0.2850,  0.0000,  0.2093, -0.3167,  0.0000,  0.4222,  0.0000,  0.0000],\n",
      "        [-0.2462, -0.0000, -0.0000, -0.1561, -0.2903, -0.0000,  0.0000,  0.0000],\n",
      "        [-0.3473,  0.3377, -0.1458,  0.2017, -0.1551,  0.0000, -0.1602,  0.1433],\n",
      "        [ 0.2629, -0.1266, -0.0000, -0.0000,  0.2780,  0.1650,  0.3241, -0.1160],\n",
      "        [-0.1230,  0.2384, -0.2618,  0.1314,  0.3249, -0.2508,  0.1619, -0.2968],\n",
      "        [ 0.1641,  0.2192, -0.1054,  0.2348,  0.2813, -0.0000,  0.1712, -0.1578],\n",
      "        [ 0.2616,  0.3508,  0.2032, -0.2365,  0.2054, -0.4141,  0.0000,  0.0000],\n",
      "        [-0.2409, -0.1337, -0.0000, -0.1340,  0.1131, -0.2855,  0.0000, -0.0000],\n",
      "        [-0.0000,  0.1778, -0.1674, -0.1249,  0.1970, -0.1803, -0.2827, -0.3136],\n",
      "        [-0.2692, -0.0000, -0.1850, -0.1293, -0.2516, -0.0000, -0.1777, -0.2765],\n",
      "        [-0.3237, -0.3053, -0.1940, -0.3811, -0.2846,  0.0000, -0.0000,  0.2457],\n",
      "        [ 0.3259,  0.2645, -0.2261,  0.2213, -0.2467,  0.2228, -0.3449, -0.2838],\n",
      "        [-0.1807,  0.1871, -0.0000,  0.0000,  0.0000, -0.0000, -0.0000,  0.2880],\n",
      "        [ 0.3058,  0.1893,  0.2316,  0.1863,  0.2815, -0.1734, -0.2438,  0.0000],\n",
      "        [-0.2552, -0.2395, -0.2997, -0.0000,  0.1339,  0.1498,  0.1954, -0.1140],\n",
      "        [ 0.2279, -0.0000, -0.0000,  0.2883,  0.1550,  0.3432, -0.0000, -0.3502],\n",
      "        [-0.0000, -0.2876, -0.1963, -0.2600, -0.2682,  0.0000,  0.2364,  0.1864],\n",
      "        [-0.0000,  0.0000, -0.2140, -0.0000, -0.1968,  0.2914, -0.0000,  0.2550]],\n",
      "       requires_grad=True)\n",
      "tensor([[ 0.0971, -0.0992,  0.0357, -0.0335, -0.0289, -0.1404, -0.1620,  0.0815,\n",
      "          0.0746,  0.0539,  0.0526,  0.1087, -0.0096, -0.1260,  0.0978,  0.1470,\n",
      "          0.1330,  0.1188,  0.1367, -0.1057]])\n",
      "Parameter containing:\n",
      "tensor([[ 0.0000, -0.0000,  0.0000, -0.0000, -0.0000, -0.1404, -0.1620,  0.0000,\n",
      "          0.0000,  0.0000,  0.0000,  0.1087, -0.0000, -0.1260,  0.0000,  0.1470,\n",
      "          0.1330,  0.1188,  0.1367, -0.1057]], requires_grad=True)\n",
      "tensor([0.0590])\n",
      "Parameter containing:\n",
      "tensor([0.], requires_grad=True)\n"
     ]
    },
    {
     "data": {
      "text/plain": [
       "<All keys matched successfully>"
      ]
     },
     "execution_count": 1147,
     "metadata": {},
     "output_type": "execute_result"
    }
   ],
   "source": [
    "state_dict = model.state_dict()\n",
    "for name, p in model.named_parameters():\n",
    "    print(state_dict[name])\n",
    "    mask1 = p > 0.1 \n",
    "    mask2 = p < -0.1\n",
    "    mask3 =  (mask1 | mask2) \n",
    "    p = nn.Parameter(mask3 * p)\n",
    "    state_dict[name] = p\n",
    "    print(state_dict[name])\n",
    "\n",
    "model.load_state_dict(state_dict)"
   ]
  },
  {
   "cell_type": "code",
   "execution_count": null,
   "metadata": {},
   "outputs": [],
   "source": [
    "def sparse_model(model, threshold):\n",
    "    state_dict = model.state_dict()\n",
    "    for name, p in model.named_parameters():\n",
    "        mask1 = p > threshold\n",
    "        mask2 = p < -threshold\n",
    "        mask3 =  (mask1 | mask2) \n",
    "        p = nn.Parameter(mask3 * p)\n",
    "        state_dict[name] = p\n",
    "\n",
    "    model.load_state_dict(state_dict)\n",
    "    return model"
   ]
  },
  {
   "cell_type": "code",
   "execution_count": null,
   "metadata": {},
   "outputs": [],
   "source": [
    "num_param = []\n",
    "for name, param in model.named_parameters():\n",
    "    num = torch.count_nonzero(param)\n",
    "    num_param.append(num)\n",
    "\n",
    "after = torch.sum(torch.tensor(num_param))"
   ]
  },
  {
   "cell_type": "code",
   "execution_count": null,
   "metadata": {},
   "outputs": [
    {
     "data": {
      "text/plain": [
       "tensor(483)"
      ]
     },
     "execution_count": 1150,
     "metadata": {},
     "output_type": "execute_result"
    }
   ],
   "source": [
    "after"
   ]
  },
  {
   "cell_type": "code",
   "execution_count": null,
   "metadata": {},
   "outputs": [
    {
     "data": {
      "text/plain": [
       "tensor(278)"
      ]
     },
     "execution_count": 1151,
     "metadata": {},
     "output_type": "execute_result"
    }
   ],
   "source": [
    "(before - after)"
   ]
  },
  {
   "cell_type": "code",
   "execution_count": null,
   "metadata": {},
   "outputs": [
    {
     "data": {
      "text/plain": [
       "tensor(36.5309)"
      ]
     },
     "execution_count": 1152,
     "metadata": {},
     "output_type": "execute_result"
    }
   ],
   "source": [
    "(before - after)/before *100"
   ]
  },
  {
   "cell_type": "code",
   "execution_count": null,
   "metadata": {},
   "outputs": [],
   "source": [
    "def prod_multi_index(mi1, mi2):\n",
    "    sum_list = []\n",
    "    for i in mi2:\n",
    "        tile = np.tile(i, (len(mi1),1))\n",
    "        sum = mi1 + tile\n",
    "        sum_list = sum_list + [sum]\n",
    "        sum_array = np.vstack(tuple(sum_list))\n",
    "        mi3 = np.unique(np.array(sum_array), axis=0)\n",
    "    return mi3"
   ]
  },
  {
   "cell_type": "code",
   "execution_count": null,
   "metadata": {},
   "outputs": [],
   "source": [
    "def prod_multi_index2(mi1, mi2):\n",
    "    sum_list = []\n",
    "    for i in mi2:\n",
    "        sum = mi1 + i\n",
    "        sum_list.append(sum)\n",
    "    sum_array = np.vstack(tuple(sum_list))\n",
    "    mi3 = np.unique(np.array(sum_array), axis=0)\n",
    "    return mi3"
   ]
  },
  {
   "cell_type": "code",
   "execution_count": null,
   "metadata": {},
   "outputs": [],
   "source": [
    "def add_multi_index(mi1, mi2):\n",
    "    mi3 = np.unique(np.vstack((mi1, mi2)), axis=0)\n",
    "    return mi3"
   ]
  },
  {
   "cell_type": "code",
   "execution_count": null,
   "metadata": {},
   "outputs": [],
   "source": [
    "if isinstance(model, CP):\n",
    "   sparse_param = []\n",
    "   for name, p in model.named_parameters():  \n",
    "      if len(p.shape) == 2:\n",
    "         #print(p.shape)\n",
    "         if p.shape[0] == RANK and p.shape[1] == IN_DIM:\n",
    "            sparse_param = sparse_param + [p]\n",
    "      "
   ]
  },
  {
   "cell_type": "code",
   "execution_count": null,
   "metadata": {},
   "outputs": [],
   "source": [
    "if isinstance(model, CP):\n",
    "    sparse_mi = []\n",
    "    for i in sparse_param:\n",
    "        ind = torch.where(i[0] == 0)[0].to('cpu').detach().numpy()\n",
    "        mi_w = np.eye(i.shape[1])\n",
    "        mi_w_s = np.delete(mi_w, ind, 0)\n",
    "        sparse_mi = sparse_mi + [mi_w_s]\n"
   ]
  },
  {
   "cell_type": "code",
   "execution_count": null,
   "metadata": {},
   "outputs": [],
   "source": [
    "if isinstance(model, CP):\n",
    "    mi_s = sparse_mi[0]\n",
    "    for i in range(1, len(sparse_mi)):\n",
    "        mi1 = sparse_mi[i]\n",
    "        mi_s = add_multi_index(prod_multi_index(mi_s, mi1), mi_s)"
   ]
  },
  {
   "cell_type": "code",
   "execution_count": null,
   "metadata": {},
   "outputs": [
    {
     "data": {
      "text/plain": [
       "False"
      ]
     },
     "execution_count": 1159,
     "metadata": {},
     "output_type": "execute_result"
    }
   ],
   "source": [
    "isinstance(model, Chebyshev)"
   ]
  },
  {
   "cell_type": "code",
   "execution_count": null,
   "metadata": {},
   "outputs": [
    {
     "data": {
      "text/plain": [
       "False"
      ]
     },
     "execution_count": 1160,
     "metadata": {},
     "output_type": "execute_result"
    }
   ],
   "source": [
    "isinstance(model, CP)"
   ]
  },
  {
   "cell_type": "code",
   "execution_count": null,
   "metadata": {},
   "outputs": [],
   "source": [
    "if isinstance(model, Chebyshev):\n",
    "   sd = model.state_dict\n",
    "   sparse_param = []\n",
    "   for name, p in model.named_parameters(): \n",
    "      #print(name)\n",
    "      if name != 'layer_C.weight' and name != 'layer_C.bias' and name != 'T0':\n",
    "         sparse_param = sparse_param + [p]\n",
    "         print(name)"
   ]
  },
  {
   "cell_type": "code",
   "execution_count": null,
   "metadata": {},
   "outputs": [
    {
     "ename": "NameError",
     "evalue": "name 'sparse_param' is not defined",
     "output_type": "error",
     "traceback": [
      "\u001b[0;31m---------------------------------------------------------------------------\u001b[0m",
      "\u001b[0;31mNameError\u001b[0m                                 Traceback (most recent call last)",
      "Cell \u001b[0;32mIn[1162], line 1\u001b[0m\n\u001b[0;32m----> 1\u001b[0m \u001b[39mlen\u001b[39m(sparse_param)\n",
      "\u001b[0;31mNameError\u001b[0m: name 'sparse_param' is not defined"
     ]
    }
   ],
   "source": [
    "len(sparse_param)"
   ]
  },
  {
   "cell_type": "code",
   "execution_count": null,
   "metadata": {},
   "outputs": [],
   "source": [
    "if isinstance(model, Chebyshev):\n",
    "    sparse_mi = []\n",
    "    for i in sparse_param:\n",
    "        ind = torch.where(i[0] == 0)[0].to('cpu').detach().numpy()\n",
    "        mi_w = np.eye(i.shape[1])\n",
    "        mi_w_s = np.delete(mi_w, ind, 0)\n",
    "        sparse_mi = sparse_mi + [mi_w_s]\n"
   ]
  },
  {
   "cell_type": "code",
   "execution_count": null,
   "metadata": {},
   "outputs": [],
   "source": [
    "if isinstance(model, CP):\n",
    "    mi_s = sparse_mi[0]\n",
    "    for i in range(1, len(sparse_mi)):\n",
    "        mi1 = sparse_mi[i]\n",
    "        mi_s = add_multi_index(prod_multi_index(mi_s, mi1), mi_s)"
   ]
  },
  {
   "cell_type": "code",
   "execution_count": null,
   "metadata": {},
   "outputs": [
    {
     "name": "stdout",
     "output_type": "stream",
     "text": [
      "[0. 0. 0. 0. 0. 0. 0. 0.]\n",
      "1\n",
      "3\n"
     ]
    }
   ],
   "source": [
    "if isinstance(model, Chebyshev):\n",
    "    mi_list = []\n",
    "    \n",
    "    mi_s1 = sparse_mi[0]\n",
    "    mi_s0 = np.zeros(mi_s1.shape[1])\n",
    "    mi_list = mi_list + [mi_s1]\n",
    "    print(mi_s0)\n",
    "    for i in range(1, len(sparse_mi) + 1, 2):\n",
    "        mi_s0 = add_multi_index(prod_multi_index(mi_s1, sparse_mi[i]), mi_s0)\n",
    "        mi_list = mi_list + [mi_s0]\n",
    "        \n",
    "        if i == DEGREE - 1:\n",
    "            mi_s = mi_s0\n",
    "            break\n",
    "        else:  \n",
    "            print(i)         \n",
    "            mi_s1 = add_multi_index(prod_multi_index(mi_s0, sparse_mi[i+1]), mi_s1)\n",
    "            mi_list = mi_list + [mi_s1]\n",
    "            mi_s = mi_s1"
   ]
  },
  {
   "cell_type": "code",
   "execution_count": null,
   "metadata": {},
   "outputs": [
    {
     "name": "stdout",
     "output_type": "stream",
     "text": [
      "[[1. 0. 0. 0. 0. 0. 0. 0.]\n",
      " [0. 0. 1. 0. 0. 0. 0. 0.]\n",
      " [0. 0. 0. 1. 0. 0. 0. 0.]\n",
      " [0. 0. 0. 0. 1. 0. 0. 0.]\n",
      " [0. 0. 0. 0. 0. 1. 0. 0.]\n",
      " [0. 0. 0. 0. 0. 0. 1. 0.]]\n"
     ]
    }
   ],
   "source": [
    "index = 0\n",
    "print(sparse_mi[index],)\n"
   ]
  },
  {
   "cell_type": "code",
   "execution_count": null,
   "metadata": {},
   "outputs": [
    {
     "data": {
      "text/plain": [
       "array([[1., 0., 0., 0., 0., 0., 0., 0.],\n",
       "       [0., 0., 1., 0., 0., 0., 0., 0.],\n",
       "       [0., 0., 0., 1., 0., 0., 0., 0.],\n",
       "       [0., 0., 0., 0., 1., 0., 0., 0.],\n",
       "       [0., 0., 0., 0., 0., 1., 0., 0.],\n",
       "       [0., 0., 0., 0., 0., 0., 1., 0.]])"
      ]
     },
     "execution_count": 41,
     "metadata": {},
     "output_type": "execute_result"
    }
   ],
   "source": [
    "mi_list[index]"
   ]
  },
  {
   "cell_type": "code",
   "execution_count": null,
   "metadata": {},
   "outputs": [
    {
     "name": "stdout",
     "output_type": "stream",
     "text": [
      "1\n",
      "3\n",
      "5\n"
     ]
    }
   ],
   "source": [
    "for i in range(1, len(sparse_mi)+1, 2):\n",
    "    print(i)"
   ]
  },
  {
   "cell_type": "code",
   "execution_count": null,
   "metadata": {},
   "outputs": [
    {
     "data": {
      "text/plain": [
       "6"
      ]
     },
     "execution_count": 43,
     "metadata": {},
     "output_type": "execute_result"
    }
   ],
   "source": [
    "DEGREE"
   ]
  },
  {
   "cell_type": "code",
   "execution_count": null,
   "metadata": {},
   "outputs": [],
   "source": [
    "outputs2 = model(input_tensor.to('cpu')).to('cpu').detach().numpy()"
   ]
  },
  {
   "cell_type": "code",
   "execution_count": null,
   "metadata": {},
   "outputs": [
    {
     "data": {
      "image/png": "[encoded data removed]",
      "text/plain": [
       "<Figure size 960x720 with 1 Axes>"
      ]
     },
     "metadata": {},
     "output_type": "display_data"
    }
   ],
   "source": [
    "import matplotlib.pyplot as plt\n",
    "\n",
    "plt.hist(yy_sample, bins=\"auto\", color=\"#8da0cb\")\n",
    "plt.hist(outputs2, bins='auto')\n",
    "plt.hist(outputs1, bins='auto')\n",
    "plt.grid()\n",
    "plt.xlabel(\"$\\mathcal{M}(\\mathbf{X})$\")\n",
    "plt.ylabel(\"Counts [-]\")\n",
    "plt.gcf().set_dpi(150);"
   ]
  },
  {
   "cell_type": "code",
   "execution_count": null,
   "metadata": {},
   "outputs": [],
   "source": [
    "out1_inv = target_scaler.inverse_transform(outputs1) \n",
    "out2_inv = target_scaler.inverse_transform(outputs2) "
   ]
  },
  {
   "cell_type": "code",
   "execution_count": null,
   "metadata": {},
   "outputs": [],
   "source": [
    "average_error = np.mean(out1_inv - out2_inv)"
   ]
  },
  {
   "cell_type": "code",
   "execution_count": null,
   "metadata": {},
   "outputs": [
    {
     "data": {
      "text/plain": [
       "7.5214596"
      ]
     },
     "execution_count": 48,
     "metadata": {},
     "output_type": "execute_result"
    }
   ],
   "source": [
    "average_error"
   ]
  },
  {
   "cell_type": "code",
   "execution_count": null,
   "metadata": {},
   "outputs": [
    {
     "data": {
      "text/plain": [
       "72.94882935911545"
      ]
     },
     "execution_count": 49,
     "metadata": {},
     "output_type": "execute_result"
    }
   ],
   "source": [
    "np.mean(target_scaler.inverse_transform(yy_sample))"
   ]
  },
  {
   "cell_type": "code",
   "execution_count": null,
   "metadata": {},
   "outputs": [],
   "source": [
    "mse = ((out1_inv - out2_inv)**2).mean(axis = 0)"
   ]
  },
  {
   "cell_type": "code",
   "execution_count": null,
   "metadata": {},
   "outputs": [
    {
     "data": {
      "text/plain": [
       "array([305.399], dtype=float32)"
      ]
     },
     "execution_count": 51,
     "metadata": {},
     "output_type": "execute_result"
    }
   ],
   "source": [
    "mse"
   ]
  },
  {
   "cell_type": "code",
   "execution_count": null,
   "metadata": {},
   "outputs": [
    {
     "data": {
      "text/plain": [
       "Chebyshev(\n",
       "  (T1): Linear(in_features=8, out_features=10, bias=False)\n",
       "  (T2): Linear(in_features=8, out_features=10, bias=False)\n",
       "  (T3): Linear(in_features=8, out_features=10, bias=False)\n",
       "  (T4): Linear(in_features=8, out_features=10, bias=False)\n",
       "  (T5): Linear(in_features=8, out_features=10, bias=False)\n",
       "  (T6): Linear(in_features=8, out_features=10, bias=False)\n",
       "  (layer_C): Linear(in_features=10, out_features=1, bias=True)\n",
       ")"
      ]
     },
     "execution_count": 52,
     "metadata": {},
     "output_type": "execute_result"
    }
   ],
   "source": [
    "model.to(device)"
   ]
  },
  {
   "cell_type": "markdown",
   "metadata": {},
   "source": [
    "https://github.com/polynomial-nets/tutorial-2022-intro-polynomial-nets/blob/master/pytorch/Minimum_example_pytorch.ipynb"
   ]
  },
  {
   "cell_type": "code",
   "execution_count": null,
   "metadata": {},
   "outputs": [
    {
     "data": {
      "text/plain": [
       "\"class Chebyshev(nn.Module):\\n    def __init__(self, degree, d, k, o):\\n        super(Chebyshev, self).__init__()        \\n     \\n        self.input_dimension = d \\n        self.rank = k\\n        self.output_dimension = o \\n        self.degree = int(degree)\\n        self.T0 = nn.Linear(k, 1).weight.to(torch.float32)[0]\\n        for i in range(1, self.degree + 1):\\n            setattr(self, 'T{}'.format(i), nn.Linear(self.input_dimension, self.rank, bias=False)) \\n\\n        self.layer_C = nn.Linear(self.rank, self.output_dimension) \\n\\n\\n    def forward(self, z):\\n        z = z.reshape(-1, self.input_dimension)\\n        out0 = self.T0\\n        out1 = self.T1(z)\\n        out_list = [out0] + [out1]\\n        for i in range(2, self.degree + 1, 2):\\n            print(i)\\n            out0 = getattr(self, 'T{}'.format(i))(z) * 2 * out1 - out0\\n            out_list = out_list + [out0]\\n            if i == self.degree:\\n                print(i)\\n                x = self.layer_C(out_list[self.degree])\\n                return x, out_list\\n            else:\\n                print(i + 1)\\n                out1 = getattr(self, 'T{}'.format(i + 1))(z) * 2 * out0 - out1\\n                out_list = out_list + [out1]\\n        x = self.layer_C(out_list[self.degree])\\n        return x, out_list\""
      ]
     },
     "execution_count": 53,
     "metadata": {},
     "output_type": "execute_result"
    }
   ],
   "source": [
    "'''class Chebyshev(nn.Module):\n",
    "    def __init__(self, degree, d, k, o):\n",
    "        super(Chebyshev, self).__init__()        \n",
    "     \n",
    "        self.input_dimension = d \n",
    "        self.rank = k\n",
    "        self.output_dimension = o \n",
    "        self.degree = int(degree)\n",
    "        self.T0 = nn.Linear(k, 1).weight.to(torch.float32)[0]\n",
    "        for i in range(1, self.degree + 1):\n",
    "            setattr(self, 'T{}'.format(i), nn.Linear(self.input_dimension, self.rank, bias=False)) \n",
    "\n",
    "        self.layer_C = nn.Linear(self.rank, self.output_dimension) \n",
    "\n",
    "\n",
    "    def forward(self, z):\n",
    "        z = z.reshape(-1, self.input_dimension)\n",
    "        out0 = self.T0\n",
    "        out1 = self.T1(z)\n",
    "        out_list = [out0] + [out1]\n",
    "        for i in range(2, self.degree + 1, 2):\n",
    "            print(i)\n",
    "            out0 = getattr(self, 'T{}'.format(i))(z) * 2 * out1 - out0\n",
    "            out_list = out_list + [out0]\n",
    "            if i == self.degree:\n",
    "                print(i)\n",
    "                x = self.layer_C(out_list[self.degree])\n",
    "                return x, out_list\n",
    "            else:\n",
    "                print(i + 1)\n",
    "                out1 = getattr(self, 'T{}'.format(i + 1))(z) * 2 * out0 - out1\n",
    "                out_list = out_list + [out1]\n",
    "        x = self.layer_C(out_list[self.degree])\n",
    "        return x, out_list'''"
   ]
  },
  {
   "cell_type": "code",
   "execution_count": null,
   "metadata": {},
   "outputs": [],
   "source": [
    "cheby =  Chebyshev(16,2,8,2)\n",
    "cheby2 = Chebyshev2(2,2,2)"
   ]
  },
  {
   "cell_type": "code",
   "execution_count": null,
   "metadata": {},
   "outputs": [
    {
     "data": {
      "text/plain": [
       "'layer_1 = Chebyshev2(degrees[0], inputs[0], inputs[1])\\nlayer_2 = Chebyshev2(degrees[1], inputs[1], inputs[2])\\nlayer_3 = Chebyshev2(degrees[2], inputs[2], inputs[3])'"
      ]
     },
     "execution_count": 55,
     "metadata": {},
     "output_type": "execute_result"
    }
   ],
   "source": [
    "degrees = [3, 2, 3]\n",
    "#rank = [20, 30, 25]\n",
    "layer_params = [8, 20, 30, 20]\n",
    "output = 1\n",
    "layers = len(degrees)\n",
    "\n",
    "'''layer_1 = Chebyshev2(degrees[0], inputs[0], inputs[1])\n",
    "layer_2 = Chebyshev2(degrees[1], inputs[1], inputs[2])\n",
    "layer_3 = Chebyshev2(degrees[2], inputs[2], inputs[3])'''"
   ]
  },
  {
   "cell_type": "code",
   "execution_count": null,
   "metadata": {},
   "outputs": [],
   "source": []
  },
  {
   "cell_type": "code",
   "execution_count": null,
   "metadata": {},
   "outputs": [
    {
     "name": "stdout",
     "output_type": "stream",
     "text": [
      "0\n",
      "1\n",
      "2\n"
     ]
    }
   ],
   "source": [
    "#outputs = [input[1], input[2], output]\n",
    "layer_list = []\n",
    "for i in range(layers):\n",
    "    print(i)\n",
    "    layer_list.append(Chebyshev2(degrees[i], layer_params[i], layer_params[i+1]))\n"
   ]
  },
  {
   "cell_type": "code",
   "execution_count": null,
   "metadata": {},
   "outputs": [],
   "source": [
    "z = torch.randn(8)\n",
    "C = nn.Linear(layer_params[3], output )\n"
   ]
  },
  {
   "cell_type": "code",
   "execution_count": null,
   "metadata": {},
   "outputs": [],
   "source": [
    "for i in layer_list:\n",
    "    z = i(z)"
   ]
  },
  {
   "cell_type": "code",
   "execution_count": null,
   "metadata": {},
   "outputs": [
    {
     "data": {
      "text/plain": [
       "Parameter containing:\n",
       "tensor([[-0.1253, -0.0883, -0.2119,  0.1546, -0.0099,  0.0187,  0.0163,  0.0578,\n",
       "         -0.1927, -0.1319,  0.1745,  0.0960, -0.1815, -0.1197,  0.2145,  0.0752,\n",
       "          0.0050, -0.1942, -0.0755, -0.0590]], requires_grad=True)"
      ]
     },
     "execution_count": 59,
     "metadata": {},
     "output_type": "execute_result"
    }
   ],
   "source": [
    "C.weight"
   ]
  },
  {
   "cell_type": "code",
   "execution_count": null,
   "metadata": {},
   "outputs": [],
   "source": [
    "out = C(z)"
   ]
  },
  {
   "cell_type": "code",
   "execution_count": null,
   "metadata": {},
   "outputs": [
    {
     "data": {
      "text/plain": [
       "\"   for i in range(self.layers):\\n       setattr(self, 'layer{}'.format(i+1), Chebyshev2(degrees[i], layer_params[i], layer_params[i+1])) \""
      ]
     },
     "execution_count": 61,
     "metadata": {},
     "output_type": "execute_result"
    }
   ],
   "source": [
    "     '''   for i in range(self.layers):\n",
    "            setattr(self, 'layer{}'.format(i+1), Chebyshev2(degrees[i], layer_params[i], layer_params[i+1])) '''"
   ]
  },
  {
   "cell_type": "code",
   "execution_count": null,
   "metadata": {},
   "outputs": [],
   "source": [
    "class ProdCheby(nn.Module):\n",
    "    def __init__(self, layer_params = [], degrees = [], output = 1):\n",
    "        super(ProdCheby, self).__init__()   \n",
    "        \n",
    "        self.input_dimension = layer_params[0]\n",
    "        self.output_dimension = output\n",
    "        self.num_layers = len(degrees)\n",
    "        for i in range(self.num_layers):\n",
    "            setattr(self, 'layer{}'.format(i+1), Chebyshev2(degrees[i], layer_params[i], layer_params[i+1])) \n",
    "        self.layer_C = nn.Linear(layer_params[self.num_layers], self.output_dimension)\n",
    "\n",
    "    def forward(self, z):\n",
    "        z = z.reshape(-1, self.input_dimension)\n",
    "        for i in range(self.num_layers):\n",
    "            z = getattr(self, 'layer{}'.format(i+1))(z)\n",
    "        x = self.layer_C(z)    \n",
    "        return x\n"
   ]
  },
  {
   "cell_type": "code",
   "execution_count": null,
   "metadata": {},
   "outputs": [],
   "source": [
    "class ProdCheby2(nn.Module):\n",
    "    def __init__(self, layer_params = [], degrees = [], output = 1):\n",
    "        super(ProdCheby2, self).__init__()   \n",
    "        \n",
    "        self.input_dimension = layer_params[0]\n",
    "        self.output_dimension = output\n",
    "        self.num_layers = len(degrees)\n",
    "        for i in range(self.num_layers-1):\n",
    "            setattr(self, 'layer{}'.format(i+1), Chebyshev(degrees[i], layer_params[i], layer_params[i+1], layer_params[i+1])) \n",
    "        setattr(self, 'layer{}'.format(self.num_layers), Chebyshev(degrees[self.num_layers-1], layer_params[self.num_layers-1], layer_params[self.num_layers], self.output_dimension))\n",
    "        #self.layer_C = nn.Linear(layer_params[self.num_layers], self.output_dimension)\n",
    "\n",
    "    def forward(self, z):\n",
    "        z = z.reshape(-1, self.input_dimension)\n",
    "        for i in range(self.num_layers):\n",
    "            z = getattr(self, 'layer{}'.format(i+1))(z)\n",
    "        #x = self.layer_C(z)    \n",
    "        return z\n"
   ]
  },
  {
   "cell_type": "code",
   "execution_count": null,
   "metadata": {},
   "outputs": [],
   "source": [
    "class ProdCheby_NL(nn.Module):\n",
    "    def __init__(self, layer_params = [], degrees = [], output = 1, activation = nn.ReLU()):\n",
    "        super(ProdCheby_NL, self).__init__()   \n",
    "        \n",
    "        self.input_dimension = layer_params[0]\n",
    "        self.output_dimension = output\n",
    "        self.num_layers = len(degrees)\n",
    "        self.activation = activation\n",
    "        for i in range(self.num_layers-1):\n",
    "            setattr(self, 'layer{}'.format(i+1), Chebyshev(degrees[i], layer_params[i], layer_params[i+1], layer_params[i+1])) \n",
    "        setattr(self, 'layer{}'.format(self.num_layers), Chebyshev(degrees[self.num_layers-1], layer_params[self.num_layers-1], layer_params[self.num_layers], self.output_dimension))\n",
    "        #self.layer_C = nn.Linear(layer_params[self.num_layers], self.output_dimension)\n",
    "\n",
    "    def forward(self, z):\n",
    "        z = z.reshape(-1, self.input_dimension)\n",
    "        for i in range(self.num_layers-1):\n",
    "            z = self.activation(getattr(self, 'layer{}'.format(i+1))(z))\n",
    "        z = getattr(self, 'layer{}'.format(self.num_layers))(z)\n",
    "        #x = self.layer_C(z)    \n",
    "        return z"
   ]
  },
  {
   "cell_type": "code",
   "execution_count": null,
   "metadata": {},
   "outputs": [],
   "source": [
    "class ProdCheby_NL(nn.Module):\n",
    "    def __init__(self, layer_params = [], degrees = [], output = 1, activation = nn.ReLU()):\n",
    "        super(ProdCheby_NL, self).__init__()   \n",
    "        \n",
    "        self.input_dimension = layer_params[0]\n",
    "        self.output_dimension = output\n",
    "        self.num_layers = len(degrees)\n",
    "        self.activation = activation\n",
    "        for i in range(self.num_layers-1):\n",
    "            setattr(self, 'layer{}'.format(i+1), Chebyshev(degrees[i], layer_params[i], layer_params[i+1], layer_params[i+1])) \n",
    "        setattr(self, 'layer{}'.format(self.num_layers), Chebyshev(degrees[self.num_layers-1], layer_params[self.num_layers-1], layer_params[self.num_layers], self.output_dimension))\n",
    "        #self.layer_C = nn.Linear(layer_params[self.num_layers], self.output_dimension)\n",
    "\n",
    "    def forward(self, z):\n",
    "        z = z.reshape(-1, self.input_dimension)\n",
    "        for i in range(self.num_layers):\n",
    "            z = self.activation(getattr(self, 'layer{}'.format(i+1))(z))\n",
    "        #x = self.layer_C(z)    \n",
    "        return z"
   ]
  },
  {
   "cell_type": "code",
   "execution_count": null,
   "metadata": {},
   "outputs": [],
   "source": [
    "d = 3\n",
    "rank = 20\n",
    "degrees = [3]\n",
    "#rank = [20, 30, 25]\n",
    "layer_params = [d, rank]\n",
    "output = 2\n",
    "layers = len(degrees)"
   ]
  },
  {
   "cell_type": "code",
   "execution_count": null,
   "metadata": {},
   "outputs": [],
   "source": [
    "cheb1 = ProdCheby(layer_params, degrees, output)\n",
    "cheb2 = ProdCheby2(layer_params, degrees, output)\n",
    "cheb3 = Chebyshev(*degrees, d, rank, output)\n",
    "cheb4 = Chebyshev_L3(d, rank, output)"
   ]
  },
  {
   "cell_type": "code",
   "execution_count": null,
   "metadata": {},
   "outputs": [
    {
     "data": {
      "text/plain": [
       "Chebyshev(\n",
       "  (T1): Linear(in_features=3, out_features=20, bias=False)\n",
       "  (T2): Linear(in_features=3, out_features=20, bias=False)\n",
       "  (T3): Linear(in_features=3, out_features=20, bias=False)\n",
       "  (layer_C): Linear(in_features=20, out_features=2, bias=True)\n",
       ")"
      ]
     },
     "execution_count": 89,
     "metadata": {},
     "output_type": "execute_result"
    }
   ],
   "source": [
    "cheb2.layer1"
   ]
  },
  {
   "cell_type": "code",
   "execution_count": null,
   "metadata": {},
   "outputs": [
    {
     "data": {
      "text/plain": [
       "tensor(242)"
      ]
     },
     "execution_count": 93,
     "metadata": {},
     "output_type": "execute_result"
    }
   ],
   "source": [
    "non_zero_count(cheb2)"
   ]
  },
  {
   "cell_type": "code",
   "execution_count": null,
   "metadata": {},
   "outputs": [],
   "source": [
    "z = torch.randn(2, 2)"
   ]
  },
  {
   "cell_type": "code",
   "execution_count": null,
   "metadata": {},
   "outputs": [
    {
     "ename": "NameError",
     "evalue": "name 'cheb' is not defined",
     "output_type": "error",
     "traceback": [
      "\u001b[0;31m---------------------------------------------------------------------------\u001b[0m",
      "\u001b[0;31mNameError\u001b[0m                                 Traceback (most recent call last)",
      "Cell \u001b[0;32mIn[92], line 1\u001b[0m\n\u001b[0;32m----> 1\u001b[0m cheb(z)\n",
      "\u001b[0;31mNameError\u001b[0m: name 'cheb' is not defined"
     ]
    }
   ],
   "source": [
    "cheb(z)"
   ]
  },
  {
   "cell_type": "code",
   "execution_count": null,
   "metadata": {},
   "outputs": [
    {
     "data": {
      "text/plain": [
       "tensor(4581)"
      ]
     },
     "execution_count": 68,
     "metadata": {},
     "output_type": "execute_result"
    }
   ],
   "source": [
    "non_zero_count(cheb)"
   ]
  },
  {
   "cell_type": "code",
   "execution_count": null,
   "metadata": {},
   "outputs": [
    {
     "data": {
      "text/plain": [
       "3"
      ]
     },
     "execution_count": 69,
     "metadata": {},
     "output_type": "execute_result"
    }
   ],
   "source": [
    "cheb.num_layers"
   ]
  },
  {
   "cell_type": "code",
   "execution_count": null,
   "metadata": {},
   "outputs": [
    {
     "name": "stdout",
     "output_type": "stream",
     "text": [
      "0\n"
     ]
    }
   ],
   "source": [
    "for i in range(1):\n",
    "    print(i)"
   ]
  },
  {
   "cell_type": "code",
   "execution_count": null,
   "metadata": {},
   "outputs": [],
   "source": []
  }
 ],
 "metadata": {
  "kernelspec": {
   "display_name": "pytorch",
   "language": "python",
   "name": "python3"
  },
  "language_info": {
   "codemirror_mode": {
    "name": "ipython",
    "version": 3
   },
   "file_extension": ".py",
   "mimetype": "text/x-python",
   "name": "python",
   "nbconvert_exporter": "python",
   "pygments_lexer": "ipython3",
   "version": "3.10.9"
  },
  "orig_nbformat": 4,
  "vscode": {
   "interpreter": {
    "hash": "542851ebc7f1b97dab2659843c1270f7c570d916e83d4380bfc02112104e2680"
   }
  }
 },
 "nbformat": 4,
 "nbformat_minor": 2
}
