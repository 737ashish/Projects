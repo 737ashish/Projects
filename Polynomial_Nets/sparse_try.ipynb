{
 "cells": [
  {
   "cell_type": "code",
   "execution_count": 1,
   "metadata": {},
   "outputs": [],
   "source": [
    "import torch\n",
    "import torch.nn as nn\n",
    "\n",
    "class MyClass(nn.Module):\n",
    "    def __init__(self) -> None:\n",
    "        super().__init__()\n",
    "        self.weight = nn.Parameter(torch.tril(torch.randn(5,5)))\n",
    "        self.mask = torch.tril(torch.ones_like(self.weight))\n",
    "\n",
    "    def forward(self, x):\n",
    "        out = (self.weight * self.mask).matmul(x)\n",
    "        return out"
   ]
  },
  {
   "cell_type": "code",
   "execution_count": 22,
   "metadata": {},
   "outputs": [
    {
     "data": {
      "text/plain": [
       "tensor([[ 0.0167,  0.0000,  0.0000,  0.0000,  0.0000],\n",
       "        [ 1.7769,  0.3381,  0.0000,  0.0000,  0.0000],\n",
       "        [-1.8882, -0.2545, -0.7118,  0.0000,  0.0000],\n",
       "        [ 0.6531, -0.6797, -0.5592,  0.1356,  0.0000],\n",
       "        [ 1.0836,  1.5714, -0.7795,  0.4477, -0.3124]], grad_fn=<MulBackward0>)"
      ]
     },
     "execution_count": 22,
     "metadata": {},
     "output_type": "execute_result"
    }
   ],
   "source": [
    "data = torch.randn(5,4)\n",
    "model = MyClass()\n",
    "model.weight * model.mask"
   ]
  },
  {
   "cell_type": "code",
   "execution_count": 3,
   "metadata": {},
   "outputs": [],
   "source": [
    "out = model(data)\n",
    "out.sum().backward()\n",
    "\n",
    "optimizer = torch.optim.Adam(model.parameters(), lr=1e-4)\n",
    "loss = torch.norm(out)"
   ]
  },
  {
   "cell_type": "code",
   "execution_count": 4,
   "metadata": {},
   "outputs": [],
   "source": [
    "for epoch in range(5):\n",
    "    #for images, _ in train_loader: \n",
    "          \n",
    "        out = model(data)\n",
    "        loss = torch.norm(out)\n",
    "        optimizer.zero_grad()\n",
    "        loss.backward()\n",
    "        optimizer.step()"
   ]
  },
  {
   "cell_type": "code",
   "execution_count": 18,
   "metadata": {},
   "outputs": [
    {
     "data": {
      "text/plain": [
       "Parameter containing:\n",
       "tensor([[ 0.3472,  0.0371, -0.1788,  0.2298, -0.2936],\n",
       "        [ 0.1103, -0.3629, -0.4212,  0.0350,  0.1594],\n",
       "        [ 0.4251, -0.3227,  0.1771, -0.2735,  0.2842]], requires_grad=True)"
      ]
     },
     "execution_count": 18,
     "metadata": {},
     "output_type": "execute_result"
    }
   ],
   "source": [
    "weight = nn.Linear(5,3, bias=False)\n",
    "mask = torch.tril(torch.ones_like(weight.weight))\n",
    "z = torch.randn(20,5)\n",
    "weight.weight"
   ]
  },
  {
   "cell_type": "code",
   "execution_count": 21,
   "metadata": {},
   "outputs": [],
   "source": [
    "out1 = torch.matmul(z, (mask * weight.weight).T)\n",
    "out3 = torch.mm(z, (mask * weight.weight).T)\n",
    "out2 = weight(z)"
   ]
  },
  {
   "cell_type": "code",
   "execution_count": 7,
   "metadata": {},
   "outputs": [
    {
     "data": {
      "text/plain": [
       "tensor([[-0.0387,  0.0000,  0.0000,  0.0000,  0.0000],\n",
       "        [-0.0697, -0.0681,  0.0000,  0.0000,  0.0000],\n",
       "        [-0.0095,  0.1820, -0.3771,  0.0000,  0.0000],\n",
       "        [-0.0250,  0.1712,  0.1880, -0.8890,  0.0000],\n",
       "        [-0.3240,  0.5508,  1.0027, -2.6819, -0.5179]])"
      ]
     },
     "execution_count": 7,
     "metadata": {},
     "output_type": "execute_result"
    }
   ],
   "source": [
    "model.weight.grad"
   ]
  },
  {
   "cell_type": "code",
   "execution_count": 57,
   "metadata": {},
   "outputs": [],
   "source": [
    "y = torch.tensor([[1.,2.],[3.,4.]], requires_grad=True)"
   ]
  },
  {
   "cell_type": "code",
   "execution_count": 58,
   "metadata": {},
   "outputs": [],
   "source": [
    "x = torch.tensor([[1.,0.],[0.,1.]])"
   ]
  },
  {
   "cell_type": "code",
   "execution_count": 59,
   "metadata": {},
   "outputs": [],
   "source": [
    "z = x*y"
   ]
  },
  {
   "cell_type": "code",
   "execution_count": 60,
   "metadata": {},
   "outputs": [],
   "source": [
    "z = torch.tensordot(x,y)"
   ]
  },
  {
   "cell_type": "code",
   "execution_count": 61,
   "metadata": {},
   "outputs": [],
   "source": [
    "z.backward()\n"
   ]
  },
  {
   "cell_type": "code",
   "execution_count": 62,
   "metadata": {},
   "outputs": [],
   "source": [
    "x.grad"
   ]
  },
  {
   "cell_type": "code",
   "execution_count": 63,
   "metadata": {},
   "outputs": [
    {
     "data": {
      "text/plain": [
       "tensor([[1., 0.],\n",
       "        [0., 1.]])"
      ]
     },
     "execution_count": 63,
     "metadata": {},
     "output_type": "execute_result"
    }
   ],
   "source": [
    "y.grad"
   ]
  },
  {
   "cell_type": "code",
   "execution_count": 36,
   "metadata": {},
   "outputs": [],
   "source": [
    "z = torch.randn(10, 5)\n",
    "U1 = torch.randn(5)\n",
    "U2 = torch.randn(5)\n",
    "U3 = torch.randn(5)"
   ]
  },
  {
   "cell_type": "code",
   "execution_count": 39,
   "metadata": {},
   "outputs": [
    {
     "ename": "IndexError",
     "evalue": "Dimension out of range (expected to be in range of [-2, 1], but got 2)",
     "output_type": "error",
     "traceback": [
      "\u001b[0;31m---------------------------------------------------------------------------\u001b[0m",
      "\u001b[0;31mIndexError\u001b[0m                                Traceback (most recent call last)",
      "Cell \u001b[0;32mIn[39], line 1\u001b[0m\n\u001b[0;32m----> 1\u001b[0m U1\u001b[39m.\u001b[39;49munsqueeze(\u001b[39m2\u001b[39;49m)\n",
      "\u001b[0;31mIndexError\u001b[0m: Dimension out of range (expected to be in range of [-2, 1], but got 2)"
     ]
    }
   ],
   "source": [
    "U1.unsqueeze(2)"
   ]
  },
  {
   "cell_type": "code",
   "execution_count": 37,
   "metadata": {},
   "outputs": [],
   "source": [
    "x1 = U1 * z\n",
    "x2 = U2 * z\n",
    "x3 = U3 * z"
   ]
  },
  {
   "cell_type": "code",
   "execution_count": 41,
   "metadata": {},
   "outputs": [],
   "source": [
    "x_outer1 = torch.einsum('bi,bj->bij',(x1, x2))"
   ]
  },
  {
   "cell_type": "code",
   "execution_count": 44,
   "metadata": {},
   "outputs": [],
   "source": [
    "x_12 = torch.sum(x_outer1, 1)"
   ]
  },
  {
   "cell_type": "code",
   "execution_count": 45,
   "metadata": {},
   "outputs": [],
   "source": [
    "x_outer2 = torch.einsum('bi,bj->bij',(x_12, x3))"
   ]
  },
  {
   "cell_type": "code",
   "execution_count": 46,
   "metadata": {},
   "outputs": [],
   "source": [
    "x_123 = x_123 = torch.sum(x_outer2, 1)"
   ]
  },
  {
   "cell_type": "code",
   "execution_count": 47,
   "metadata": {},
   "outputs": [
    {
     "data": {
      "text/plain": [
       "tensor([[ 6.1251e-01,  1.3459e+00,  3.9160e-02, -5.1343e-01,  2.4346e-01],\n",
       "        [ 3.9045e+00,  1.9004e+00,  5.7950e-02, -4.4516e-01, -4.6823e-02],\n",
       "        [-2.7351e-01,  3.7252e-01, -3.1767e-02,  2.3435e-01, -3.1863e-01],\n",
       "        [-1.0343e+00,  1.2859e+00,  1.1450e-01, -3.0797e-01, -2.3078e-01],\n",
       "        [-3.5838e-01,  4.4000e+00,  2.4451e-01,  2.4578e+00, -1.1770e+00],\n",
       "        [-1.6321e-02, -8.4877e-03, -2.1962e-04,  1.3010e-02, -4.9489e-03],\n",
       "        [ 1.0477e+00, -5.7436e-01, -9.8630e-03,  7.6239e-01, -3.1557e-01],\n",
       "        [-3.7253e-01, -2.1129e-01, -6.0105e-02, -2.5007e-01, -1.0371e+00],\n",
       "        [-4.9378e-01,  7.0809e-01,  2.1721e-02,  8.0919e-01, -6.6469e-02],\n",
       "        [-3.1889e+00,  3.6697e+00, -1.5246e-02,  7.5196e-01, -1.6227e+00]])"
      ]
     },
     "execution_count": 47,
     "metadata": {},
     "output_type": "execute_result"
    }
   ],
   "source": [
    "x_12+0.00001"
   ]
  },
  {
   "cell_type": "code",
   "execution_count": 33,
   "metadata": {},
   "outputs": [],
   "source": [
    "x_outer1 = torch.outer(x1, x2)"
   ]
  },
  {
   "cell_type": "code",
   "execution_count": 34,
   "metadata": {},
   "outputs": [],
   "source": [
    "x_12 = torch.sum(x_outer1, 1)"
   ]
  },
  {
   "cell_type": "code",
   "execution_count": 35,
   "metadata": {},
   "outputs": [],
   "source": [
    "x_outer2 = torch.outer(x3, x_12)\n",
    "x_123 = torch.sum(x_outer2, 1)"
   ]
  },
  {
   "cell_type": "code",
   "execution_count": null,
   "metadata": {},
   "outputs": [],
   "source": []
  }
 ],
 "metadata": {
  "kernelspec": {
   "display_name": "pytorch",
   "language": "python",
   "name": "python3"
  },
  "language_info": {
   "codemirror_mode": {
    "name": "ipython",
    "version": 3
   },
   "file_extension": ".py",
   "mimetype": "text/x-python",
   "name": "python",
   "nbconvert_exporter": "python",
   "pygments_lexer": "ipython3",
   "version": "3.10.8"
  },
  "orig_nbformat": 4,
  "vscode": {
   "interpreter": {
    "hash": "a63d272de7c2d6212491e21001162b5555cdf48c593b6ba86b1f38efd0702cc6"
   }
  }
 },
 "nbformat": 4,
 "nbformat_minor": 2
}
