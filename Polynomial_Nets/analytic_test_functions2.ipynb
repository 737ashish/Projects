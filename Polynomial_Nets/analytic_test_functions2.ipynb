{
 "cells": [
  {
   "cell_type": "code",
   "execution_count": 1,
   "metadata": {},
   "outputs": [
    {
     "name": "stderr",
     "output_type": "stream",
     "text": [
      "/home/ashish-razer/Programs/miniconda3/envs/pytorch/lib/python3.10/site-packages/tqdm/auto.py:22: TqdmWarning: IProgress not found. Please update jupyter and ipywidgets. See https://ipywidgets.readthedocs.io/en/stable/user_install.html\n",
      "  from .autonotebook import tqdm as notebook_tqdm\n"
     ]
    }
   ],
   "source": [
    "import torch\n",
    "import torch.nn as nn\n",
    "import torch.nn.functional as F\n",
    "from torch.autograd import Variable\n",
    "from torch.utils.data import TensorDataset\n",
    "\n",
    "import torchvision\n",
    "from torchvision import datasets\n",
    "from torchvision import transforms\n",
    "from torchvision.utils import save_image\n",
    "from torchsummary import summary\n",
    "\n",
    "from random import randint\n",
    "\n",
    "from polynomial_nets import CP_L3, CP_L3_sparse, NCP_L3, CP, Chebyshev, Chebyshev_L3\n",
    "\n",
    "from poly_VAE import Flatten, UnFlatten, VAE_CP_L3, VAE_CP_L3_sparse, VAE_CP_L3_sparse_LU, loss_fn\n",
    "from torchvision.datasets import MNIST\n",
    "from torch.utils.data import DataLoader\n",
    "from torch.utils.data import random_split\n",
    "\n",
    "import matplotlib.pyplot as plt\n",
    "from torchvision.utils import make_grid\n",
    "import pandas as pd\n",
    "\n",
    "import uqtestfuns as uqtf\n",
    "import numpy as np\n",
    "from sklearn.preprocessing import MinMaxScaler"
   ]
  },
  {
   "cell_type": "code",
   "execution_count": 2,
   "metadata": {},
   "outputs": [
    {
     "name": "stdout",
     "output_type": "stream",
     "text": [
      "Name              : Borehole\n",
      "Spatial dimension : 8\n",
      "Description       : Borehole function from Harper and Gupta (1983)\n"
     ]
    }
   ],
   "source": [
    "my_testfun =  uqtf.Borehole()\n",
    "print(my_testfun)"
   ]
  },
  {
   "cell_type": "code",
   "execution_count": 3,
   "metadata": {},
   "outputs": [
    {
     "data": {
      "text/html": [
       "<p><b>Name</b>:&nbsp;Borehole-Harper-1983\n",
       "</p><p><b>Spatial Dimension</b>:&nbsp;8\n",
       "</p><p><b>Description</b>:&nbsp;Probabilistic input model of the Borehole model from Harper and Gupta (1983).\n",
       "</p><p><b>Marginals:</b>\n",
       "</p><table>\n",
       "<thead>\n",
       "<tr><th style=\"text-align: right;\">  No.</th><th style=\"text-align: center;\"> Name </th><th style=\"text-align: center;\"> Distribution </th><th style=\"text-align: center;\">     Parameters      </th><th style=\"text-align: center;\">                  Description                  </th></tr>\n",
       "</thead>\n",
       "<tbody>\n",
       "<tr><td style=\"text-align: right;\">    1</td><td style=\"text-align: center;\">  rw  </td><td style=\"text-align: center;\">    normal    </td><td style=\"text-align: center;\">[0.1       0.0161812]</td><td style=\"text-align: center;\">          radius of the borehole [m]           </td></tr>\n",
       "<tr><td style=\"text-align: right;\">    2</td><td style=\"text-align: center;\">  r   </td><td style=\"text-align: center;\">  lognormal   </td><td style=\"text-align: center;\">   [7.71   1.0056]   </td><td style=\"text-align: center;\">            radius of influence [m]            </td></tr>\n",
       "<tr><td style=\"text-align: right;\">    3</td><td style=\"text-align: center;\">  Tu  </td><td style=\"text-align: center;\">   uniform    </td><td style=\"text-align: center;\">  [ 63070. 115600.]  </td><td style=\"text-align: center;\">  transmissivity of upper aquifer [m^2/year]   </td></tr>\n",
       "<tr><td style=\"text-align: right;\">    4</td><td style=\"text-align: center;\">  Hu  </td><td style=\"text-align: center;\">   uniform    </td><td style=\"text-align: center;\">    [ 990. 1100.]    </td><td style=\"text-align: center;\">   potentiometric head of upper aquifer [m]    </td></tr>\n",
       "<tr><td style=\"text-align: right;\">    5</td><td style=\"text-align: center;\">  Tl  </td><td style=\"text-align: center;\">   uniform    </td><td style=\"text-align: center;\">    [ 63.1 116. ]    </td><td style=\"text-align: center;\">  transmissivity of lower aquifer [m^2/year]   </td></tr>\n",
       "<tr><td style=\"text-align: right;\">    6</td><td style=\"text-align: center;\">  Hl  </td><td style=\"text-align: center;\">   uniform    </td><td style=\"text-align: center;\">     [700. 820.]     </td><td style=\"text-align: center;\">   potentiometric head of lower aquifer [m]    </td></tr>\n",
       "<tr><td style=\"text-align: right;\">    7</td><td style=\"text-align: center;\">  L   </td><td style=\"text-align: center;\">   uniform    </td><td style=\"text-align: center;\">    [1120. 1680.]    </td><td style=\"text-align: center;\">          length of the borehole [m]           </td></tr>\n",
       "<tr><td style=\"text-align: right;\">    8</td><td style=\"text-align: center;\">  Kw  </td><td style=\"text-align: center;\">   uniform    </td><td style=\"text-align: center;\">   [ 9985. 12045.]   </td><td style=\"text-align: center;\">hydraulic conductivity of the borehole [m/year]</td></tr>\n",
       "</tbody>\n",
       "</table>\n",
       "<p><b>Copulas</b>:&nbsp;None</p>"
      ],
      "text/plain": [
       "ProbInput(spatial_dimension=8, marginals=(UnivDist(distribution='normal', parameters=array([0.1      , 0.0161812]), name='rw', description='radius of the borehole [m]'), UnivDist(distribution='lognormal', parameters=array([7.71  , 1.0056]), name='r', description='radius of influence [m]'), UnivDist(distribution='uniform', parameters=array([ 63070., 115600.]), name='Tu', description='transmissivity of upper aquifer [m^2/year]'), UnivDist(distribution='uniform', parameters=array([ 990., 1100.]), name='Hu', description='potentiometric head of upper aquifer [m]'), UnivDist(distribution='uniform', parameters=array([ 63.1, 116. ]), name='Tl', description='transmissivity of lower aquifer [m^2/year]'), UnivDist(distribution='uniform', parameters=array([700., 820.]), name='Hl', description='potentiometric head of lower aquifer [m]'), UnivDist(distribution='uniform', parameters=array([1120., 1680.]), name='L', description='length of the borehole [m]'), UnivDist(distribution='uniform', parameters=array([ 9985., 12045.]), name='Kw', description='hydraulic conductivity of the borehole [m/year]')), copulas=None, name='Borehole-Harper-1983', description='Probabilistic input model of the Borehole model from Harper and Gupta (1983).')"
      ]
     },
     "execution_count": 3,
     "metadata": {},
     "output_type": "execute_result"
    }
   ],
   "source": [
    "my_testfun.prob_input"
   ]
  },
  {
   "cell_type": "code",
   "execution_count": 4,
   "metadata": {},
   "outputs": [
    {
     "data": {
      "text/plain": [
       "array([50.7642835])"
      ]
     },
     "execution_count": 4,
     "metadata": {},
     "output_type": "execute_result"
    }
   ],
   "source": [
    "xx = np.array([\n",
    "  [\n",
    "    1.04803586e-01, 2.54527756e+03, 9.44572869e+04, 9.94988176e+02,\n",
    "    6.31793993e+01, 7.63308791e+02, 1.57530252e+03, 1.00591588e+04\n",
    "  ]\n",
    "])\n",
    "my_testfun(xx)"
   ]
  },
  {
   "cell_type": "code",
   "execution_count": 5,
   "metadata": {},
   "outputs": [],
   "source": [
    "N = 10000\n",
    "np.random.seed(42)\n",
    "xx_sample_dom_1 = -1 + 2 * np.random.rand(N, 8)\n",
    "xx_sample = my_testfun.transform_sample(xx_sample_dom_1)\n",
    "#xx_sample = my_testfun.prob_input.get_sample(N)\n",
    "target_scaler = MinMaxScaler()\n",
    "\n",
    "yy_sample = my_testfun(xx_sample)\n",
    "target_scaler.fit(yy_sample.reshape(-1,1))\n",
    "yy_sample = target_scaler.transform(yy_sample.reshape(-1,1))"
   ]
  },
  {
   "cell_type": "code",
   "execution_count": 6,
   "metadata": {},
   "outputs": [],
   "source": [
    "inverse = target_scaler.inverse_transform(yy_sample)\n"
   ]
  },
  {
   "cell_type": "code",
   "execution_count": 7,
   "metadata": {},
   "outputs": [],
   "source": [
    "#yy_sample.reshape(1,-1).shape"
   ]
  },
  {
   "cell_type": "code",
   "execution_count": 8,
   "metadata": {},
   "outputs": [],
   "source": [
    "_, IN_DIM = xx_sample.shape\n",
    "input_tensor  = torch.tensor(xx_sample_dom_1, dtype=torch.float32)\n",
    "target =  torch.tensor(yy_sample, dtype=torch.float32)\n",
    "dataset = torch.cat((input_tensor, target), 1)"
   ]
  },
  {
   "cell_type": "code",
   "execution_count": 9,
   "metadata": {},
   "outputs": [],
   "source": [
    "torch.cuda.empty_cache() \n",
    "device = torch.device(\"cuda\" if torch.cuda.is_available() else \"cpu\")\n",
    "LEARNING_RATE = 1e-4\n",
    "BATCH_SIZE = 64\n",
    "NUM_EPOCHS = 5\n",
    "RANK = 10\n",
    "LHP = 20\n",
    "OUT_DIM = 1\n",
    "DEGREE = 3\n",
    "loss_fn = nn.MSELoss()"
   ]
  },
  {
   "cell_type": "code",
   "execution_count": 10,
   "metadata": {},
   "outputs": [],
   "source": [
    "model = CP(DEGREE, IN_DIM, RANK, OUT_DIM).to(device)\n",
    "model = Chebyshev(DEGREE, IN_DIM, RANK, OUT_DIM).to(device)\n",
    "\"\"\"model = nn.Sequential(\n",
    "    nn.Linear(8, 24),\n",
    "    nn.ReLU(),\n",
    "    nn.Linear(24, 12),\n",
    "    nn.ReLU(),\n",
    "    nn.Linear(12, 6),\n",
    "    nn.ReLU(),\n",
    "    nn.Linear(6, 1)\n",
    ").to(device)\"\"\"\n",
    "#NCP_poly = NCP_L3(IN_DIM, RANK, OUT_DIM, LHP).to(device)\n",
    "optimizer = torch.optim.Adam(model.parameters(), lr=LEARNING_RATE)"
   ]
  },
  {
   "cell_type": "code",
   "execution_count": 11,
   "metadata": {},
   "outputs": [],
   "source": [
    "train_loader = DataLoader(dataset, BATCH_SIZE, shuffle=True)"
   ]
  },
  {
   "cell_type": "code",
   "execution_count": 12,
   "metadata": {},
   "outputs": [
    {
     "name": "stdout",
     "output_type": "stream",
     "text": [
      "loss tensor(0.0490, device='cuda:0', grad_fn=<MseLossBackward0>)\n",
      "Epoch :  1\n",
      "loss tensor(0.0353, device='cuda:0', grad_fn=<MseLossBackward0>)\n",
      "Epoch :  2\n",
      "loss tensor(0.0385, device='cuda:0', grad_fn=<MseLossBackward0>)\n",
      "Epoch :  3\n",
      "loss tensor(0.0469, device='cuda:0', grad_fn=<MseLossBackward0>)\n",
      "Epoch :  4\n",
      "loss tensor(0.0121, device='cuda:0', grad_fn=<MseLossBackward0>)\n",
      "Epoch :  5\n"
     ]
    }
   ],
   "source": [
    "list_of_losses = []\n",
    "list_of_epochs = []\n",
    "\n",
    "for epoch in range(NUM_EPOCHS):\n",
    "    for batch in train_loader:   \n",
    "        #output = canonical_poly(input_tensor.to(device))\n",
    "        output = model(batch[:,:8].to(device))\n",
    "        loss = loss_fn(output.to(device), batch[:,8:].to(device))\n",
    "        optimizer.zero_grad()\n",
    "        loss.backward()\n",
    "        optimizer.step()\n",
    "        #print(1)\n",
    "\n",
    "    list_of_losses.append(loss)\n",
    "    list_of_epochs.append(epoch + 1)\n",
    "    print('loss', loss)\n",
    "    print(\"Epoch : \", epoch + 1)"
   ]
  },
  {
   "cell_type": "code",
   "execution_count": 13,
   "metadata": {},
   "outputs": [
    {
     "data": {
      "text/plain": [
       "Chebyshev(\n",
       "  (T1): Linear(in_features=8, out_features=10, bias=False)\n",
       "  (T2): Linear(in_features=8, out_features=10, bias=False)\n",
       "  (T3): Linear(in_features=8, out_features=10, bias=False)\n",
       "  (layer_C): Linear(in_features=10, out_features=1, bias=True)\n",
       ")"
      ]
     },
     "execution_count": 13,
     "metadata": {},
     "output_type": "execute_result"
    }
   ],
   "source": [
    "model.to('cpu')"
   ]
  },
  {
   "cell_type": "code",
   "execution_count": 14,
   "metadata": {},
   "outputs": [],
   "source": [
    "num_param = []\n",
    "for name, param in model.named_parameters():\n",
    "    num = torch.count_nonzero(param)\n",
    "    num_param.append(num)\n",
    "\n",
    "before = torch.sum(torch.tensor(num_param))"
   ]
  },
  {
   "cell_type": "code",
   "execution_count": 15,
   "metadata": {},
   "outputs": [
    {
     "data": {
      "text/plain": [
       "tensor(261)"
      ]
     },
     "execution_count": 15,
     "metadata": {},
     "output_type": "execute_result"
    }
   ],
   "source": [
    "before"
   ]
  },
  {
   "cell_type": "code",
   "execution_count": 16,
   "metadata": {},
   "outputs": [],
   "source": [
    "outputs1 = model(input_tensor.to('cpu')).to('cpu').detach().numpy()"
   ]
  },
  {
   "cell_type": "code",
   "execution_count": 17,
   "metadata": {},
   "outputs": [
    {
     "data": {
      "image/png": "[encoded data removed]",
      "text/plain": [
       "<Figure size 960x720 with 1 Axes>"
      ]
     },
     "metadata": {},
     "output_type": "display_data"
    }
   ],
   "source": [
    "import matplotlib.pyplot as plt\n",
    "\n",
    "plt.hist(yy_sample, bins=\"auto\", color=\"#8da0cb\")\n",
    "plt.hist(outputs1, bins='auto')\n",
    "plt.grid()\n",
    "plt.xlabel(\"$\\mathcal{M}(\\mathbf{X})$\")\n",
    "plt.ylabel(\"Counts [-]\")\n",
    "plt.gcf().set_dpi(150);"
   ]
  },
  {
   "cell_type": "code",
   "execution_count": 18,
   "metadata": {},
   "outputs": [
    {
     "name": "stdout",
     "output_type": "stream",
     "text": [
      "tensor([-0.1681, -0.1831, -0.2649,  0.2397,  0.2784, -0.1982, -0.0231, -0.2752,\n",
      "         0.1648, -0.1681])\n",
      "Parameter containing:\n",
      "tensor([-0.1681, -0.1831, -0.2649,  0.2397,  0.2784, -0.1982, -0.0000, -0.2752,\n",
      "         0.1648, -0.1681], requires_grad=True)\n",
      "tensor([[ 0.3013, -0.2984, -0.1071,  0.2355,  0.1434, -0.1974, -0.0383,  0.1938],\n",
      "        [-0.2554, -0.2733,  0.2589,  0.2854,  0.0395, -0.2603, -0.1357,  0.0570],\n",
      "        [-0.4391, -0.1167,  0.3081,  0.2235, -0.3743, -0.0897,  0.3044,  0.0304],\n",
      "        [ 0.0089,  0.0794, -0.2836,  0.2598,  0.1625, -0.2838,  0.3312,  0.2005],\n",
      "        [-0.1152, -0.2194,  0.2123,  0.0714,  0.3672, -0.3091, -0.2791,  0.0957],\n",
      "        [ 0.1430, -0.3211, -0.3925,  0.3216, -0.2775,  0.1282,  0.2250, -0.2203],\n",
      "        [-0.3354, -0.1164, -0.0690, -0.3605,  0.0652, -0.0378,  0.2035,  0.1111],\n",
      "        [ 0.1975,  0.2503,  0.2023,  0.2287, -0.2466,  0.1503,  0.1486, -0.0475],\n",
      "        [ 0.2467,  0.0749, -0.0768, -0.0467, -0.1081, -0.2026, -0.1386, -0.3080],\n",
      "        [ 0.0028,  0.0831,  0.0383, -0.0012, -0.0474,  0.0999, -0.1459, -0.3484]])\n",
      "Parameter containing:\n",
      "tensor([[ 0.3013, -0.2984, -0.1071,  0.2355,  0.1434, -0.1974, -0.0000,  0.1938],\n",
      "        [-0.2554, -0.2733,  0.2589,  0.2854,  0.0000, -0.2603, -0.1357,  0.0000],\n",
      "        [-0.4391, -0.1167,  0.3081,  0.2235, -0.3743, -0.0000,  0.3044,  0.0000],\n",
      "        [ 0.0000,  0.0000, -0.2836,  0.2598,  0.1625, -0.2838,  0.3312,  0.2005],\n",
      "        [-0.1152, -0.2194,  0.2123,  0.0000,  0.3672, -0.3091, -0.2791,  0.0000],\n",
      "        [ 0.1430, -0.3211, -0.3925,  0.3216, -0.2775,  0.1282,  0.2250, -0.2203],\n",
      "        [-0.3354, -0.1164, -0.0000, -0.3605,  0.0000, -0.0000,  0.2035,  0.1111],\n",
      "        [ 0.1975,  0.2503,  0.2023,  0.2287, -0.2466,  0.1503,  0.1486, -0.0000],\n",
      "        [ 0.2467,  0.0000, -0.0000, -0.0000, -0.1081, -0.2026, -0.1386, -0.3080],\n",
      "        [ 0.0000,  0.0000,  0.0000, -0.0000, -0.0000,  0.0000, -0.1459, -0.3484]],\n",
      "       requires_grad=True)\n",
      "tensor([[ 0.2541,  0.1997, -0.0615, -0.0152,  0.1291, -0.2617,  0.2005,  0.2008],\n",
      "        [ 0.0840,  0.1385,  0.1703,  0.0293,  0.2567,  0.1037,  0.0109, -0.3343],\n",
      "        [ 0.2120,  0.0109, -0.2824,  0.3810, -0.2496,  0.3296, -0.2137,  0.1703],\n",
      "        [ 0.1510, -0.2900, -0.0646, -0.0967, -0.2217,  0.2720, -0.3080,  0.0810],\n",
      "        [ 0.0831, -0.1377, -0.2033,  0.2879, -0.0277,  0.2397, -0.3394,  0.0968],\n",
      "        [ 0.2592, -0.2988,  0.0364, -0.0217,  0.1443,  0.2432,  0.1262,  0.0372],\n",
      "        [ 0.2598,  0.0798,  0.2360,  0.3586, -0.2637, -0.0517, -0.2625,  0.1331],\n",
      "        [-0.1158, -0.0672,  0.0629, -0.0731,  0.0919, -0.2654, -0.2392, -0.1193],\n",
      "        [-0.0829, -0.2648, -0.3007,  0.2113,  0.3317,  0.0457, -0.1469, -0.1979],\n",
      "        [ 0.0341, -0.0513, -0.2961, -0.1821, -0.2868, -0.1912, -0.2977, -0.1644]])\n",
      "Parameter containing:\n",
      "tensor([[ 0.2541,  0.1997, -0.0000, -0.0000,  0.1291, -0.2617,  0.2005,  0.2008],\n",
      "        [ 0.0000,  0.1385,  0.1703,  0.0000,  0.2567,  0.1037,  0.0000, -0.3343],\n",
      "        [ 0.2120,  0.0000, -0.2824,  0.3810, -0.2496,  0.3296, -0.2137,  0.1703],\n",
      "        [ 0.1510, -0.2900, -0.0000, -0.0000, -0.2217,  0.2720, -0.3080,  0.0000],\n",
      "        [ 0.0000, -0.1377, -0.2033,  0.2879, -0.0000,  0.2397, -0.3394,  0.0000],\n",
      "        [ 0.2592, -0.2988,  0.0000, -0.0000,  0.1443,  0.2432,  0.1262,  0.0000],\n",
      "        [ 0.2598,  0.0000,  0.2360,  0.3586, -0.2637, -0.0000, -0.2625,  0.1331],\n",
      "        [-0.1158, -0.0000,  0.0000, -0.0000,  0.0000, -0.2654, -0.2392, -0.1193],\n",
      "        [-0.0000, -0.2648, -0.3007,  0.2113,  0.3317,  0.0000, -0.1469, -0.1979],\n",
      "        [ 0.0000, -0.0000, -0.2961, -0.1821, -0.2868, -0.1912, -0.2977, -0.1644]],\n",
      "       requires_grad=True)\n",
      "tensor([[-0.2625, -0.2930,  0.1612, -0.2868,  0.3574, -0.2249, -0.1067,  0.0807],\n",
      "        [-0.2345,  0.0165, -0.1375, -0.3147, -0.0704,  0.2447,  0.0061, -0.1047],\n",
      "        [-0.0431,  0.2362,  0.3290, -0.2366, -0.0668, -0.3065, -0.0456,  0.0556],\n",
      "        [ 0.1788, -0.2815, -0.1523,  0.0370,  0.0061,  0.3722, -0.3029, -0.1956],\n",
      "        [-0.1930, -0.2154, -0.1177,  0.0012, -0.0934, -0.2112,  0.0907, -0.1124],\n",
      "        [ 0.0955,  0.2056, -0.1749,  0.2624, -0.0442, -0.0609,  0.0848, -0.2042],\n",
      "        [-0.3215, -0.0276, -0.0302, -0.1146, -0.1468, -0.0663,  0.0192,  0.0241],\n",
      "        [ 0.2024,  0.0820, -0.2786,  0.1213,  0.2051,  0.0313, -0.1215,  0.1448],\n",
      "        [-0.3358,  0.3211, -0.3623, -0.0330,  0.0634,  0.3018, -0.1738, -0.2631],\n",
      "        [ 0.3936, -0.0140,  0.0739, -0.1297,  0.1666, -0.2166,  0.2364, -0.0776]])\n",
      "Parameter containing:\n",
      "tensor([[-0.2625, -0.2930,  0.1612, -0.2868,  0.3574, -0.2249, -0.1067,  0.0000],\n",
      "        [-0.2345,  0.0000, -0.1375, -0.3147, -0.0000,  0.2447,  0.0000, -0.1047],\n",
      "        [-0.0000,  0.2362,  0.3290, -0.2366, -0.0000, -0.3065, -0.0000,  0.0000],\n",
      "        [ 0.1788, -0.2815, -0.1523,  0.0000,  0.0000,  0.3722, -0.3029, -0.1956],\n",
      "        [-0.1930, -0.2154, -0.1177,  0.0000, -0.0000, -0.2112,  0.0000, -0.1124],\n",
      "        [ 0.0000,  0.2056, -0.1749,  0.2624, -0.0000, -0.0000,  0.0000, -0.2042],\n",
      "        [-0.3215, -0.0000, -0.0000, -0.1146, -0.1468, -0.0000,  0.0000,  0.0000],\n",
      "        [ 0.2024,  0.0000, -0.2786,  0.1213,  0.2051,  0.0000, -0.1215,  0.1448],\n",
      "        [-0.3358,  0.3211, -0.3623, -0.0000,  0.0000,  0.3018, -0.1738, -0.2631],\n",
      "        [ 0.3936, -0.0000,  0.0000, -0.1297,  0.1666, -0.2166,  0.2364, -0.0000]],\n",
      "       requires_grad=True)\n",
      "tensor([[ 0.2445,  0.2242,  0.0417,  0.0929, -0.1525, -0.1850,  0.3679,  0.0517,\n",
      "          0.1864,  0.1002]])\n",
      "Parameter containing:\n",
      "tensor([[ 0.2445,  0.2242,  0.0000,  0.0000, -0.1525, -0.1850,  0.3679,  0.0000,\n",
      "          0.1864,  0.1002]], requires_grad=True)\n",
      "tensor([0.2425])\n",
      "Parameter containing:\n",
      "tensor([0.2425], requires_grad=True)\n"
     ]
    },
    {
     "data": {
      "text/plain": [
       "<All keys matched successfully>"
      ]
     },
     "execution_count": 18,
     "metadata": {},
     "output_type": "execute_result"
    }
   ],
   "source": [
    "state_dict = model.state_dict()\n",
    "for name, p in model.named_parameters():\n",
    "    print(state_dict[name])\n",
    "    mask1 = p > 0.1 \n",
    "    mask2 = p < -0.1\n",
    "    mask3 =  (mask1 | mask2) \n",
    "    p = nn.Parameter(mask3 * p)\n",
    "    state_dict[name] = p\n",
    "    print(state_dict[name])\n",
    "\n",
    "model.load_state_dict(state_dict)"
   ]
  },
  {
   "cell_type": "code",
   "execution_count": 19,
   "metadata": {},
   "outputs": [],
   "source": [
    "num_param = []\n",
    "for name, param in model.named_parameters():\n",
    "    num = torch.count_nonzero(param)\n",
    "    num_param.append(num)\n",
    "\n",
    "after = torch.sum(torch.tensor(num_param))"
   ]
  },
  {
   "cell_type": "code",
   "execution_count": 20,
   "metadata": {},
   "outputs": [
    {
     "data": {
      "text/plain": [
       "tensor(181)"
      ]
     },
     "execution_count": 20,
     "metadata": {},
     "output_type": "execute_result"
    }
   ],
   "source": [
    "after"
   ]
  },
  {
   "cell_type": "code",
   "execution_count": 21,
   "metadata": {},
   "outputs": [
    {
     "data": {
      "text/plain": [
       "tensor(80)"
      ]
     },
     "execution_count": 21,
     "metadata": {},
     "output_type": "execute_result"
    }
   ],
   "source": [
    "(before - after)"
   ]
  },
  {
   "cell_type": "code",
   "execution_count": 22,
   "metadata": {},
   "outputs": [],
   "source": [
    "def prod_multi_index(mi1, mi2):\n",
    "    sum_list = []\n",
    "    for i in mi2:\n",
    "        tile = np.tile(i, (len(mi1),1))\n",
    "        sum = mi1 + tile\n",
    "        sum_list = sum_list + [sum]\n",
    "        sum_array = np.vstack(tuple(sum_list))\n",
    "        mi3 = np.unique(np.array(sum_array), axis=0)\n",
    "    return mi3"
   ]
  },
  {
   "cell_type": "code",
   "execution_count": null,
   "metadata": {},
   "outputs": [],
   "source": [
    "def prod_multi_index2(mi1, mi2):\n",
    "    sum_list = []\n",
    "    for i in mi2:\n",
    "        sum = mi1 + i\n",
    "        sum_list.append(sum)\n",
    "    sum_array = np.vstack(tuple(sum_list))\n",
    "    mi3 = np.unique(np.array(sum_array), axis=0)\n",
    "    return mi3"
   ]
  },
  {
   "cell_type": "code",
   "execution_count": 23,
   "metadata": {},
   "outputs": [],
   "source": [
    "def add_multi_index(mi1, mi2):\n",
    "    mi3 = np.unique(np.vstack((mi1, mi2)), axis=0)\n",
    "    return mi3"
   ]
  },
  {
   "cell_type": "code",
   "execution_count": 24,
   "metadata": {},
   "outputs": [],
   "source": [
    "if isinstance(model, CP):\n",
    "   sparse_param = []\n",
    "   for name, p in model.named_parameters():  \n",
    "      if len(p.shape) == 2:\n",
    "         #print(p.shape)\n",
    "         if p.shape[0] == RANK and p.shape[1] == IN_DIM:\n",
    "            sparse_param = sparse_param + [p]\n",
    "      "
   ]
  },
  {
   "cell_type": "code",
   "execution_count": 25,
   "metadata": {},
   "outputs": [],
   "source": [
    "if isinstance(model, CP):\n",
    "    sparse_mi = []\n",
    "    for i in sparse_param:\n",
    "        ind = torch.where(i[0] == 0)[0].to('cpu').detach().numpy()\n",
    "        mi_w = np.eye(i.shape[1])\n",
    "        mi_w_s = np.delete(mi_w, ind, 0)\n",
    "        sparse_mi = sparse_mi + [mi_w_s]\n"
   ]
  },
  {
   "cell_type": "code",
   "execution_count": 26,
   "metadata": {},
   "outputs": [],
   "source": [
    "if isinstance(model, CP):\n",
    "    mi_s = sparse_mi[0]\n",
    "    for i in range(1, len(sparse_mi)):\n",
    "        mi1 = sparse_mi[i]\n",
    "        mi_s = add_multi_index(prod_multi_index(mi_s, mi1), mi_s)"
   ]
  },
  {
   "cell_type": "code",
   "execution_count": 27,
   "metadata": {},
   "outputs": [
    {
     "data": {
      "text/plain": [
       "False"
      ]
     },
     "execution_count": 27,
     "metadata": {},
     "output_type": "execute_result"
    }
   ],
   "source": [
    "isinstance(model, CP)"
   ]
  },
  {
   "cell_type": "code",
   "execution_count": 28,
   "metadata": {},
   "outputs": [],
   "source": [
    "if isinstance(model, Chebyshev):\n",
    "   sparse_param = []\n",
    "   for name, p in model.named_parameters():  \n",
    "      if len(p.shape) == 2:\n",
    "         #print(p.shape)\n",
    "         if p.shape[0] == RANK and p.shape[1] == IN_DIM:\n",
    "            sparse_param = sparse_param + [p]\n",
    "      "
   ]
  },
  {
   "cell_type": "code",
   "execution_count": 29,
   "metadata": {},
   "outputs": [],
   "source": [
    "if isinstance(model, Chebyshev):\n",
    "    sparse_mi = []\n",
    "    for i in sparse_param:\n",
    "        ind = torch.where(i[0] == 0)[0].to('cpu').detach().numpy()\n",
    "        mi_w = np.eye(i.shape[1])\n",
    "        mi_w_s = np.delete(mi_w, ind, 0)\n",
    "        sparse_mi = sparse_mi + [mi_w_s]\n"
   ]
  },
  {
   "cell_type": "code",
   "execution_count": 30,
   "metadata": {},
   "outputs": [],
   "source": [
    "if isinstance(model, Chebyshev):\n",
    "    mi_s = sparse_mi[0]\n",
    "    for i in range(1, len(sparse_mi)):\n",
    "        mi1 = sparse_mi[i]\n",
    "        mi_s = add_multi_index(prod_multi_index(mi_s, mi1), mi_s)"
   ]
  },
  {
   "cell_type": "code",
   "execution_count": 31,
   "metadata": {},
   "outputs": [],
   "source": [
    "if isinstance(model, Chebyshev):\n",
    "    mi_s1 = sparse_mi[0]\n",
    "    for i in range(1, len(sparse_mi)):\n",
    "        mi1 = sparse_mi[i]\n",
    "        mi_s = add_multi_index(prod_multi_index(mi_s, mi1), mi_s)"
   ]
  },
  {
   "cell_type": "code",
   "execution_count": 32,
   "metadata": {},
   "outputs": [],
   "source": [
    "outputs2 = model(input_tensor.to('cpu')).to('cpu').detach().numpy()"
   ]
  },
  {
   "cell_type": "code",
   "execution_count": 33,
   "metadata": {},
   "outputs": [
    {
     "data": {
      "image/png": "[encoded data removed]",
      "text/plain": [
       "<Figure size 960x720 with 1 Axes>"
      ]
     },
     "metadata": {},
     "output_type": "display_data"
    }
   ],
   "source": [
    "import matplotlib.pyplot as plt\n",
    "\n",
    "plt.hist(yy_sample, bins=\"auto\", color=\"#8da0cb\")\n",
    "plt.hist(outputs2, bins='auto')\n",
    "plt.hist(outputs1, bins='auto')\n",
    "plt.grid()\n",
    "plt.xlabel(\"$\\mathcal{M}(\\mathbf{X})$\")\n",
    "plt.ylabel(\"Counts [-]\")\n",
    "plt.gcf().set_dpi(150);"
   ]
  },
  {
   "cell_type": "code",
   "execution_count": 34,
   "metadata": {},
   "outputs": [],
   "source": [
    "out1_inv = target_scaler.inverse_transform(outputs1) \n",
    "out2_inv = target_scaler.inverse_transform(outputs2) "
   ]
  },
  {
   "cell_type": "code",
   "execution_count": 35,
   "metadata": {},
   "outputs": [],
   "source": [
    "average_error = np.mean(out1_inv - out2_inv)"
   ]
  },
  {
   "cell_type": "code",
   "execution_count": 36,
   "metadata": {},
   "outputs": [
    {
     "data": {
      "text/plain": [
       "-0.21941324"
      ]
     },
     "execution_count": 36,
     "metadata": {},
     "output_type": "execute_result"
    }
   ],
   "source": [
    "average_error"
   ]
  },
  {
   "cell_type": "code",
   "execution_count": 37,
   "metadata": {},
   "outputs": [
    {
     "data": {
      "text/plain": [
       "72.94882935911545"
      ]
     },
     "execution_count": 37,
     "metadata": {},
     "output_type": "execute_result"
    }
   ],
   "source": [
    "np.mean(target_scaler.inverse_transform(yy_sample))"
   ]
  },
  {
   "cell_type": "code",
   "execution_count": 38,
   "metadata": {},
   "outputs": [],
   "source": [
    "mse = ((out1_inv - out2_inv)**2).mean(axis = 0)"
   ]
  },
  {
   "cell_type": "code",
   "execution_count": 39,
   "metadata": {},
   "outputs": [
    {
     "data": {
      "text/plain": [
       "array([108.29335], dtype=float32)"
      ]
     },
     "execution_count": 39,
     "metadata": {},
     "output_type": "execute_result"
    }
   ],
   "source": [
    "mse"
   ]
  },
  {
   "cell_type": "code",
   "execution_count": 40,
   "metadata": {},
   "outputs": [
    {
     "data": {
      "text/plain": [
       "Chebyshev(\n",
       "  (T1): Linear(in_features=8, out_features=10, bias=False)\n",
       "  (T2): Linear(in_features=8, out_features=10, bias=False)\n",
       "  (T3): Linear(in_features=8, out_features=10, bias=False)\n",
       "  (layer_C): Linear(in_features=10, out_features=1, bias=True)\n",
       ")"
      ]
     },
     "execution_count": 40,
     "metadata": {},
     "output_type": "execute_result"
    }
   ],
   "source": [
    "model.to(device)"
   ]
  },
  {
   "cell_type": "markdown",
   "metadata": {},
   "source": [
    "https://github.com/polynomial-nets/tutorial-2022-intro-polynomial-nets/blob/master/pytorch/Minimum_example_pytorch.ipynb"
   ]
  },
  {
   "cell_type": "code",
   "execution_count": 41,
   "metadata": {},
   "outputs": [],
   "source": [
    "class Chebyshev(nn.Module):\n",
    "    def __init__(self, degree, d, k, o):\n",
    "        super(Chebyshev, self).__init__()        \n",
    "     \n",
    "        self.input_dimension = d \n",
    "        self.rank = k\n",
    "        self.output_dimension = o \n",
    "        self.degree = int(degree)\n",
    "        self.T0 = nn.Linear(k, 1).weight.to(torch.float32)[0]\n",
    "        for i in range(1, self.degree + 1):\n",
    "            setattr(self, 'T{}'.format(i), nn.Linear(self.input_dimension, self.rank, bias=False)) \n",
    "\n",
    "        self.layer_C = nn.Linear(self.rank, self.output_dimension) \n",
    "\n",
    "\n",
    "    def forward(self, z):\n",
    "        z = z.reshape(-1, self.input_dimension)\n",
    "        out0 = self.T0\n",
    "        out1 = self.T1(z)\n",
    "        out_list = [out0] + [out1]\n",
    "        for i in range(2, self.degree + 1, 2):\n",
    "            print(i)\n",
    "            out0 = getattr(self, 'T{}'.format(i))(z) * 2 * out1 - out0\n",
    "            out_list = out_list + [out0]\n",
    "            if i == self.degree:\n",
    "                print(i)\n",
    "                x = self.layer_C(out_list[self.degree])\n",
    "                return x, out_list\n",
    "            else:\n",
    "                print(i + 1)\n",
    "                out1 = getattr(self, 'T{}'.format(i + 1))(z) * 2 * out0 - out1\n",
    "                out_list = out_list + [out1]\n",
    "        x = self.layer_C(out_list[self.degree])\n",
    "        return x, out_list"
   ]
  },
  {
   "cell_type": "code",
   "execution_count": 42,
   "metadata": {},
   "outputs": [],
   "source": [
    "cheby =  Chebyshev(16,2,8,2)"
   ]
  }
 ],
 "metadata": {
  "kernelspec": {
   "display_name": "pytorch",
   "language": "python",
   "name": "python3"
  },
  "language_info": {
   "codemirror_mode": {
    "name": "ipython",
    "version": 3
   },
   "file_extension": ".py",
   "mimetype": "text/x-python",
   "name": "python",
   "nbconvert_exporter": "python",
   "pygments_lexer": "ipython3",
   "version": "3.10.9"
  },
  "orig_nbformat": 4,
  "vscode": {
   "interpreter": {
    "hash": "542851ebc7f1b97dab2659843c1270f7c570d916e83d4380bfc02112104e2680"
   }
  }
 },
 "nbformat": 4,
 "nbformat_minor": 2
}
